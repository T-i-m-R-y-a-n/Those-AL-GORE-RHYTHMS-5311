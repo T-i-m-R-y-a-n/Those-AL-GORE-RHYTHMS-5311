{
 "cells": [
  {
   "cell_type": "markdown",
   "id": "fdb33522",
   "metadata": {},
   "source": [
    "Tim Ryan (1000196736)\n",
    "CSE 5311\n",
    "Hands on ith quicksort\n",
    "Oct. 15, 2024\n",
    "\n",
    "SPECS Microsoft Windows OS, Lenovo x64-based laptop, Processor :Intel(R) Core(TM) i5-10210U CPU @ 1.60GHz, 2112 Mhz, 4 Core(s), 8 Logical Processor(s), Installed Physical Memory (RAM) 16.0 GB, Available Virtual Memory 11.4 GB I ran a Python3 kernel on jupyter notebook on google chrome browswer."
   ]
  },
  {
   "cell_type": "code",
   "execution_count": 1,
   "id": "2ed5de78",
   "metadata": {},
   "outputs": [],
   "source": [
    "import numpy as np"
   ]
  },
  {
   "cell_type": "code",
   "execution_count": 2,
   "id": "bf42b902",
   "metadata": {},
   "outputs": [],
   "source": [
    "def lastPartition(arr,p,r):\n",
    "    x = arr[r]\n",
    "    i = p-1\n",
    "    for j in range(p, r):\n",
    "        if arr[j] <= x:\n",
    "            i = i+1\n",
    "            arr[i], arr[j] = arr[j], arr[i]\n",
    "    arr[i+1], arr[r] = arr[r], arr[i+1]\n",
    "    return i + 1\n"
   ]
  },
  {
   "cell_type": "code",
   "execution_count": 3,
   "id": "7fb2be05",
   "metadata": {},
   "outputs": [],
   "source": [
    "def randPartition(arr, p, r):\n",
    "    n = np.random.randint(p,r)\n",
    "    arr[n], arr[r] = arr[r],arr[n]\n",
    "    return lastPartition(arr, p, r)"
   ]
  },
  {
   "cell_type": "code",
   "execution_count": 4,
   "id": "ea431e13",
   "metadata": {},
   "outputs": [],
   "source": [
    "def randomizedSelect(arr, p, r, i):\n",
    "    if p == r :\n",
    "        return arr[r]\n",
    "    q = randPartition(arr, p, r)\n",
    "    k = q - p + 1\n",
    "    if i == k:\n",
    "        return arr[q]\n",
    "    elif i < k :\n",
    "        randomizedSelect(arr, p, q-1, i)\n",
    "    else:\n",
    "        randomizedSelect(arr, q + 1, r, i - k)\n",
    "    return arr[i]"
   ]
  },
  {
   "cell_type": "code",
   "execution_count": 5,
   "id": "59d5865c",
   "metadata": {},
   "outputs": [
    {
     "data": {
      "text/plain": [
       "4"
      ]
     },
     "execution_count": 5,
     "metadata": {},
     "output_type": "execute_result"
    }
   ],
   "source": [
    "randomizedSelect([11,3,7,9,0,4,6,55,8,-2],0,9,3)"
   ]
  },
  {
   "cell_type": "code",
   "execution_count": 6,
   "id": "0ba94e40",
   "metadata": {},
   "outputs": [
    {
     "data": {
      "text/plain": [
       "9"
      ]
     },
     "execution_count": 6,
     "metadata": {},
     "output_type": "execute_result"
    }
   ],
   "source": [
    "randomizedSelect([11,3,7,9,0,4,6,55,8,-2, 12, 22],0,11,8)"
   ]
  },
  {
   "cell_type": "markdown",
   "id": "569f82a3",
   "metadata": {},
   "source": [
    "stack and queue with numpy arrays"
   ]
  },
  {
   "cell_type": "code",
   "execution_count": 7,
   "id": "0761811d",
   "metadata": {},
   "outputs": [],
   "source": [
    "class StackStack():    \n",
    "    def __init__(self, n):\n",
    "        self.stack = np.empty(n)\n",
    "        self.top = -1\n",
    "    def StackEmpty(self):\n",
    "        if self.top == -1:\n",
    "            return true\n",
    "        return false\n",
    "    def sPush(self, x):\n",
    "        if self.top < np.size(self.stack) - 1:\n",
    "            self.stack[self.top + 1] = x\n",
    "            self.top = self.top + 1\n",
    "    def sPop(self):\n",
    "        if StackEmpty(self):\n",
    "            return \"empty\"\n",
    "        z = self.stack[top]\n",
    "        self.top = self.top - 1\n",
    "        return self\n",
    "    "
   ]
  },
  {
   "cell_type": "code",
   "execution_count": 8,
   "id": "ed8fe2d5",
   "metadata": {},
   "outputs": [],
   "source": [
    "s = StackStack(3)\n",
    "s.sPush(5)"
   ]
  },
  {
   "cell_type": "code",
   "execution_count": 9,
   "id": "49783fa0",
   "metadata": {},
   "outputs": [
    {
     "name": "stdout",
     "output_type": "stream",
     "text": [
      "<__main__.StackStack object at 0x0000022D8D184990>\n"
     ]
    }
   ],
   "source": [
    "print(s)"
   ]
  }
 ],
 "metadata": {
  "kernelspec": {
   "display_name": "Python 3 (ipykernel)",
   "language": "python",
   "name": "python3"
  },
  "language_info": {
   "codemirror_mode": {
    "name": "ipython",
    "version": 3
   },
   "file_extension": ".py",
   "mimetype": "text/x-python",
   "name": "python",
   "nbconvert_exporter": "python",
   "pygments_lexer": "ipython3",
   "version": "3.11.5"
  }
 },
 "nbformat": 4,
 "nbformat_minor": 5
}

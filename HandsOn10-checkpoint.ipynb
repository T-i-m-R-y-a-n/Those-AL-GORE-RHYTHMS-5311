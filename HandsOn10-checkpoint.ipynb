{
 "cells": [
  {
   "cell_type": "markdown",
   "id": "190c8ec2",
   "metadata": {},
   "source": [
    "Tim Ryan\n",
    "1000196736\n",
    "Hands on 10- bin search, red black, avl trees\n",
    "Jupyter notebook using python"
   ]
  },
  {
   "cell_type": "markdown",
   "id": "f26fcf39",
   "metadata": {},
   "source": [
    "BST:"
   ]
  },
  {
   "cell_type": "code",
   "execution_count": 1,
   "id": "36e1e480",
   "metadata": {},
   "outputs": [],
   "source": [
    "class Node():\n",
    "    def __init__(self, key):  # data not used\n",
    "        self.key = key\n",
    "        # self.data = data (not used)\n",
    "        self.parent = None\n",
    "        self.left = None\n",
    "        self.right = None\n",
    "class BST():\n",
    "    def __init__(self):\n",
    "        self.root = None\n",
    "        # self.size = 0\n",
    "    def inoPrint(self, node):\n",
    "        if node is not None:\n",
    "            self.inoPrint(node.left)\n",
    "            print(node.key , \" \")\n",
    "            self.inoPrint(node.right)\n",
    "    def search(self, k):\n",
    "        \"\"\"  recursive\n",
    "        if (node == None) or (node.key == k):\n",
    "            return node\n",
    "        if k < self.key:\n",
    "            return search(node.left, k)\n",
    "        else:\n",
    "            return search(node.right, k)\n",
    "        \"\"\"\n",
    "        node = self.root\n",
    "        while (node) and (k != node.key):\n",
    "            if k < node.key:\n",
    "                node = node.left\n",
    "            else:\n",
    "                node = node.right\n",
    "        if node and node.key == k:\n",
    "            print(\"node found.\", \"parent is \" , node.parent.key)\n",
    "            return node\n",
    "        else:\n",
    "            print(\"node not found\")\n",
    "            return\n",
    "    def insert(self, key):\n",
    "        node = Node(key)\n",
    "        y = None\n",
    "        if self.root is None:\n",
    "            self.root = node\n",
    "            return\n",
    "        else:\n",
    "            curr = self.root\n",
    "            while curr:\n",
    "                if curr.key > node.key:\n",
    "                    if not curr.left:\n",
    "                        curr.left = node\n",
    "                        curr.left.parent = curr\n",
    "                        return\n",
    "                    curr = curr.left\n",
    "                else:\n",
    "                    if not curr.right:\n",
    "                        curr.right = node\n",
    "                        curr.right.parent = curr\n",
    "                        return\n",
    "                    curr = curr.right\n",
    "    def treeMin(self, node):\n",
    "        curr = node\n",
    "        while curr.left:\n",
    "            curr = curr.left\n",
    "        return curr\n",
    "    def treeMax(self, node):\n",
    "        curr = node\n",
    "        while curr.right:\n",
    "            curr = curr.right\n",
    "        return curr\n",
    "    def succTree(self, node):\n",
    "        if node.right is not None:\n",
    "            return treeMin(node.right)\n",
    "        succ = node.parent\n",
    "        while succ and node is succ.right:\n",
    "            node = succ\n",
    "            succ = succ.parent\n",
    "        return succ\n",
    "    def succ(self, k):\n",
    "        k_node = self.search(k)\n",
    "        success = self.succTree(k_node)\n",
    "        print(\"the successor is \" , success.key)\n",
    "    def predTree(self, node):\n",
    "            if node.left is not None:\n",
    "                return self.treeMax(node.left)\n",
    "            pred = node.parent\n",
    "            while pred and node is pred.left:\n",
    "                node = pred\n",
    "                pred = pred.parent\n",
    "            return pred\n",
    "    def pred(self, k):\n",
    "        k_node = self.search(k)\n",
    "        pred = self.predTree(k_node)\n",
    "        print(\"the predecessor is \" , pred.key)"
   ]
  },
  {
   "cell_type": "code",
   "execution_count": 2,
   "id": "dc95fe2a",
   "metadata": {},
   "outputs": [
    {
     "name": "stdout",
     "output_type": "stream",
     "text": [
      "5  \n",
      "______\n",
      "3  \n",
      "5  \n",
      "7  \n",
      "7  \n",
      "9  \n",
      "10  \n",
      "11  \n",
      "______\n",
      "node found. parent is  9\n",
      "node not found\n",
      "<__main__.Node object at 0x000001F72CF2FC10>\n"
     ]
    }
   ],
   "source": [
    "B = BST()\n",
    "B.insert(5)\n",
    "B.inoPrint(B.root)\n",
    "print(\"______\")\n",
    "B.insert(10)\n",
    "B.insert(3)\n",
    "B.insert(11)\n",
    "B.insert(9)\n",
    "B.insert(7)\n",
    "B.insert(7)\n",
    "B.inoPrint(B.root)\n",
    "print(\"______\")\n",
    "B.search(7)\n",
    "B.search(13)\n",
    "print(B.treeMin(B.root))"
   ]
  },
  {
   "cell_type": "code",
   "execution_count": 3,
   "id": "7fc47d11",
   "metadata": {},
   "outputs": [
    {
     "name": "stdout",
     "output_type": "stream",
     "text": [
      "node found. parent is  10\n",
      "the successor is  10\n",
      "node found. parent is  5\n",
      "the successor is  9\n"
     ]
    }
   ],
   "source": [
    "B.succ(9)\n",
    "B.pred(10)"
   ]
  }
 ],
 "metadata": {
  "kernelspec": {
   "display_name": "Python 3 (ipykernel)",
   "language": "python",
   "name": "python3"
  },
  "language_info": {
   "codemirror_mode": {
    "name": "ipython",
    "version": 3
   },
   "file_extension": ".py",
   "mimetype": "text/x-python",
   "name": "python",
   "nbconvert_exporter": "python",
   "pygments_lexer": "ipython3",
   "version": "3.11.5"
  }
 },
 "nbformat": 4,
 "nbformat_minor": 5
}

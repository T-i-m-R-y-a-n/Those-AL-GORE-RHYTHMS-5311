{
 "cells": [
  {
   "cell_type": "markdown",
   "id": "d4379bd2",
   "metadata": {},
   "source": [
    "Tim Ryan (1000196736)\n",
    "CSE 5311\n",
    "Hands on ith quicksort\n",
    "Oct. 15, 2024\n",
    "\n",
    "SPECS Microsoft Windows OS, Lenovo x64-based laptop, Processor :Intel(R) Core(TM) i5-10210U CPU @ 1.60GHz, 2112 Mhz, 4 Core(s), 8 Logical Processor(s), Installed Physical Memory (RAM) 16.0 GB, Available Virtual Memory 11.4 GB I ran a Python3 kernel on jupyter notebook on google chrome browswer."
   ]
  },
  {
   "cell_type": "code",
   "execution_count": 1,
   "id": "c98dd412",
   "metadata": {},
   "outputs": [],
   "source": [
    "import numpy as np"
   ]
  },
  {
   "cell_type": "code",
   "execution_count": 2,
   "id": "a376aeb7",
   "metadata": {},
   "outputs": [],
   "source": [
    "def lastPartition(arr,p,r):\n",
    "    x = arr[r]\n",
    "    i = p-1\n",
    "    for j in range(p, r):\n",
    "        if arr[j] <= x:\n",
    "            i = i+1\n",
    "            arr[i], arr[j] = arr[j], arr[i]\n",
    "    arr[i+1], arr[r] = arr[r], arr[i+1]\n",
    "    return i + 1\n"
   ]
  },
  {
   "cell_type": "code",
   "execution_count": 3,
   "id": "da2172e8",
   "metadata": {},
   "outputs": [],
   "source": [
    "def randPartition(arr, p, r):\n",
    "    n = np.random.randint(p,r)\n",
    "    arr[n], arr[r] = arr[r],arr[n]\n",
    "    return lastPartition(arr, p, r)"
   ]
  },
  {
   "cell_type": "code",
   "execution_count": 4,
   "id": "7435295b",
   "metadata": {},
   "outputs": [],
   "source": [
    "def randomizedSelect(arr, p, r, i):\n",
    "    if p == r :\n",
    "        return arr[r]\n",
    "    q = randPartition(arr, p, r)\n",
    "    k = q - p + 1\n",
    "    if i == k:\n",
    "        return arr[q]\n",
    "    elif i < k :\n",
    "        randomizedSelect(arr, p, q-1, i)\n",
    "    else:\n",
    "        randomizedSelect(arr, q + 1, r, i - k)\n",
    "    return arr[i]"
   ]
  },
  {
   "cell_type": "code",
   "execution_count": 5,
   "id": "078a0c92",
   "metadata": {},
   "outputs": [
    {
     "data": {
      "text/plain": [
       "4"
      ]
     },
     "execution_count": 5,
     "metadata": {},
     "output_type": "execute_result"
    }
   ],
   "source": [
    "randomizedSelect([11,3,7,9,0,4,6,55,8,-2],0,9,3)"
   ]
  },
  {
   "cell_type": "code",
   "execution_count": 6,
   "id": "5a9d7712",
   "metadata": {},
   "outputs": [
    {
     "data": {
      "text/plain": [
       "11"
      ]
     },
     "execution_count": 6,
     "metadata": {},
     "output_type": "execute_result"
    }
   ],
   "source": [
    "randomizedSelect([11,3,7,9,0,4,6,55,8,-2, 12, 22],0,11,8)"
   ]
  },
  {
   "cell_type": "markdown",
   "id": "ebfe1b51",
   "metadata": {},
   "source": [
    "stack and queue with numpy arrays"
   ]
  },
  {
   "cell_type": "code",
   "execution_count": 7,
   "id": "d985c6bd",
   "metadata": {},
   "outputs": [],
   "source": [
    "class StackStack():    \n",
    "    def __init__(self, n):\n",
    "        self.stack = np.empty(n, dtype= int)\n",
    "        self.top = -1\n",
    "    def StackEmpty(self):\n",
    "        if self.top == -1:\n",
    "            return True\n",
    "        return False\n",
    "    def sPush(self, x):\n",
    "        if self.top < np.size(self.stack) - 1:\n",
    "            self.stack[self.top + 1] = x\n",
    "            self.top = self.top + 1\n",
    "        else:\n",
    "            raise ValueError(\"overflow\")\n",
    "    def sPop(self):\n",
    "        if self.StackEmpty():\n",
    "            return \"underflow\"\n",
    "        z = self.stack[self.top]\n",
    "        self.stack[self.top] = 0\n",
    "        self.top = self.top - 1\n",
    "        return z\n",
    "    "
   ]
  },
  {
   "cell_type": "code",
   "execution_count": 8,
   "id": "66ac31a7",
   "metadata": {},
   "outputs": [
    {
     "name": "stdout",
     "output_type": "stream",
     "text": [
      "[          5      393216 -1096283704]\n",
      "[          5           5 -1096283704]\n",
      "[5 5 5]\n"
     ]
    },
    {
     "ename": "ValueError",
     "evalue": "overflow",
     "output_type": "error",
     "traceback": [
      "\u001b[1;31m---------------------------------------------------------------------------\u001b[0m",
      "\u001b[1;31mValueError\u001b[0m                                Traceback (most recent call last)",
      "Cell \u001b[1;32mIn[8], line 8\u001b[0m\n\u001b[0;32m      6\u001b[0m s\u001b[38;5;241m.\u001b[39msPush(\u001b[38;5;241m5\u001b[39m)\n\u001b[0;32m      7\u001b[0m \u001b[38;5;28mprint\u001b[39m(s\u001b[38;5;241m.\u001b[39mstack)\n\u001b[1;32m----> 8\u001b[0m s\u001b[38;5;241m.\u001b[39msPush(\u001b[38;5;241m5\u001b[39m)\n\u001b[0;32m      9\u001b[0m \u001b[38;5;28mprint\u001b[39m(s\u001b[38;5;241m.\u001b[39mstack)\n",
      "Cell \u001b[1;32mIn[7], line 14\u001b[0m, in \u001b[0;36mStackStack.sPush\u001b[1;34m(self, x)\u001b[0m\n\u001b[0;32m     12\u001b[0m     \u001b[38;5;28mself\u001b[39m\u001b[38;5;241m.\u001b[39mtop \u001b[38;5;241m=\u001b[39m \u001b[38;5;28mself\u001b[39m\u001b[38;5;241m.\u001b[39mtop \u001b[38;5;241m+\u001b[39m \u001b[38;5;241m1\u001b[39m\n\u001b[0;32m     13\u001b[0m \u001b[38;5;28;01melse\u001b[39;00m:\n\u001b[1;32m---> 14\u001b[0m     \u001b[38;5;28;01mraise\u001b[39;00m \u001b[38;5;167;01mValueError\u001b[39;00m(\u001b[38;5;124m\"\u001b[39m\u001b[38;5;124moverflow\u001b[39m\u001b[38;5;124m\"\u001b[39m)\n",
      "\u001b[1;31mValueError\u001b[0m: overflow"
     ]
    }
   ],
   "source": [
    "s = StackStack(3)\n",
    "s.sPush(5)\n",
    "print(s.stack)\n",
    "s.sPush(5)\n",
    "print(s.stack)\n",
    "s.sPush(5)\n",
    "print(s.stack)\n",
    "s.sPush(5)\n",
    "print(s.stack)"
   ]
  },
  {
   "cell_type": "code",
   "execution_count": null,
   "id": "3cdefcbb",
   "metadata": {},
   "outputs": [],
   "source": [
    "print(s.stack)\n",
    "print(s.sPop())\n",
    "print(s.stack)\n",
    "s.sPush(5)\n",
    "print(s.stack)\n",
    "print(s.sPop())\n",
    "print(s.stack)\n",
    "\n",
    "print(s.sPop())\n",
    "print(s.stack)\n",
    "\n",
    "print(s.sPop())\n",
    "print(s.stack)\n",
    "\n",
    "print(s.sPop())\n",
    "print(s.stack)"
   ]
  },
  {
   "cell_type": "code",
   "execution_count": 13,
   "id": "61c0f6a9",
   "metadata": {},
   "outputs": [],
   "source": [
    "class queueQ():\n",
    "    def __init__(self, n):\n",
    "        self.queue = np.zeros(n, dtype= int)\n",
    "        self.head = 0\n",
    "        self.tail = 0\n",
    "        self.n = n\n",
    "        self.nums = 0\n",
    "    def enq(self, x):\n",
    "        if (self.nums == self.n):\n",
    "            raise ValueError(\"overflow\")\n",
    "        if (self.nums == 0):\n",
    "            self.head = 0\n",
    "            self.queue[self.head] = x\n",
    "            self.tail = 0\n",
    "        else:\n",
    "            if self.tail == np.size(self.queue) - 1:\n",
    "                self.tail = 0\n",
    "            else:\n",
    "                self.tail = self.tail + 1\n",
    "            self.queue[self.tail] = x\n",
    "        self.nums = self.nums + 1\n",
    "    def deq(self):\n",
    "        if (self.nums == 0):\n",
    "            raise ValueError(\"underflow\")\n",
    "        x = self.queue[self.head]\n",
    "        self.queue[self.head] = 0\n",
    "        if self.head==np.size(self.queue)-1:\n",
    "            self.head = 0\n",
    "        else:\n",
    "            self.head = self.head + 1\n",
    "        self.nums = self.nums - 1\n",
    "        return x"
   ]
  },
  {
   "cell_type": "code",
   "execution_count": 19,
   "id": "62f72d5a",
   "metadata": {},
   "outputs": [
    {
     "name": "stdout",
     "output_type": "stream",
     "text": [
      "head  0  tail  0\n",
      "head  0  tail  0\n",
      "[1 0 0]\n",
      "head  0  tail  1\n",
      "[1 2 0]\n",
      "head  0  tail  2\n",
      "[1 2 3]\n",
      "head  0  tail  2\n"
     ]
    },
    {
     "ename": "ValueError",
     "evalue": "overflow",
     "output_type": "error",
     "traceback": [
      "\u001b[1;31m---------------------------------------------------------------------------\u001b[0m",
      "\u001b[1;31mValueError\u001b[0m                                Traceback (most recent call last)",
      "Cell \u001b[1;32mIn[19], line 18\u001b[0m\n\u001b[0;32m     15\u001b[0m \u001b[38;5;28mprint\u001b[39m(q\u001b[38;5;241m.\u001b[39mqueue)\n\u001b[0;32m     17\u001b[0m \u001b[38;5;28mprint\u001b[39m(\u001b[38;5;124m\"\u001b[39m\u001b[38;5;124mhead \u001b[39m\u001b[38;5;124m\"\u001b[39m, q\u001b[38;5;241m.\u001b[39mhead ,\u001b[38;5;124m\"\u001b[39m\u001b[38;5;124m tail \u001b[39m\u001b[38;5;124m\"\u001b[39m, q\u001b[38;5;241m.\u001b[39mtail)\n\u001b[1;32m---> 18\u001b[0m q\u001b[38;5;241m.\u001b[39menq(\u001b[38;5;241m4\u001b[39m)\n\u001b[0;32m     19\u001b[0m \u001b[38;5;28mprint\u001b[39m(q\u001b[38;5;241m.\u001b[39mqueue)\n",
      "Cell \u001b[1;32mIn[13], line 10\u001b[0m, in \u001b[0;36mqueueQ.enq\u001b[1;34m(self, x)\u001b[0m\n\u001b[0;32m      8\u001b[0m \u001b[38;5;28;01mdef\u001b[39;00m \u001b[38;5;21menq\u001b[39m(\u001b[38;5;28mself\u001b[39m, x):\n\u001b[0;32m      9\u001b[0m     \u001b[38;5;28;01mif\u001b[39;00m (\u001b[38;5;28mself\u001b[39m\u001b[38;5;241m.\u001b[39mnums \u001b[38;5;241m==\u001b[39m \u001b[38;5;28mself\u001b[39m\u001b[38;5;241m.\u001b[39mn):\n\u001b[1;32m---> 10\u001b[0m         \u001b[38;5;28;01mraise\u001b[39;00m \u001b[38;5;167;01mValueError\u001b[39;00m(\u001b[38;5;124m\"\u001b[39m\u001b[38;5;124moverflow\u001b[39m\u001b[38;5;124m\"\u001b[39m)\n\u001b[0;32m     11\u001b[0m     \u001b[38;5;28;01mif\u001b[39;00m (\u001b[38;5;28mself\u001b[39m\u001b[38;5;241m.\u001b[39mnums \u001b[38;5;241m==\u001b[39m \u001b[38;5;241m0\u001b[39m):\n\u001b[0;32m     12\u001b[0m         \u001b[38;5;28mself\u001b[39m\u001b[38;5;241m.\u001b[39mhead \u001b[38;5;241m=\u001b[39m \u001b[38;5;241m0\u001b[39m\n",
      "\u001b[1;31mValueError\u001b[0m: overflow"
     ]
    }
   ],
   "source": [
    "q = queueQ(3)\n",
    "\n",
    "print(\"head \", q.head ,\" tail \", q.tail)\n",
    "q.enq(1)\n",
    "print(\"head \", q.head ,\" tail \", q.tail)\n",
    "print(q.queue)\n",
    "q.enq(2)\n",
    "\n",
    "print(\"head \", q.head ,\" tail \", q.tail)\n",
    "print(q.queue)\n",
    "\n",
    "q.enq(3)\n",
    "\n",
    "print(\"head \", q.head ,\" tail \", q.tail)\n",
    "print(q.queue)\n",
    "\n",
    "print(\"head \", q.head ,\" tail \", q.tail)\n",
    "q.enq(4)\n",
    "print(q.queue)"
   ]
  },
  {
   "cell_type": "code",
   "execution_count": 20,
   "id": "cb88e373",
   "metadata": {},
   "outputs": [
    {
     "name": "stdout",
     "output_type": "stream",
     "text": [
      "head  0  tail  2\n",
      "[1 2 3]\n",
      "1\n",
      "head  1  tail  2\n",
      "[0 2 3]\n",
      "2\n",
      "head  2  tail  2\n",
      "[0 0 3]\n",
      "3\n",
      "head  0  tail  2\n",
      "[0 0 0]\n"
     ]
    },
    {
     "ename": "ValueError",
     "evalue": "underflow",
     "output_type": "error",
     "traceback": [
      "\u001b[1;31m---------------------------------------------------------------------------\u001b[0m",
      "\u001b[1;31mValueError\u001b[0m                                Traceback (most recent call last)",
      "Cell \u001b[1;32mIn[20], line 15\u001b[0m\n\u001b[0;32m     12\u001b[0m \u001b[38;5;28mprint\u001b[39m(\u001b[38;5;124m\"\u001b[39m\u001b[38;5;124mhead \u001b[39m\u001b[38;5;124m\"\u001b[39m, q\u001b[38;5;241m.\u001b[39m head ,\u001b[38;5;124m\"\u001b[39m\u001b[38;5;124m tail \u001b[39m\u001b[38;5;124m\"\u001b[39m, q\u001b[38;5;241m.\u001b[39mtail)\n\u001b[0;32m     13\u001b[0m \u001b[38;5;28mprint\u001b[39m(q\u001b[38;5;241m.\u001b[39mqueue)\n\u001b[1;32m---> 15\u001b[0m q\u001b[38;5;241m.\u001b[39mdeq()\n\u001b[0;32m     17\u001b[0m \u001b[38;5;28mprint\u001b[39m(\u001b[38;5;124m\"\u001b[39m\u001b[38;5;124mhead \u001b[39m\u001b[38;5;124m\"\u001b[39m, q\u001b[38;5;241m.\u001b[39m head ,\u001b[38;5;124m\"\u001b[39m\u001b[38;5;124m tail \u001b[39m\u001b[38;5;124m\"\u001b[39m, q\u001b[38;5;241m.\u001b[39mtail)\n\u001b[0;32m     18\u001b[0m \u001b[38;5;28mprint\u001b[39m(q\u001b[38;5;241m.\u001b[39mqueue)\n",
      "Cell \u001b[1;32mIn[13], line 24\u001b[0m, in \u001b[0;36mqueueQ.deq\u001b[1;34m(self)\u001b[0m\n\u001b[0;32m     22\u001b[0m \u001b[38;5;28;01mdef\u001b[39;00m \u001b[38;5;21mdeq\u001b[39m(\u001b[38;5;28mself\u001b[39m):\n\u001b[0;32m     23\u001b[0m     \u001b[38;5;28;01mif\u001b[39;00m (\u001b[38;5;28mself\u001b[39m\u001b[38;5;241m.\u001b[39mnums \u001b[38;5;241m==\u001b[39m \u001b[38;5;241m0\u001b[39m):\n\u001b[1;32m---> 24\u001b[0m         \u001b[38;5;28;01mraise\u001b[39;00m \u001b[38;5;167;01mValueError\u001b[39;00m(\u001b[38;5;124m\"\u001b[39m\u001b[38;5;124munderflow\u001b[39m\u001b[38;5;124m\"\u001b[39m)\n\u001b[0;32m     25\u001b[0m     x \u001b[38;5;241m=\u001b[39m \u001b[38;5;28mself\u001b[39m\u001b[38;5;241m.\u001b[39mqueue[\u001b[38;5;28mself\u001b[39m\u001b[38;5;241m.\u001b[39mhead]\n\u001b[0;32m     26\u001b[0m     \u001b[38;5;28mself\u001b[39m\u001b[38;5;241m.\u001b[39mqueue[\u001b[38;5;28mself\u001b[39m\u001b[38;5;241m.\u001b[39mhead] \u001b[38;5;241m=\u001b[39m \u001b[38;5;241m0\u001b[39m\n",
      "\u001b[1;31mValueError\u001b[0m: underflow"
     ]
    }
   ],
   "source": [
    "print(\"head \", q. head ,\" tail \", q.tail)\n",
    "print(q.queue)\n",
    "print(q.deq())\n",
    "print(\"head \", q. head ,\" tail \", q.tail)\n",
    "print(q.queue)\n",
    "print(q.deq())\n",
    "\n",
    "print(\"head \", q. head ,\" tail \", q.tail)\n",
    "print(q.queue)\n",
    "print(q.deq())\n",
    "\n",
    "print(\"head \", q. head ,\" tail \", q.tail)\n",
    "print(q.queue)\n",
    "\n",
    "q.deq()\n",
    "\n",
    "print(\"head \", q. head ,\" tail \", q.tail)\n",
    "print(q.queue)"
   ]
  },
  {
   "cell_type": "code",
   "execution_count": 21,
   "id": "c9c6e5a0",
   "metadata": {},
   "outputs": [
    {
     "name": "stdout",
     "output_type": "stream",
     "text": [
      "head  0  tail  2\n",
      "[0 0 0]\n",
      "head  0  tail  0\n",
      "[1 0 0]\n",
      "head  0  tail  1\n",
      "[1 2 0]\n",
      "head  0  tail  2\n",
      "[1 2 3]\n",
      "head  0  tail  2\n",
      "[1 2 3]\n",
      "1\n",
      "head  1  tail  2\n",
      "[0 2 3]\n",
      "2\n",
      "head  2  tail  2\n",
      "[0 0 3]\n"
     ]
    }
   ],
   "source": [
    "print(\"head \", q.head ,\" tail \", q.tail)\n",
    "print(q.queue)\n",
    "q.enq(1)\n",
    "print(\"head \", q.head ,\" tail \", q.tail)\n",
    "print(q.queue)\n",
    "q.enq(2)\n",
    "\n",
    "print(\"head \", q.head ,\" tail \", q.tail)\n",
    "print(q.queue)\n",
    "\n",
    "q.enq(3)\n",
    "\n",
    "print(\"head \", q.head ,\" tail \", q.tail)\n",
    "print(q.queue)\n",
    "\n",
    "\n",
    "print(\"head \", q. head ,\" tail \", q.tail)\n",
    "print(q.queue)\n",
    "print(q.deq())\n",
    "\n",
    "print(\"head \", q. head ,\" tail \", q.tail)\n",
    "print(q.queue)\n",
    "print(q.deq())\n",
    "print(\"head \", q. head ,\" tail \", q.tail)\n",
    "print(q.queue)\n"
   ]
  },
  {
   "cell_type": "code",
   "execution_count": 22,
   "id": "def52edc",
   "metadata": {},
   "outputs": [
    {
     "name": "stdout",
     "output_type": "stream",
     "text": [
      "head  2  tail  0\n",
      "[1 0 3]\n",
      "head  2  tail  1\n",
      "[1 2 3]\n"
     ]
    },
    {
     "ename": "ValueError",
     "evalue": "overflow",
     "output_type": "error",
     "traceback": [
      "\u001b[1;31m---------------------------------------------------------------------------\u001b[0m",
      "\u001b[1;31mValueError\u001b[0m                                Traceback (most recent call last)",
      "Cell \u001b[1;32mIn[22], line 9\u001b[0m\n\u001b[0;32m      6\u001b[0m \u001b[38;5;28mprint\u001b[39m(\u001b[38;5;124m\"\u001b[39m\u001b[38;5;124mhead \u001b[39m\u001b[38;5;124m\"\u001b[39m, q\u001b[38;5;241m.\u001b[39mhead ,\u001b[38;5;124m\"\u001b[39m\u001b[38;5;124m tail \u001b[39m\u001b[38;5;124m\"\u001b[39m, q\u001b[38;5;241m.\u001b[39mtail)\n\u001b[0;32m      7\u001b[0m \u001b[38;5;28mprint\u001b[39m(q\u001b[38;5;241m.\u001b[39mqueue)\n\u001b[1;32m----> 9\u001b[0m q\u001b[38;5;241m.\u001b[39menq(\u001b[38;5;241m3\u001b[39m)\n",
      "Cell \u001b[1;32mIn[13], line 10\u001b[0m, in \u001b[0;36mqueueQ.enq\u001b[1;34m(self, x)\u001b[0m\n\u001b[0;32m      8\u001b[0m \u001b[38;5;28;01mdef\u001b[39;00m \u001b[38;5;21menq\u001b[39m(\u001b[38;5;28mself\u001b[39m, x):\n\u001b[0;32m      9\u001b[0m     \u001b[38;5;28;01mif\u001b[39;00m (\u001b[38;5;28mself\u001b[39m\u001b[38;5;241m.\u001b[39mnums \u001b[38;5;241m==\u001b[39m \u001b[38;5;28mself\u001b[39m\u001b[38;5;241m.\u001b[39mn):\n\u001b[1;32m---> 10\u001b[0m         \u001b[38;5;28;01mraise\u001b[39;00m \u001b[38;5;167;01mValueError\u001b[39;00m(\u001b[38;5;124m\"\u001b[39m\u001b[38;5;124moverflow\u001b[39m\u001b[38;5;124m\"\u001b[39m)\n\u001b[0;32m     11\u001b[0m     \u001b[38;5;28;01mif\u001b[39;00m (\u001b[38;5;28mself\u001b[39m\u001b[38;5;241m.\u001b[39mnums \u001b[38;5;241m==\u001b[39m \u001b[38;5;241m0\u001b[39m):\n\u001b[0;32m     12\u001b[0m         \u001b[38;5;28mself\u001b[39m\u001b[38;5;241m.\u001b[39mhead \u001b[38;5;241m=\u001b[39m \u001b[38;5;241m0\u001b[39m\n",
      "\u001b[1;31mValueError\u001b[0m: overflow"
     ]
    }
   ],
   "source": [
    "q.enq(1)\n",
    "print(\"head \", q.head ,\" tail \", q.tail)\n",
    "print(q.queue)\n",
    "q.enq(2)\n",
    "\n",
    "print(\"head \", q.head ,\" tail \", q.tail)\n",
    "print(q.queue)\n",
    "\n",
    "q.enq(3)"
   ]
  },
  {
   "cell_type": "code",
   "execution_count": 98,
   "id": "624bc222",
   "metadata": {},
   "outputs": [],
   "source": [
    "class Link():\n",
    "    def __init__(self, data):\n",
    "        self.next = None\n",
    "        self.data = data\n",
    "        \n",
    "class LinkList():\n",
    "    def __init__(self):\n",
    "        self.head = None\n",
    "    def insertFro(self, data):\n",
    "        link = Link(data)\n",
    "        if self.head == None:\n",
    "            self.head = link\n",
    "        else:\n",
    "            link.next = self.head\n",
    "            self.head = link\n",
    "    def insertInd(self, data, ind): #ind = 0 inserts at head\n",
    "        if ind == 0:\n",
    "            self.insertFro(data)\n",
    "            return\n",
    "        curr = self.head\n",
    "        link = Link(data)\n",
    "        while (ind > 1 and curr):\n",
    "            curr = curr.next\n",
    "            ind = ind - 1\n",
    "        if (ind > 2 or (not curr)):\n",
    "            raise ValueError(\"No such index\")\n",
    "            \n",
    "        if curr.next != None:\n",
    "            link.next = curr.next\n",
    "            curr.next = link\n",
    "        else:\n",
    "            link.next = None\n",
    "            curr.next = link\n",
    "    def search(self, x):\n",
    "        curr = self.head\n",
    "        look = x\n",
    "        ind = 0\n",
    "        while(curr):\n",
    "            if curr.data == look:\n",
    "                return ind\n",
    "            if curr.next == None:\n",
    "                return -1\n",
    "            curr = curr.next\n",
    "            ind = ind + 1\n",
    "    def delist(self, x):\n",
    "        look = x\n",
    "        if self.head.data == look:\n",
    "            self.head = self.head.next\n",
    "            return 0\n",
    "        curr = self.head\n",
    "        while(curr):\n",
    "            prev = curr\n",
    "            curr = curr.next\n",
    "            if curr.data == look:\n",
    "                if curr.next == None:\n",
    "                    prev.next = None\n",
    "                else:\n",
    "                    prev.next = curr.next\n",
    "                return 0\n",
    "        raise ValueError(\"item not found\")\n",
    "    def printLi(self):\n",
    "        curr = self.head\n",
    "        ind = 0\n",
    "        while(curr):\n",
    "            print(ind,\") \", curr.data)\n",
    "            curr = curr.next\n",
    "            ind = ind + 1"
   ]
  },
  {
   "cell_type": "code",
   "execution_count": 99,
   "id": "e3002f40",
   "metadata": {},
   "outputs": [
    {
     "name": "stdout",
     "output_type": "stream",
     "text": [
      "0 )  5\n",
      "....\n",
      "0 )  5\n",
      "1 )  15\n",
      "....\n",
      "0 )  5\n",
      "1 )  2\n",
      "2 )  15\n",
      "....\n",
      "0 )  5\n",
      "1 )  4\n",
      "2 )  2\n",
      "3 )  15\n",
      "....\n",
      "0 )  5\n",
      "1 )  4\n",
      "2 )  2\n",
      "3 )  15\n",
      "4 )  42\n",
      "....\n",
      "0 )  12\n",
      "1 )  5\n",
      "2 )  4\n",
      "3 )  2\n",
      "4 )  15\n",
      "5 )  42\n",
      "....\n"
     ]
    },
    {
     "ename": "ValueError",
     "evalue": "No such index",
     "output_type": "error",
     "traceback": [
      "\u001b[1;31m---------------------------------------------------------------------------\u001b[0m",
      "\u001b[1;31mValueError\u001b[0m                                Traceback (most recent call last)",
      "Cell \u001b[1;32mIn[99], line 25\u001b[0m\n\u001b[0;32m     21\u001b[0m lili\u001b[38;5;241m.\u001b[39mprintLi()\n\u001b[0;32m     24\u001b[0m \u001b[38;5;28mprint\u001b[39m(\u001b[38;5;124m\"\u001b[39m\u001b[38;5;124m....\u001b[39m\u001b[38;5;124m\"\u001b[39m)\n\u001b[1;32m---> 25\u001b[0m lili\u001b[38;5;241m.\u001b[39minsertInd(\u001b[38;5;241m492\u001b[39m, \u001b[38;5;241m7\u001b[39m)\n\u001b[0;32m     26\u001b[0m lili\u001b[38;5;241m.\u001b[39mprintLi()\n",
      "Cell \u001b[1;32mIn[98], line 26\u001b[0m, in \u001b[0;36mLinkList.insertInd\u001b[1;34m(self, data, ind)\u001b[0m\n\u001b[0;32m     24\u001b[0m     ind \u001b[38;5;241m=\u001b[39m ind \u001b[38;5;241m-\u001b[39m \u001b[38;5;241m1\u001b[39m\n\u001b[0;32m     25\u001b[0m \u001b[38;5;28;01mif\u001b[39;00m (ind \u001b[38;5;241m>\u001b[39m \u001b[38;5;241m2\u001b[39m \u001b[38;5;129;01mor\u001b[39;00m (\u001b[38;5;129;01mnot\u001b[39;00m curr)):\n\u001b[1;32m---> 26\u001b[0m     \u001b[38;5;28;01mraise\u001b[39;00m \u001b[38;5;167;01mValueError\u001b[39;00m(\u001b[38;5;124m\"\u001b[39m\u001b[38;5;124mNo such index\u001b[39m\u001b[38;5;124m\"\u001b[39m)\n\u001b[0;32m     28\u001b[0m \u001b[38;5;28;01mif\u001b[39;00m curr\u001b[38;5;241m.\u001b[39mnext \u001b[38;5;241m!=\u001b[39m \u001b[38;5;28;01mNone\u001b[39;00m:\n\u001b[0;32m     29\u001b[0m     link\u001b[38;5;241m.\u001b[39mnext \u001b[38;5;241m=\u001b[39m curr\u001b[38;5;241m.\u001b[39mnext\n",
      "\u001b[1;31mValueError\u001b[0m: No such index"
     ]
    }
   ],
   "source": [
    "lili = LinkList()\n",
    "lili.insertFro(5)\n",
    "lili.printLi()\n",
    "print(\"....\")\n",
    "lili.insertInd(15, 1)\n",
    "lili.printLi()\n",
    "print(\"....\")\n",
    "lili.insertInd(2, 1)\n",
    "lili.printLi()\n",
    "\n",
    "print(\"....\")\n",
    "lili.insertInd(4, 1)\n",
    "lili.printLi()\n",
    "\n",
    "print(\"....\")\n",
    "lili.insertInd(42, 4)\n",
    "lili.printLi()\n",
    "\n",
    "print(\"....\")\n",
    "lili.insertInd(12, 0)\n",
    "lili.printLi()\n",
    "\n",
    "\n",
    "print(\"....\")\n",
    "lili.insertInd(492, 7)\n",
    "lili.printLi()"
   ]
  },
  {
   "cell_type": "code",
   "execution_count": 100,
   "id": "4e02a799",
   "metadata": {},
   "outputs": [
    {
     "name": "stdout",
     "output_type": "stream",
     "text": [
      "0 )  12\n",
      "1 )  5\n",
      "2 )  4\n",
      "3 )  2\n",
      "4 )  15\n",
      "5 )  42\n",
      "5\n",
      "-1\n",
      "....\n",
      "0 )  12\n",
      "1 )  5\n",
      "2 )  4\n",
      "3 )  15\n",
      "4 )  42\n"
     ]
    }
   ],
   "source": [
    "lili.printLi()\n",
    "print(lili.search(42))\n",
    "print(lili.search(9))\n",
    "print(\"....\")\n",
    "lili.delist(2)\n",
    "lili.printLi()"
   ]
  }
 ],
 "metadata": {
  "kernelspec": {
   "display_name": "Python 3 (ipykernel)",
   "language": "python",
   "name": "python3"
  },
  "language_info": {
   "codemirror_mode": {
    "name": "ipython",
    "version": 3
   },
   "file_extension": ".py",
   "mimetype": "text/x-python",
   "name": "python",
   "nbconvert_exporter": "python",
   "pygments_lexer": "ipython3",
   "version": "3.11.5"
  }
 },
 "nbformat": 4,
 "nbformat_minor": 5
}

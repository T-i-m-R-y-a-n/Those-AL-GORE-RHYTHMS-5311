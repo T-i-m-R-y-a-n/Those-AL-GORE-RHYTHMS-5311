{
 "cells": [
  {
   "cell_type": "markdown",
   "id": "14ccb93b",
   "metadata": {},
   "source": [
    "Tim Ryan (1000196736)\n",
    "CSE 5311\n",
    "Homework 1\n",
    "Sept. 2, 2024"
   ]
  },
  {
   "cell_type": "code",
   "execution_count": 1,
   "id": "04663b5e",
   "metadata": {},
   "outputs": [],
   "source": [
    "import numpy as np\n",
    "import matplotlib.pyplot as plt"
   ]
  },
  {
   "cell_type": "markdown",
   "id": "1302cb58",
   "metadata": {},
   "source": [
    "**SPECS**\n",
    "Microsoft Windows OS, Lenovo x64-based laptop, Processor :Intel(R) Core(TM) i5-10210U CPU @ 1.60GHz, 2112 Mhz, 4 Core(s), 8 Logical Processor(s), Installed Physical Memory (RAM)\t16.0 GB, Available Virtual Memory\t11.4 GB\n",
    "I ran a Python3 kernel on jupyter notebook on google chrome browswer."
   ]
  },
  {
   "cell_type": "markdown",
   "id": "0861f2eb",
   "metadata": {},
   "source": [
    "**INSERTION SORT**"
   ]
  },
  {
   "cell_type": "code",
   "execution_count": 2,
   "id": "2e6e02cd",
   "metadata": {},
   "outputs": [
    {
     "name": "stdout",
     "output_type": "stream",
     "text": [
      "rand5 array:  [1113 8535 6720 8989 9728]\n",
      "rand10 array:  [8221  366 4481  606 6621 8640 9142 6766 4750 8735]\n"
     ]
    }
   ],
   "source": [
    "\n",
    "    rand5 = np.array(np.random.randint(1, 10000, 5))\n",
    "    rand10 = np.random.randint(1, 10000, 10)\n",
    "    rand25 = np.random.randint(1, 10000, 25)\n",
    "    rand100 = np.random.randint(1, 10000, 100)\n",
    "    rand500 = np.random.randint(1, 10000, 500)\n",
    "    rand1000 = np.random.randint(1, 10000, 1000)\n",
    "    rand5000 = np.random.randint(1, 10000, 5000)\n",
    "    rand10000 = np.random.randint(1, 10000, 10000)\n",
    "    rand25000 = np.random.randint(1, 10000, 25000)\n",
    "    rand50000 = np.random.randint(1, 10000, 50000)\n",
    "    print(\"rand5 array: \", rand5)\n",
    "    print(\"rand10 array: \", rand10)"
   ]
  },
  {
   "cell_type": "code",
   "execution_count": 4,
   "id": "840131ec",
   "metadata": {},
   "outputs": [],
   "source": [
    "def insertionSort(arr):\n",
    "    for i in range(1, (len(arr)) ):\n",
    "        key = arr[i]\n",
    "        j = i - 1\n",
    "        while ((j >= 0) & (arr[j] > key)):\n",
    "            arr[j+1] = arr[j]\n",
    "            j = j - 1\n",
    "        arr[j+1] = key\n",
    "    return arr"
   ]
  },
  {
   "cell_type": "code",
   "execution_count": 5,
   "id": "5cd6120a",
   "metadata": {},
   "outputs": [
    {
     "name": "stdout",
     "output_type": "stream",
     "text": [
      "4.75 µs ± 49 ns per loop (mean ± std. dev. of 7 runs, 100,000 loops each)\n"
     ]
    }
   ],
   "source": [
    "%timeit insertionSort(rand5)"
   ]
  },
  {
   "cell_type": "code",
   "execution_count": 6,
   "id": "c0dc6f04",
   "metadata": {},
   "outputs": [
    {
     "name": "stdout",
     "output_type": "stream",
     "text": [
      "sorted5 =  [1113 6720 8535 8989 9728]\n"
     ]
    }
   ],
   "source": [
    "sorted5 = insertionSort(rand5)\n",
    "print(\"sorted5 = \", sorted5)"
   ]
  },
  {
   "cell_type": "code",
   "execution_count": 7,
   "id": "b456b12a",
   "metadata": {},
   "outputs": [
    {
     "name": "stdout",
     "output_type": "stream",
     "text": [
      "10.4 µs ± 206 ns per loop (mean ± std. dev. of 7 runs, 100,000 loops each)\n"
     ]
    }
   ],
   "source": [
    "%timeit insertionSort(rand10)"
   ]
  },
  {
   "cell_type": "code",
   "execution_count": 8,
   "id": "0e68ad97",
   "metadata": {},
   "outputs": [
    {
     "name": "stdout",
     "output_type": "stream",
     "text": [
      "27.4 µs ± 479 ns per loop (mean ± std. dev. of 7 runs, 10,000 loops each)\n"
     ]
    }
   ],
   "source": [
    "%timeit insertionSort(rand25)"
   ]
  },
  {
   "cell_type": "code",
   "execution_count": 9,
   "id": "6609e855",
   "metadata": {},
   "outputs": [
    {
     "name": "stdout",
     "output_type": "stream",
     "text": [
      "114 µs ± 3.43 µs per loop (mean ± std. dev. of 7 runs, 10,000 loops each)\n"
     ]
    }
   ],
   "source": [
    "%timeit insertionSort(rand100)"
   ]
  },
  {
   "cell_type": "code",
   "execution_count": 10,
   "id": "08779489",
   "metadata": {},
   "outputs": [
    {
     "name": "stdout",
     "output_type": "stream",
     "text": [
      "580 µs ± 8.32 µs per loop (mean ± std. dev. of 7 runs, 1,000 loops each)\n"
     ]
    }
   ],
   "source": [
    "%timeit insertionSort(rand500)"
   ]
  },
  {
   "cell_type": "code",
   "execution_count": 11,
   "id": "edd4711e",
   "metadata": {},
   "outputs": [
    {
     "name": "stdout",
     "output_type": "stream",
     "text": [
      "CPU times: total: 266 ms\n",
      "Wall time: 323 ms\n"
     ]
    }
   ],
   "source": [
    "%time insertionSort(rand1000);"
   ]
  },
  {
   "cell_type": "code",
   "execution_count": 12,
   "id": "74c1e00b",
   "metadata": {},
   "outputs": [
    {
     "name": "stdout",
     "output_type": "stream",
     "text": [
      "CPU times: total: 7.11 s\n",
      "Wall time: 7.26 s\n"
     ]
    }
   ],
   "source": [
    "%time insertionSort(rand5000);"
   ]
  },
  {
   "cell_type": "code",
   "execution_count": 13,
   "id": "01bf7aae",
   "metadata": {},
   "outputs": [
    {
     "name": "stdout",
     "output_type": "stream",
     "text": [
      "CPU times: total: 27.6 s\n",
      "Wall time: 28.3 s\n"
     ]
    }
   ],
   "source": [
    "%time insertionSort(rand10000);"
   ]
  },
  {
   "cell_type": "code",
   "execution_count": 14,
   "id": "6cdafd1f",
   "metadata": {},
   "outputs": [
    {
     "name": "stdout",
     "output_type": "stream",
     "text": [
      "CPU times: total: 2min 57s\n",
      "Wall time: 2min 59s\n"
     ]
    }
   ],
   "source": [
    "%time insertionSort(rand25000);"
   ]
  },
  {
   "cell_type": "code",
   "execution_count": 15,
   "id": "550c4e87",
   "metadata": {},
   "outputs": [
    {
     "name": "stdout",
     "output_type": "stream",
     "text": [
      "CPU times: total: 11min 41s\n",
      "Wall time: 11min 51s\n"
     ]
    }
   ],
   "source": [
    "%time insertionSort(rand50000);"
   ]
  },
  {
   "cell_type": "code",
   "execution_count": 16,
   "id": "9a677bac",
   "metadata": {},
   "outputs": [
    {
     "data": {
      "image/png": "[encoded data removed]",
      "text/plain": [
       "<Figure size 640x480 with 1 Axes>"
      ]
     },
     "metadata": {},
     "output_type": "display_data"
    }
   ],
   "source": [
    "plt.plot([5,10,100,500, 1000,5000,10000,25000,50000],[.000005,.00001,.0001,.0006,.3,7,28,180,700])\n",
    "plt.xlabel('Input Size')\n",
    "plt.ylabel('Execution Time (s)')\n",
    "plt.title('Insertion Sort: Execution Time vs. Input Size')\n",
    "plt.show()"
   ]
  },
  {
   "cell_type": "markdown",
   "id": "1ab8b342",
   "metadata": {},
   "source": [
    "**SELECTION SORT**"
   ]
  },
  {
   "cell_type": "code",
   "execution_count": 17,
   "id": "acb23787",
   "metadata": {},
   "outputs": [
    {
     "name": "stdout",
     "output_type": "stream",
     "text": [
      "rand5 array:  [3024 8440  670  758 3693]\n",
      "rand10 array:  [8929 7235 6832 9015 5751 8367 8024 5553 8582 1780]\n"
     ]
    }
   ],
   "source": [
    "    rand5 = np.array(np.random.randint(1, 10000, 5))\n",
    "    rand10 = np.random.randint(1, 10000, 10)\n",
    "    rand25 = np.random.randint(1, 10000, 25)\n",
    "    rand100 = np.random.randint(1, 10000, 100)\n",
    "    rand500 = np.random.randint(1, 10000, 500)\n",
    "    rand1000 = np.random.randint(1, 10000, 1000)\n",
    "    rand5000 = np.random.randint(1, 10000, 5000)\n",
    "    rand10000 = np.random.randint(1, 10000, 10000)\n",
    "    rand25000 = np.random.randint(1, 10000, 25000)\n",
    "    rand50000 = np.random.randint(1, 10000, 50000)\n",
    "    print(\"rand5 array: \", rand5)\n",
    "    print(\"rand10 array: \", rand10)"
   ]
  },
  {
   "cell_type": "code",
   "execution_count": 18,
   "id": "4be1fbef",
   "metadata": {},
   "outputs": [],
   "source": [
    "def selectionSort(arr):\n",
    "    for i in range(0, (len(arr)-1) ):\n",
    "        small = i\n",
    "        for j in range( i + 1, len(arr)):\n",
    "            if( arr[j] < arr[small]):\n",
    "                small = j\n",
    "        tmp = arr[i]\n",
    "        arr[i] = arr[small]\n",
    "        arr[small] = tmp\n",
    "    return arr"
   ]
  },
  {
   "cell_type": "markdown",
   "id": "6b360786",
   "metadata": {},
   "source": [
    "**ARGUMENT FOR CORRECTNESS OF SELECTION SORT ALGORITHM\n",
    "\n",
    "Input: an array of elements to be sorted\n",
    "Procedure: put the lowest element into the lowest index with each corresponding step\n",
    "So, begin by finding the lowest element in the array and swapping its index with the first element's, then move to the second and so on.\n",
    "Output: an array sorted from lowest to highest\n",
    "\n",
    "Loop Invariant: the leftmost subarray arr[0] to arr[i] will be in sorted order before and after each loop iteration.\n",
    "Initiallization: before the loop begins, i is equal to zero, and thus the subarray on the left only has one element, a[0], which is by definition in sorted order.\n",
    "Maintenance: we set small to i (which increases by one with each iteration of the outer for loop), and then search the remaining unsorted subarray on the right with j (which will start at i+1 and go to n) to see if there is an element smaller. If there is, then we swap the value in the 'small' index with the value in the jth index. Therefore, through each iteration i, the values from arr[0] to arr[i] in the array will be sorted.\n",
    "Termination: when the algorithm is finished, and both loops have completed (and i has reached n-1 and j has reached n), the array from the first index to the last will be sorted."
   ]
  },
  {
   "cell_type": "code",
   "execution_count": 19,
   "id": "c9b820b3",
   "metadata": {},
   "outputs": [
    {
     "name": "stdout",
     "output_type": "stream",
     "text": [
      "3.95 µs ± 89.9 ns per loop (mean ± std. dev. of 7 runs, 100,000 loops each)\n"
     ]
    }
   ],
   "source": [
    "%timeit selectionSort(rand5)"
   ]
  },
  {
   "cell_type": "code",
   "execution_count": 20,
   "id": "318ddf4f",
   "metadata": {},
   "outputs": [
    {
     "name": "stdout",
     "output_type": "stream",
     "text": [
      "sorted5 =  [ 670  758 3024 3693 8440]\n"
     ]
    }
   ],
   "source": [
    "sorted5 = selectionSort(rand5)\n",
    "print(\"sorted5 = \", sorted5)"
   ]
  },
  {
   "cell_type": "code",
   "execution_count": 21,
   "id": "2f1f051c",
   "metadata": {},
   "outputs": [
    {
     "name": "stdout",
     "output_type": "stream",
     "text": [
      "12.1 µs ± 169 ns per loop (mean ± std. dev. of 7 runs, 100,000 loops each)\n"
     ]
    }
   ],
   "source": [
    "%timeit selectionSort(rand10)"
   ]
  },
  {
   "cell_type": "code",
   "execution_count": null,
   "id": "45c6787b",
   "metadata": {},
   "outputs": [],
   "source": [
    "%timeit selectionSort(rand25)"
   ]
  },
  {
   "cell_type": "code",
   "execution_count": 22,
   "id": "699eba7a",
   "metadata": {},
   "outputs": [
    {
     "name": "stdout",
     "output_type": "stream",
     "text": [
      "860 µs ± 18 µs per loop (mean ± std. dev. of 7 runs, 1,000 loops each)\n"
     ]
    }
   ],
   "source": [
    "%timeit selectionSort(rand100);"
   ]
  },
  {
   "cell_type": "code",
   "execution_count": 23,
   "id": "52e46bef",
   "metadata": {},
   "outputs": [
    {
     "name": "stdout",
     "output_type": "stream",
     "text": [
      "23 ms ± 729 µs per loop (mean ± std. dev. of 7 runs, 10 loops each)\n"
     ]
    }
   ],
   "source": [
    "%timeit selectionSort(rand500);"
   ]
  },
  {
   "cell_type": "code",
   "execution_count": 24,
   "id": "39d8ca41",
   "metadata": {},
   "outputs": [
    {
     "name": "stdout",
     "output_type": "stream",
     "text": [
      "CPU times: total: 15.6 ms\n",
      "Wall time: 119 ms\n"
     ]
    }
   ],
   "source": [
    "%time selectionSort(rand1000);"
   ]
  },
  {
   "cell_type": "code",
   "execution_count": 25,
   "id": "495f38f3",
   "metadata": {},
   "outputs": [
    {
     "name": "stdout",
     "output_type": "stream",
     "text": [
      "CPU times: total: 2.27 s\n",
      "Wall time: 2.36 s\n"
     ]
    }
   ],
   "source": [
    "%time selectionSort(rand5000);"
   ]
  },
  {
   "cell_type": "code",
   "execution_count": 26,
   "id": "f4f6b43f",
   "metadata": {},
   "outputs": [
    {
     "name": "stdout",
     "output_type": "stream",
     "text": [
      "CPU times: total: 9.33 s\n",
      "Wall time: 9.5 s\n"
     ]
    }
   ],
   "source": [
    "%time selectionSort(rand10000);"
   ]
  },
  {
   "cell_type": "code",
   "execution_count": 27,
   "id": "02228089",
   "metadata": {},
   "outputs": [
    {
     "name": "stdout",
     "output_type": "stream",
     "text": [
      "CPU times: total: 57 s\n",
      "Wall time: 57.6 s\n"
     ]
    }
   ],
   "source": [
    "%time selectionSort(rand25000);"
   ]
  },
  {
   "cell_type": "code",
   "execution_count": 28,
   "id": "ac24157f",
   "metadata": {},
   "outputs": [
    {
     "name": "stdout",
     "output_type": "stream",
     "text": [
      "CPU times: total: 3min 46s\n",
      "Wall time: 3min 48s\n"
     ]
    }
   ],
   "source": [
    "%time selectionSort(rand50000);"
   ]
  },
  {
   "cell_type": "code",
   "execution_count": 13,
   "id": "b6226ea4",
   "metadata": {},
   "outputs": [
    {
     "data": {
      "image/png": "[encoded data removed]",
      "text/plain": [
       "<Figure size 640x480 with 1 Axes>"
      ]
     },
     "metadata": {},
     "output_type": "display_data"
    }
   ],
   "source": [
    "plt.plot([5,10,100,500, 1000,5000,10000,25000,50000],[.000004,.000012,.0009,.022,.09,2,9,56,225])\n",
    "plt.xlabel('Input Size')\n",
    "plt.ylabel('Execution Time (s)')\n",
    "plt.title('Selection Sort: Execution Time vs. Input Size')\n",
    "plt.show()"
   ]
  },
  {
   "cell_type": "markdown",
   "id": "e6afc077",
   "metadata": {},
   "source": [
    "**BUBBLE SORT**"
   ]
  },
  {
   "cell_type": "code",
   "execution_count": 45,
   "id": "fdc3d821",
   "metadata": {},
   "outputs": [
    {
     "name": "stdout",
     "output_type": "stream",
     "text": [
      "rand5 array:  [6325 3341 5078 9040 6945]\n",
      "rand10 array:  [9568  951 4717 2897 1219 9667 8929 1931 1664 9810]\n"
     ]
    }
   ],
   "source": [
    "    rand5 = np.array(np.random.randint(1, 10000, 5))\n",
    "    rand10 = np.random.randint(1, 10000, 10)\n",
    "    rand25 = np.random.randint(1, 10000, 25)\n",
    "    rand100 = np.random.randint(1, 10000, 100)\n",
    "    rand500 = np.random.randint(1, 10000, 500)\n",
    "    rand1000 = np.random.randint(1, 10000, 1000)\n",
    "    rand5000 = np.random.randint(1, 10000, 5000)\n",
    "    rand10000 = np.random.randint(1, 10000, 10000)\n",
    "    rand25000 = np.random.randint(1, 10000, 25000)\n",
    "    rand50000 = np.random.randint(1, 10000, 50000)\n",
    "    print(\"rand5 array: \", rand5)\n",
    "    print(\"rand10 array: \", rand10)"
   ]
  },
  {
   "cell_type": "code",
   "execution_count": 46,
   "id": "76657219",
   "metadata": {},
   "outputs": [],
   "source": [
    "def bubbleSort(arr):\n",
    "    for i in range(0, (len(arr)-1) ):\n",
    "        for j in range(0, (len(arr) - i - 1)):\n",
    "            if (arr[j] > arr[j + 1]):\n",
    "                tmp = arr[j]\n",
    "                arr[j] = arr[j + 1]\n",
    "                arr[j + 1] = tmp\n",
    "    return arr"
   ]
  },
  {
   "cell_type": "code",
   "execution_count": 47,
   "id": "5902b43b",
   "metadata": {},
   "outputs": [
    {
     "name": "stdout",
     "output_type": "stream",
     "text": [
      "8.14 µs ± 648 ns per loop (mean ± std. dev. of 7 runs, 100,000 loops each)\n"
     ]
    }
   ],
   "source": [
    "%timeit bubbleSort(rand5)"
   ]
  },
  {
   "cell_type": "code",
   "execution_count": 48,
   "id": "04ece5d2",
   "metadata": {},
   "outputs": [
    {
     "name": "stdout",
     "output_type": "stream",
     "text": [
      "sorted5 =  [3341 5078 6325 6945 9040]\n"
     ]
    }
   ],
   "source": [
    "sorted5 = bubbleSort(rand5)\n",
    "print(\"sorted5 = \", sorted5)"
   ]
  },
  {
   "cell_type": "code",
   "execution_count": 49,
   "id": "d300d6a6",
   "metadata": {},
   "outputs": [
    {
     "name": "stdout",
     "output_type": "stream",
     "text": [
      "27.6 µs ± 253 ns per loop (mean ± std. dev. of 7 runs, 10,000 loops each)\n"
     ]
    }
   ],
   "source": [
    "%timeit bubbleSort(rand10)"
   ]
  },
  {
   "cell_type": "code",
   "execution_count": 50,
   "id": "9b6de215",
   "metadata": {},
   "outputs": [
    {
     "name": "stdout",
     "output_type": "stream",
     "text": [
      "156 µs ± 11.1 µs per loop (mean ± std. dev. of 7 runs, 10,000 loops each)\n"
     ]
    }
   ],
   "source": [
    "%timeit bubbleSort(rand25)"
   ]
  },
  {
   "cell_type": "code",
   "execution_count": 51,
   "id": "52b3ed9e",
   "metadata": {},
   "outputs": [
    {
     "name": "stdout",
     "output_type": "stream",
     "text": [
      "916 µs ± 21 µs per loop (mean ± std. dev. of 7 runs, 1,000 loops each)\n"
     ]
    }
   ],
   "source": [
    "%timeit bubbleSort(rand100)"
   ]
  },
  {
   "cell_type": "code",
   "execution_count": 52,
   "id": "83fda3ff",
   "metadata": {},
   "outputs": [
    {
     "name": "stdout",
     "output_type": "stream",
     "text": [
      "23 ms ± 709 µs per loop (mean ± std. dev. of 7 runs, 10 loops each)\n"
     ]
    }
   ],
   "source": [
    "%timeit bubbleSort(rand500)"
   ]
  },
  {
   "cell_type": "code",
   "execution_count": 53,
   "id": "3fb9c4b4",
   "metadata": {},
   "outputs": [
    {
     "name": "stdout",
     "output_type": "stream",
     "text": [
      "CPU times: total: 141 ms\n",
      "Wall time: 180 ms\n"
     ]
    }
   ],
   "source": [
    "%time bubbleSort(rand1000);"
   ]
  },
  {
   "cell_type": "code",
   "execution_count": 54,
   "id": "ba6ecd47",
   "metadata": {},
   "outputs": [
    {
     "name": "stdout",
     "output_type": "stream",
     "text": [
      "CPU times: total: 4.25 s\n",
      "Wall time: 4.33 s\n"
     ]
    }
   ],
   "source": [
    "%time bubbleSort(rand5000);"
   ]
  },
  {
   "cell_type": "code",
   "execution_count": 55,
   "id": "c4663c5b",
   "metadata": {},
   "outputs": [
    {
     "name": "stdout",
     "output_type": "stream",
     "text": [
      "CPU times: total: 16.8 s\n",
      "Wall time: 17.1 s\n"
     ]
    }
   ],
   "source": [
    "%time bubbleSort(rand10000);"
   ]
  },
  {
   "cell_type": "code",
   "execution_count": 56,
   "id": "4e861494",
   "metadata": {},
   "outputs": [
    {
     "name": "stdout",
     "output_type": "stream",
     "text": [
      "CPU times: total: 1min 45s\n",
      "Wall time: 1min 46s\n"
     ]
    }
   ],
   "source": [
    "%time bubbleSort(rand25000);"
   ]
  },
  {
   "cell_type": "code",
   "execution_count": 57,
   "id": "06d166b0",
   "metadata": {},
   "outputs": [
    {
     "name": "stdout",
     "output_type": "stream",
     "text": [
      "CPU times: total: 7min 6s\n",
      "Wall time: 7min 22s\n"
     ]
    }
   ],
   "source": [
    "%time bubbleSort(rand50000);"
   ]
  },
  {
   "cell_type": "code",
   "execution_count": 58,
   "id": "1298913b",
   "metadata": {},
   "outputs": [
    {
     "data": {
      "image/png": "[encoded data removed]",
      "text/plain": [
       "<Figure size 640x480 with 1 Axes>"
      ]
     },
     "metadata": {},
     "output_type": "display_data"
    }
   ],
   "source": [
    "plt.plot([5,10,100,500, 1000,5000,10000,25000,50000],[.000004,.000012,.0009,.022,.09,4.2,17,105,420])\n",
    "plt.xlabel('Input Size')\n",
    "plt.ylabel('Execution Time (s)')\n",
    "plt.title('Bubble Sort: Execution Time vs. Input Size')\n",
    "plt.show()"
   ]
  }
 ],
 "metadata": {
  "kernelspec": {
   "display_name": "Python 3 (ipykernel)",
   "language": "python",
   "name": "python3"
  },
  "language_info": {
   "codemirror_mode": {
    "name": "ipython",
    "version": 3
   },
   "file_extension": ".py",
   "mimetype": "text/x-python",
   "name": "python",
   "nbconvert_exporter": "python",
   "pygments_lexer": "ipython3",
   "version": "3.11.5"
  }
 },
 "nbformat": 4,
 "nbformat_minor": 5
}

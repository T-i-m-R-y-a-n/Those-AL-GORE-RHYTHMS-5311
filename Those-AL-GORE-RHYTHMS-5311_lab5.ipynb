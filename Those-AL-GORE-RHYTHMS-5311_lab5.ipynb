{
 "cells": [
  {
   "cell_type": "markdown",
   "id": "b5e4376b",
   "metadata": {},
   "source": [
    "Tim Ryan\n",
    "1000196736\n",
    "Hands on 5 in python"
   ]
  },
  {
   "cell_type": "code",
   "execution_count": 1,
   "id": "2ef882bf",
   "metadata": {},
   "outputs": [],
   "source": [
    "class MinHeap:\n",
    "    def __init__(self):\n",
    "        self.heap = []\n",
    "    def parent(self, ind):\n",
    "        return (ind - 1) >> 1\n",
    "    def left(self, ind):\n",
    "        return (ind << 1) + 1\n",
    "    def right(self, ind):\n",
    "        return (ind << 1) + 2\n",
    "    \n",
    "    def heapify(self, ind):\n",
    "        while (ind > 0) and (self.heap[ind] < self.heap[self.parent(ind)]):\n",
    "            self.heap[self.parent(ind)], self.heap[ind] = self.heap[ind], self.heap[self.parent(ind)]\n",
    "            ind = self.parent(ind)\n",
    "            \n",
    "    def insert(self, value):\n",
    "        self.heap.append(value)\n",
    "        ind = len(self.heap) - 1\n",
    "        self.heapify(ind)\n",
    "        \n",
    "    def popRoot(self):\n",
    "        if not self.heap:\n",
    "            return \"the heap is heapless\"\n",
    "        if len(self.heap) == 1:\n",
    "            return self.heap.pop()\n",
    "        #if len(self.heap == 2) or len(self.heap == 3)\n",
    "            \n",
    "        #    return self.heap.pop()\n",
    "        \n",
    "        self.heap[0], self.heap[len(self.heap)-1] =  self.heap[len(self.heap)-1], self.heap[0]\n",
    "        popped = self.heap.pop()\n",
    "        \n",
    "        self.heapDown(0)\n",
    "        \n",
    "        return popped\n",
    "    \n",
    "    def heapDown(self, ind):\n",
    "        mini = self.heap[ind]\n",
    "        cl = self.left(ind)\n",
    "        cr = self.right(ind)\n",
    "        print(\"ind \", ind)\n",
    "        \n",
    "        print(\"cl \", cl)\n",
    "        \n",
    "        print(\"cr \", cr)\n",
    "        if (cl < len(self.heap)) & (self.heap[cl] < self.heap[mini]):\n",
    "            mini = self.heap[cl]\n",
    "        if (cr < len(self.heap)) & (self.heap[cr] < self.heap[mini]):\n",
    "            mini = self.heap[cr]\n",
    "        if self.heap[mini] is not self.heap[ind]:\n",
    "            self.heap[mini], self.heap[ind] = self.heap[ind], self.heap[mini]\n",
    "            self.heapDown(mini)"
   ]
  },
  {
   "cell_type": "code",
   "execution_count": 2,
   "id": "bc18f49c",
   "metadata": {
    "scrolled": true
   },
   "outputs": [
    {
     "name": "stdout",
     "output_type": "stream",
     "text": [
      "[40]\n",
      "[5, 40]\n",
      "[5, 40, 50]\n",
      "[2, 5, 50, 40]\n"
     ]
    }
   ],
   "source": [
    "heap = MinHeap()\n",
    "heap.insert(40)\n",
    "print(heap.heap)\n",
    "heap.insert(5)\n",
    "print(heap.heap)\n",
    "heap.insert(50)\n",
    "print(heap.heap)\n",
    "heap.insert(2)\n",
    "print(heap.heap)"
   ]
  },
  {
   "cell_type": "code",
   "execution_count": 4,
   "id": "c0c6fa9e",
   "metadata": {},
   "outputs": [
    {
     "name": "stdout",
     "output_type": "stream",
     "text": [
      "['zebra']\n",
      "['banana', 'zebra']\n",
      "['apple', 'zebra', 'banana']\n",
      "['apple', 'pear', 'banana', 'zebra']\n"
     ]
    }
   ],
   "source": [
    "heap = MinHeap()\n",
    "heap.insert('zebra')\n",
    "print(heap.heap)\n",
    "heap.insert('banana')\n",
    "print(heap.heap)\n",
    "heap.insert('apple')\n",
    "print(heap.heap)\n",
    "heap.insert('pear')\n",
    "print(heap.heap)"
   ]
  },
  {
   "cell_type": "code",
   "execution_count": 6,
   "id": "66936a07",
   "metadata": {},
   "outputs": [
    {
     "name": "stdout",
     "output_type": "stream",
     "text": [
      "1\n",
      "the heap is heapless\n",
      "[5]\n",
      "[5, 50]\n"
     ]
    }
   ],
   "source": [
    "heap = MinHeap()\n",
    "heap.insert(1)\n",
    "print(heap.popRoot())\n",
    "print(heap.popRoot())\n",
    "heap.insert(5)\n",
    "print(heap.heap)\n",
    "heap.insert(50)\n",
    "print(heap.heap)\n"
   ]
  },
  {
   "cell_type": "markdown",
   "id": "cd2abdaf",
   "metadata": {},
   "source": [
    "fix pop"
   ]
  }
 ],
 "metadata": {
  "kernelspec": {
   "display_name": "Python 3 (ipykernel)",
   "language": "python",
   "name": "python3"
  },
  "language_info": {
   "codemirror_mode": {
    "name": "ipython",
    "version": 3
   },
   "file_extension": ".py",
   "mimetype": "text/x-python",
   "name": "python",
   "nbconvert_exporter": "python",
   "pygments_lexer": "ipython3",
   "version": "3.11.5"
  }
 },
 "nbformat": 4,
 "nbformat_minor": 5
}

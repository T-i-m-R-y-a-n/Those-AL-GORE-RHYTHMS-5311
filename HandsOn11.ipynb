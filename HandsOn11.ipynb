{
 "cells": [
  {
   "cell_type": "markdown",
   "id": "28d0bbf3",
   "metadata": {},
   "source": [
    "Tim Ryan (1000196736) CSE 5311 \n",
    "Hands on 11 \n",
    "\n",
    "SPECS Microsoft Windows OS, Lenovo x64-based laptop, Processor :Intel(R) Core(TM) i5-10210U CPU @ 1.60GHz, 2112 Mhz, 4 Core(s), 8 Logical Processor(s), Installed Physical Memory (RAM) 16.0 GB, Available Virtual Memory 11.4 GB I ran a Python3 kernel on jupyter notebook on google chrome browswer."
   ]
  },
  {
   "cell_type": "code",
   "execution_count": 1,
   "id": "196b8773",
   "metadata": {},
   "outputs": [],
   "source": [
    "import numpy as np\n"
   ]
  },
  {
   "cell_type": "code",
   "execution_count": 2,
   "id": "16557ab8",
   "metadata": {},
   "outputs": [],
   "source": [
    "class Arr:\n",
    "    def __init__(self, n):\n",
    "        self.arr = np.zeros(n)\n",
    "        self.cap = len(self.arr)\n",
    "        self.size = 0\n",
    "    def __str__(self):\n",
    "        return str(self.arr)\n",
    "    def ins(self, value):\n",
    "        if(self.size < self.cap - 1):\n",
    "            self.arr[self.size] = value\n",
    "            self.size += 1\n",
    "        else:\n",
    "            a2 = np.zeros(self.cap)\n",
    "            self.arr = np.append(self.arr, a2)\n",
    "            self.cap = self.cap*2\n",
    "            self.ins(value)"
   ]
  },
  {
   "cell_type": "code",
   "execution_count": 3,
   "id": "cec359d9",
   "metadata": {},
   "outputs": [
    {
     "name": "stdout",
     "output_type": "stream",
     "text": [
      "[0. 0. 0. 0.]\n",
      "[1. 2. 3. 4. 0. 0. 0. 0.]\n",
      "[1. 2. 3. 4. 5. 0. 0. 0.]\n"
     ]
    }
   ],
   "source": [
    "a = Arr(4)\n",
    "print(a)\n",
    "a.ins(1)\n",
    "a.ins(2)\n",
    "a.ins(3)\n",
    "a.ins(4)\n",
    "print(a)\n",
    "a.ins(5)\n",
    "print(a)"
   ]
  },
  {
   "cell_type": "markdown",
   "id": "c560fe7b",
   "metadata": {},
   "source": [
    "a) The cost of each insert is O(1)...except when the value size of the array meets its capacity\n",
    "(which happens at n, then n*2, then n*3, etc.) the cost of inserts here are O(index).\n",
    "\n",
    "the sum of costs (from i=0 to n) <= n + the sum of 2^j (from j=0 to floor(lg(n)))\n",
    "\n",
    "which is                        < n + 2n\n",
    "                                 = 3n\n",
    "                                 which is O(n)\n",
    "                                 \n",
    "So for an initial array of size 4 with 8 inserts the cost would be:\n",
    "1 + 1 + 1 + 4 + 1 + 1 + 1 + 8 = 18\n",
    "\n",
    "Making each insert's amortized runtime be O(n)/n = O(1)\n"
   ]
  },
  {
   "cell_type": "markdown",
   "id": "2cb541e1",
   "metadata": {},
   "source": [
    "b) Initial bank = $0\n",
    "\n",
    "normal insert actual = O(1) = 1, normal insert amortized = O(3) = 3\n",
    "\n",
    "powers insert actual = O(n) = n, powers insert amortized = O(0) = 1\n",
    "\n",
    "So inserting the first the numbers banks: 3($3) - 3($1)     =  $6\n",
    "\n",
    "And inserting the fourth costs $0 - $4 which leaves the bank = $2\n",
    "\n",
    "Elements 5 through 7 increases the bank to $2 + 3($3) - 3($1) =$8\n",
    "\n",
    "And inserting at 8 takes it down 8 dollars, making the bank   = $0\n",
    "\n",
    "Since the bank never reaches a non-negative value, the credit is good, and the assumptions hold."
   ]
  }
 ],
 "metadata": {
  "kernelspec": {
   "display_name": "Python 3 (ipykernel)",
   "language": "python",
   "name": "python3"
  },
  "language_info": {
   "codemirror_mode": {
    "name": "ipython",
    "version": 3
   },
   "file_extension": ".py",
   "mimetype": "text/x-python",
   "name": "python",
   "nbconvert_exporter": "python",
   "pygments_lexer": "ipython3",
   "version": "3.11.5"
  }
 },
 "nbformat": 4,
 "nbformat_minor": 5
}

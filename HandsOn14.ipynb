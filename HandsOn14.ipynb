{
 "cells": [
  {
   "cell_type": "markdown",
   "id": "6fdd150a",
   "metadata": {},
   "source": [
    "Tim Ryan\n",
    "1000196736\n",
    "Hands on 14"
   ]
  },
  {
   "cell_type": "code",
   "execution_count": 1,
   "id": "4d1ad989",
   "metadata": {},
   "outputs": [],
   "source": [
    "import numpy as np"
   ]
  },
  {
   "cell_type": "code",
   "execution_count": 2,
   "id": "5c2504ea",
   "metadata": {},
   "outputs": [],
   "source": [
    "# Dijkstra's\n",
    "Graph = {\n",
    "    'A': {'B': 2, 'C': 4},\n",
    "    'B': {'C': 3, 'D': 2, 'E': 2},\n",
    "    'D': {'B': 1, 'C': 5},\n",
    "    'E': {'D': 5}\n",
    "}\n",
    "\n",
    "def djik(Graph, source):\n",
    "    for u in Graph:\n",
    "        for v, w in Graph[u].items():\n",
    "            if w < 0:\n",
    "                print(\"invalid Graph with a negative edge weight\")\n",
    "                return\n",
    "    "
   ]
  },
  {
   "cell_type": "code",
   "execution_count": 3,
   "id": "c1722753",
   "metadata": {},
   "outputs": [
    {
     "name": "stdout",
     "output_type": "stream",
     "text": [
      "invalid Graph with a negative edge weight\n",
      "None\n"
     ]
    }
   ],
   "source": [
    "print(djik(Graph, 'A'))"
   ]
  },
  {
   "cell_type": "raw",
   "id": "5c56f700",
   "metadata": {},
   "source": []
  }
 ],
 "metadata": {
  "kernelspec": {
   "display_name": "Python 3 (ipykernel)",
   "language": "python",
   "name": "python3"
  },
  "language_info": {
   "codemirror_mode": {
    "name": "ipython",
    "version": 3
   },
   "file_extension": ".py",
   "mimetype": "text/x-python",
   "name": "python",
   "nbconvert_exporter": "python",
   "pygments_lexer": "ipython3",
   "version": "3.11.5"
  }
 },
 "nbformat": 4,
 "nbformat_minor": 5
}

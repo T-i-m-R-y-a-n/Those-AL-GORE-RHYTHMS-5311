{
 "cells": [
  {
   "cell_type": "markdown",
   "id": "33e45ac4",
   "metadata": {},
   "source": [
    "Tim Ryan\n",
    "1000196736\n",
    "Hands on 14"
   ]
  },
  {
   "cell_type": "code",
   "execution_count": 1,
   "id": "9f467c32",
   "metadata": {},
   "outputs": [],
   "source": [
    "import numpy as np"
   ]
  },
  {
   "cell_type": "code",
   "execution_count": 2,
   "id": "6183336a",
   "metadata": {},
   "outputs": [],
   "source": [
    "# Dijkstra's\n",
    "import heapq\n",
    "Graph = {\n",
    "    'A': {'B': 2, 'C': 4},\n",
    "    'B': {'C': 3, 'D': 2, 'E': 2},\n",
    "    'C': {'C': 0},\n",
    "    'D': {'B': 1, 'C': 5},\n",
    "    'E': {'D': 5}\n",
    "}\n",
    "\n",
    "def djik(Graph, source):\n",
    "    dists = {}\n",
    "    parent = {}\n",
    "    beenThere = set()\n",
    "    for u in Graph:\n",
    "        for v, w in Graph[u].items():\n",
    "            if w < 0:\n",
    "                print(\"invalid Graph with a negative edge weight\")\n",
    "                return\n",
    "        dists[u]= float('inf')\n",
    "    dists[source] = 0\n",
    "    parent[source] = source\n",
    "    \n",
    "    prioQ = [(0, source)]\n",
    "    while prioQ:\n",
    "        print(dists)\n",
    "        curD, curV = heapq.heappop(prioQ)\n",
    "        if curV in beenThere:\n",
    "            continue\n",
    "        beenThere.add(curV)\n",
    "        for v, w in Graph[curV].items():\n",
    "            newD = curD + w\n",
    "            if newD < dists[v]:\n",
    "                dists[v] =  newD\n",
    "                heapq.heappush(prioQ, (newD, v))\n",
    "                parent[v] = curV\n",
    "                \n",
    "    return dists, parent"
   ]
  },
  {
   "cell_type": "code",
   "execution_count": 3,
   "id": "8bd3b999",
   "metadata": {},
   "outputs": [
    {
     "name": "stdout",
     "output_type": "stream",
     "text": [
      "{'A': 0, 'B': inf, 'C': inf, 'D': inf, 'E': inf}\n",
      "{'A': 0, 'B': 2, 'C': 4, 'D': inf, 'E': inf}\n",
      "{'A': 0, 'B': 2, 'C': 4, 'D': 4, 'E': 4}\n",
      "{'A': 0, 'B': 2, 'C': 4, 'D': 4, 'E': 4}\n",
      "{'A': 0, 'B': 2, 'C': 4, 'D': 4, 'E': 4}\n",
      "shortest distances from A  {'A': 0, 'B': 2, 'C': 4, 'D': 4, 'E': 4}\n",
      "parents  {'A': 'A', 'B': 'A', 'C': 'A', 'D': 'B', 'E': 'B'}\n"
     ]
    }
   ],
   "source": [
    "distances, parents = djik(Graph, 'A')\n",
    "print(\"shortest distances from A \", distances)\n",
    "print(\"parents \", parents)"
   ]
  },
  {
   "cell_type": "code",
   "execution_count": 4,
   "id": "b109bea3",
   "metadata": {},
   "outputs": [],
   "source": [
    "# bellman-ford\n",
    "Graph = {\n",
    "    'A': {'B': 2, 'C': 4},\n",
    "    'B': {'C': 3, 'D': 2, 'E': 2},\n",
    "    'C': {'C': 0},\n",
    "    'D': {'B': 1, 'C': 5},\n",
    "    'E': {'D': 5}\n",
    "}\n",
    "SteffiGraph = {\n",
    "    'A': {'B': 2, 'C': 4},\n",
    "    'B': {'C': 3, 'D': 2, 'E': 2},\n",
    "    'C': {'C': 0},\n",
    "    'D': {'B': 1, 'C': 5},\n",
    "    'E': {'D': -5}\n",
    "}\n",
    "def bf(Graph, source):\n",
    "    dists = {}\n",
    "    parent = {}\n",
    "    numbEdge = 0\n",
    "    for vert in Graph:\n",
    "        dists[vert] = float('inf')\n",
    "        for e, w in Graph[vert].items():\n",
    "            if e != vert:\n",
    "                numbEdge = numbEdge + 1\n",
    "                    \n",
    "    dists[source]= 0\n",
    "    parent[source]= source\n",
    "    for i in range(1, numbEdge):\n",
    "        for u in Graph:\n",
    "            for v, w in Graph[u].items():\n",
    "                if dists[v] > dists[u] + w:\n",
    "                    dists[v] = dists[u] + w\n",
    "                    parent[v] = u\n",
    "        for u in Graph:\n",
    "                for v,w in Graph[u].items():\n",
    "                    if dists[v] > dists[u] + w:\n",
    "                        print(\"negative cycle oh no\")\n",
    "                        return  {'womp'},{'womp'}\n",
    "                    \n",
    "    return dists, parent\n",
    "        "
   ]
  },
  {
   "cell_type": "code",
   "execution_count": 5,
   "id": "771d0bfe",
   "metadata": {},
   "outputs": [
    {
     "name": "stdout",
     "output_type": "stream",
     "text": [
      "shortest distances from A  {'A': 0, 'B': 2, 'C': 4, 'D': 4, 'E': 4}\n",
      "parents  {'A': 'A', 'B': 'A', 'C': 'A', 'D': 'B', 'E': 'B'}\n",
      "***negative cycle BEDB ****\n",
      "negative cycle oh no\n",
      "shortest distances from A  {'womp'}\n",
      "parents  {'womp'}\n"
     ]
    }
   ],
   "source": [
    "distances, parents = bf(Graph, 'A')\n",
    "print(\"shortest distances from A \", distances)\n",
    "print(\"parents \", parents)\n",
    "print(\"***negative cycle BEDB ****\")\n",
    "distances, parents = bf(SteffiGraph, 'A')\n",
    "print(\"shortest distances from A \", distances)\n",
    "print(\"parents \", parents)"
   ]
  },
  {
   "cell_type": "code",
   "execution_count": null,
   "id": "3041cadb",
   "metadata": {},
   "outputs": [],
   "source": []
  }
 ],
 "metadata": {
  "kernelspec": {
   "display_name": "Python 3 (ipykernel)",
   "language": "python",
   "name": "python3"
  },
  "language_info": {
   "codemirror_mode": {
    "name": "ipython",
    "version": 3
   },
   "file_extension": ".py",
   "mimetype": "text/x-python",
   "name": "python",
   "nbconvert_exporter": "python",
   "pygments_lexer": "ipython3",
   "version": "3.11.5"
  }
 },
 "nbformat": 4,
 "nbformat_minor": 5
}

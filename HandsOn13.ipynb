{
 "cells": [
  {
   "cell_type": "markdown",
   "id": "e71e666e",
   "metadata": {},
   "source": [
    "Tim Ryan (1000196736) CSE 5311 \n",
    "Hands on 13"
   ]
  },
  {
   "cell_type": "markdown",
   "id": "818e0e6a",
   "metadata": {},
   "source": [
    "*****************************************\n",
    "Doing depth-first first, then topological\n",
    "*****************************************"
   ]
  },
  {
   "cell_type": "code",
   "execution_count": 1,
   "id": "f44324ce",
   "metadata": {},
   "outputs": [],
   "source": [
    "import numpy as np"
   ]
  },
  {
   "cell_type": "code",
   "execution_count": 2,
   "id": "5de8cf6e",
   "metadata": {},
   "outputs": [
    {
     "data": {
      "text/plain": [
       "'\"\\nGraph = {\\'S\\':[\\'A\\',\\'B\\'],\\'A\\':[\\'C\\',\\'D\\',\\'S\\'],\\'B\\':[\\'D\\',\\'E\\',\\'S\\'],\\'C\\':[\\'A\\',\\'E\\'],\\'D\\':[\\'A\\',\\'B\\'],\\'E\\':[\\'B\\',\\'C\\']}\\n\\ndef dfs(Graph, start = None, stop = None, minPath = None): \\n    queue = []\\n    sorted_dict = {}\\n    for key, values in Graph.items():\\n        sorted_dict[key] = sorted(values)\\n    if start == None:\\n        queue.append(next(iter(sorted_dict.keys())))\\n    else:\\n        queue.append(start)\\n    visited = []\\n    i = 1\\n    while queue:\\n        print(i,\"*****\")\\n        i=i+1\\n        current = queue.pop(0)\\n        visited.append(current)\\n        print(\"current\" , current)\\n        print(\"visited\", visited)\\n        for neighbor in sorted_dict[current]:\\n            # if neighbor == search, return\\n            if neighbor not in visited:\\n                queue.append(neighbor)\\n                print(\"appending \", neighbor)\\n                print(\"q\", queue)\\n    return visited\\n'"
      ]
     },
     "execution_count": 2,
     "metadata": {},
     "output_type": "execute_result"
    }
   ],
   "source": [
    "\"\"\"\"\n",
    "Graph = {'S':['A','B'],'A':['C','D','S'],'B':['D','E','S'],'C':['A','E'],'D':['A','B'],'E':['B','C']}\n",
    "\n",
    "def dfs(Graph, start = None, stop = None, minPath = None): \n",
    "    queue = []\n",
    "    sorted_dict = {}\n",
    "    for key, values in Graph.items():\n",
    "        sorted_dict[key] = sorted(values)\n",
    "    if start == None:\n",
    "        queue.append(next(iter(sorted_dict.keys())))\n",
    "    else:\n",
    "        queue.append(start)\n",
    "    visited = []\n",
    "    i = 1\n",
    "    while queue:\n",
    "        print(i,\"*****\")\n",
    "        i=i+1\n",
    "        current = queue.pop(0)\n",
    "        visited.append(current)\n",
    "        print(\"current\" , current)\n",
    "        print(\"visited\", visited)\n",
    "        for neighbor in sorted_dict[current]:\n",
    "            # if neighbor == search, return\n",
    "            if neighbor not in visited:\n",
    "                queue.append(neighbor)\n",
    "                print(\"appending \", neighbor)\n",
    "                print(\"q\", queue)\n",
    "    return visited\n",
    "\"\"\""
   ]
  },
  {
   "cell_type": "code",
   "execution_count": 3,
   "id": "2b5f9b46",
   "metadata": {},
   "outputs": [],
   "source": [
    "#dfs and topological. \n",
    "class Node():\n",
    "    def __init__(self, name):\n",
    "        self.name = name\n",
    "        self.p = None\n",
    "        self.c = None\n",
    "        self.d = None\n",
    "        self.f = None\n",
    "    def __str__(self):\n",
    "        return f'{self.name}'\n",
    "def dfs(Graph):\n",
    "    time = 0\n",
    "    for node in Graph:\n",
    "        node.c = 'white'\n",
    "    for node in Graph:\n",
    "        if node.c == 'white':\n",
    "            dfs_visit(Graph, node, time)\n",
    "    print(\"name, parent, discovered, finished\")\n",
    "    for node in Graph:\n",
    "        print(\" \", node.name,\"   \", node.p, \"     \", node.d, \"       \", node.f )\n",
    "def dfs_visit(Graph, node, time):\n",
    "    print(\"visiting node \", node.name, \" at time \" ,time)\n",
    "    time = time+1\n",
    "    node.d = time\n",
    "    node.c = 'gray'\n",
    "    for option in Graph[node]:\n",
    "        if option.c == 'white':\n",
    "            option.p = node.name\n",
    "            dfs_visit(Graph, option, time)\n",
    "    node.color = 'black'\n",
    "    time = time + 1\n",
    "    print(node ,\" finished at time \", time)\n",
    "    node.f = time \n",
    "def topo(Graph):\n",
    "    dfs(Graph)\n",
    "    fin = sorted(Graph, key = lambda node: node.f)\n",
    "    rev = reversed(fin)\n",
    "    for node in rev:\n",
    "        print(\" \", node.name,\"   \", node.p, \"     \", node.d, \"       \", node.f )\n"
   ]
  },
  {
   "cell_type": "code",
   "execution_count": 4,
   "id": "0217818d",
   "metadata": {},
   "outputs": [
    {
     "name": "stdout",
     "output_type": "stream",
     "text": [
      "visiting node  S  at time  0\n",
      "visiting node  A  at time  1\n",
      "visiting node  C  at time  2\n",
      "visiting node  E  at time  3\n",
      "visiting node  B  at time  4\n",
      "visiting node  D  at time  5\n",
      "D  finished at time  7\n",
      "B  finished at time  6\n",
      "E  finished at time  5\n",
      "C  finished at time  4\n",
      "A  finished at time  3\n",
      "S  finished at time  2\n",
      "name, parent, discovered, finished\n",
      "  S     None       1         2\n",
      "  A     S       2         3\n",
      "  B     E       5         6\n",
      "  C     A       3         4\n",
      "  D     B       6         7\n",
      "  E     C       4         5\n"
     ]
    }
   ],
   "source": [
    "# undirected graph\n",
    "S = Node('S')\n",
    "A = Node('A')\n",
    "B = Node('B')\n",
    "C = Node('C')\n",
    "D = Node('D')\n",
    "E = Node('E')\n",
    "Graph = {S:[A,B],A:[C,D,S],B:[D,E,S],C:[A,E],D:[A,B],E:[B,C]}\n",
    "dfs(Graph)"
   ]
  },
  {
   "cell_type": "code",
   "execution_count": 5,
   "id": "5444cd0a",
   "metadata": {},
   "outputs": [
    {
     "name": "stdout",
     "output_type": "stream",
     "text": [
      "...........S..........\n",
      "........./...\\........\n",
      "........A......B......\n",
      "......./..\\.../..\\....\n",
      "......C.....D.....E...\n",
      ".......\\__________/...\n"
     ]
    }
   ],
   "source": [
    "print(\"...........S..........\")\n",
    "print(\"........./...\\........\")\n",
    "print(\"........A......B......\")\n",
    "print(\"......./..\\.../..\\....\")\n",
    "print(\"......C.....D.....E...\")\n",
    "print(\".......\\__________/...\")"
   ]
  },
  {
   "cell_type": "code",
   "execution_count": 6,
   "id": "6587c263",
   "metadata": {},
   "outputs": [
    {
     "name": "stdout",
     "output_type": "stream",
     "text": [
      "visiting node  S  at time  0\n",
      "visiting node  A  at time  1\n",
      "visiting node  C  at time  2\n",
      "C  finished at time  4\n",
      "visiting node  D  at time  2\n",
      "D  finished at time  4\n",
      "A  finished at time  3\n",
      "visiting node  B  at time  1\n",
      "visiting node  E  at time  2\n",
      "E  finished at time  4\n",
      "B  finished at time  3\n",
      "S  finished at time  2\n",
      "name, parent, discovered, finished\n",
      "  S     None       1         2\n",
      "  A     S       2         3\n",
      "  B     S       2         3\n",
      "  C     A       3         4\n",
      "  D     A       3         4\n",
      "  E     B       3         4\n",
      "  E     B       3         4\n",
      "  D     A       3         4\n",
      "  C     A       3         4\n",
      "  B     S       2         3\n",
      "  A     S       2         3\n",
      "  S     None       1         2\n"
     ]
    }
   ],
   "source": [
    "# directed graph downward, with E pointing to C\n",
    "Graph = {S:[A,B],A:[C,D],B:[D,E],C:[],D:[],E:[C]}\n",
    "topo(Graph)"
   ]
  }
 ],
 "metadata": {
  "kernelspec": {
   "display_name": "Python 3 (ipykernel)",
   "language": "python",
   "name": "python3"
  },
  "language_info": {
   "codemirror_mode": {
    "name": "ipython",
    "version": 3
   },
   "file_extension": ".py",
   "mimetype": "text/x-python",
   "name": "python",
   "nbconvert_exporter": "python",
   "pygments_lexer": "ipython3",
   "version": "3.11.5"
  }
 },
 "nbformat": 4,
 "nbformat_minor": 5
}

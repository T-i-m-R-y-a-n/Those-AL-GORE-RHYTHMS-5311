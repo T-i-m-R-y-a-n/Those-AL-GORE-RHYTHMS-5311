{
 "cells": [
  {
   "cell_type": "markdown",
   "id": "27ed1188",
   "metadata": {},
   "source": [
    "Tim Ryan (1000196736)\n",
    "CSE 5311\n",
    "Hands on 6\n",
    "Oct. 1, 2024\n",
    "\n",
    "SPECS Microsoft Windows OS, Lenovo x64-based laptop, Processor :Intel(R) Core(TM) i5-10210U CPU @ 1.60GHz, 2112 Mhz, 4 Core(s), 8 Logical Processor(s), Installed Physical Memory (RAM) 16.0 GB, Available Virtual Memory 11.4 GB I ran a Python3 kernel on jupyter notebook on google chrome browswer."
   ]
  },
  {
   "cell_type": "code",
   "execution_count": 1,
   "id": "a6a8ce92",
   "metadata": {},
   "outputs": [],
   "source": [
    "import numpy as np\n",
    "import matplotlib.pyplot as plt\n",
    "import timeit"
   ]
  },
  {
   "cell_type": "markdown",
   "id": "b0a234e5",
   "metadata": {},
   "source": [
    "Program for non-random (picking last element as pivot)"
   ]
  },
  {
   "cell_type": "code",
   "execution_count": 2,
   "id": "ab1f8db3",
   "metadata": {},
   "outputs": [],
   "source": [
    "def lastPartition(arr,p,r):\n",
    "    x = arr[r]\n",
    "    i = p-1\n",
    "    for j in range(p, r):\n",
    "        if arr[j] <= x:\n",
    "            i = i+1\n",
    "            arr[i], arr[j] = arr[j], arr[i]\n",
    "    arr[i+1], arr[r] = arr[r], arr[i+1]\n",
    "    return i + 1\n"
   ]
  },
  {
   "cell_type": "code",
   "execution_count": 3,
   "id": "e4dcd896",
   "metadata": {},
   "outputs": [],
   "source": [
    "def lastQuicksort(arr, p, r):\n",
    "    if p < r:\n",
    "        q = lastPartition(arr, p, r)\n",
    "        lastQuicksort(arr, p, q - 1)\n",
    "        lastQuicksort(arr, q + 1, r)\n",
    "    return arr"
   ]
  },
  {
   "cell_type": "code",
   "execution_count": 4,
   "id": "51823a57",
   "metadata": {},
   "outputs": [
    {
     "data": {
      "text/plain": [
       "[1, 2, 3, 4, 5, 5, 7, 9]"
      ]
     },
     "execution_count": 4,
     "metadata": {},
     "output_type": "execute_result"
    }
   ],
   "source": [
    "lastQuicksort([1,3,5,2,7,9,5,4],0,7)"
   ]
  },
  {
   "cell_type": "code",
   "execution_count": 5,
   "id": "926d77e8",
   "metadata": {},
   "outputs": [
    {
     "data": {
      "text/plain": [
       "[-2, 0, 3, 4, 6, 7, 8, 9, 11, 55]"
      ]
     },
     "execution_count": 5,
     "metadata": {},
     "output_type": "execute_result"
    }
   ],
   "source": [
    "lastQuicksort([11,3,7,9,0,4,6,55,8,-2],0,9)"
   ]
  },
  {
   "cell_type": "markdown",
   "id": "88f71574",
   "metadata": {},
   "source": [
    "Program for random pivot"
   ]
  },
  {
   "cell_type": "code",
   "execution_count": 6,
   "id": "ce900398",
   "metadata": {},
   "outputs": [],
   "source": [
    "def randPartition(arr, p, r):\n",
    "    n = np.random.randint(p,r)\n",
    "    arr[n], arr[r] = arr[r],arr[n]\n",
    "    return lastPartition(arr, p, r)"
   ]
  },
  {
   "cell_type": "code",
   "execution_count": 7,
   "id": "b9a36ba8",
   "metadata": {},
   "outputs": [],
   "source": [
    "def randQuicksort(arr, p, r):\n",
    "    if p < r:\n",
    "        q = randPartition(arr, p, r)\n",
    "        randQuicksort(arr, p, q - 1)\n",
    "        randQuicksort(arr, q + 1, r)\n",
    "    return arr"
   ]
  },
  {
   "cell_type": "code",
   "execution_count": 8,
   "id": "d7c8e486",
   "metadata": {},
   "outputs": [
    {
     "data": {
      "text/plain": [
       "[-2, 0, 3, 4, 6, 7, 8, 9, 11, 55]"
      ]
     },
     "execution_count": 8,
     "metadata": {},
     "output_type": "execute_result"
    }
   ],
   "source": [
    "randQuicksort([11,3,7,9,0,4,6,55,8,-2],0,9)"
   ]
  },
  {
   "cell_type": "code",
   "execution_count": 9,
   "id": "4c9a53bc",
   "metadata": {},
   "outputs": [
    {
     "data": {
      "text/plain": [
       "[1, 2, 3, 4, 5, 5, 7, 9]"
      ]
     },
     "execution_count": 9,
     "metadata": {},
     "output_type": "execute_result"
    }
   ],
   "source": [
    "randQuicksort([1,3,5,2,7,9,5,4],0,7)"
   ]
  },
  {
   "cell_type": "code",
   "execution_count": 10,
   "id": "7001c801",
   "metadata": {},
   "outputs": [],
   "source": [
    "#best case\n",
    "import math\n",
    "def sor(n):\n",
    "    arr = np.arange(1, n+1)\n",
    "   # print(\"arr before cs\", arr)\n",
    "    arrs = chopAndScramble(arr, n)\n",
    "    return arrs, 0, n-1\n",
    "\n",
    "def chopAndScramble(arr, n):\n",
    "   # print(\"chsc n \", arr, n)\n",
    "    if (n < 3):\n",
    "        return arr\n",
    "    #h = math.floor(math.log(n,2)) \n",
    "# while h >= 0:\n",
    "    mid = math.floor(n/2) \n",
    "    midel = arr[mid]\n",
    "    #limid = math.floor(n/4)\n",
    "    #bimid = math.floor(3*n/4)\n",
    "    #arr[limid], arr[mid-1] = arr[mid-1], arr[limid]\n",
    "    #arr[bimid], arr[len(arr)-1] = arr[len(arr)-1], arr[bimid]\n",
    "    arra = list(arr[:mid])\n",
    "    arrb = list(arr[mid + 1 :])\n",
    "   # print(\"A\" , arra)\n",
    "   # print(\"B \",arrb)\n",
    "    #arrb[0], arrb[len(arrb)-1] =  arrb[len(arrb)-1], arrb[0]\n",
    "    ak = list(chopAndScramble(arra, len(arra)))\n",
    "    gr = list(chopAndScramble(arrb, len(arrb)))\n",
    "    lisa = ak + gr\n",
    "    lisa.append(midel)\n",
    "    newArr = np.array(lisa)\n",
    "       # h = h-1\n",
    "    return newArr"
   ]
  },
  {
   "cell_type": "code",
   "execution_count": 11,
   "id": "3d2abcd8",
   "metadata": {},
   "outputs": [],
   "source": [
    "a, p, r = sor(10)"
   ]
  },
  {
   "cell_type": "code",
   "execution_count": 12,
   "id": "4ef3877b",
   "metadata": {},
   "outputs": [
    {
     "data": {
      "text/plain": [
       "array([ 1,  2,  4,  5,  3,  7,  8, 10,  9,  6])"
      ]
     },
     "execution_count": 12,
     "metadata": {},
     "output_type": "execute_result"
    }
   ],
   "source": [
    "a"
   ]
  },
  {
   "cell_type": "code",
   "execution_count": 13,
   "id": "f50ee0e4",
   "metadata": {},
   "outputs": [],
   "source": [
    "a,p,r = sor(25)"
   ]
  },
  {
   "cell_type": "code",
   "execution_count": 14,
   "id": "ca3f7cb8",
   "metadata": {},
   "outputs": [
    {
     "data": {
      "text/plain": [
       "array([ 1,  3,  2,  5,  6,  4,  8,  9, 11, 12, 10,  7, 14, 16, 15, 18, 19,\n",
       "       17, 21, 22, 24, 25, 23, 20, 13])"
      ]
     },
     "execution_count": 14,
     "metadata": {},
     "output_type": "execute_result"
    }
   ],
   "source": [
    "a"
   ]
  },
  {
   "cell_type": "code",
   "execution_count": 15,
   "id": "710c5c64",
   "metadata": {},
   "outputs": [],
   "source": [
    "b10=timeit.timeit(lambda: lastQuicksort(a, p, r), number = 1) * 1000"
   ]
  },
  {
   "cell_type": "code",
   "execution_count": 16,
   "id": "7c03a3ad",
   "metadata": {},
   "outputs": [],
   "source": [
    "a, p, r = sor(100)"
   ]
  },
  {
   "cell_type": "code",
   "execution_count": 17,
   "id": "bfa2534b",
   "metadata": {},
   "outputs": [],
   "source": [
    "b100=timeit.timeit(lambda: lastQuicksort(a, p, r), number = 1) * 1000"
   ]
  },
  {
   "cell_type": "code",
   "execution_count": 18,
   "id": "2449cfb4",
   "metadata": {},
   "outputs": [],
   "source": [
    "a, p, r = sor(500)"
   ]
  },
  {
   "cell_type": "code",
   "execution_count": 19,
   "id": "32a69c8f",
   "metadata": {},
   "outputs": [],
   "source": [
    "b500=timeit.timeit(lambda: lastQuicksort(a, p, r), number = 1) * 1000"
   ]
  },
  {
   "cell_type": "code",
   "execution_count": 20,
   "id": "5f994d3e",
   "metadata": {},
   "outputs": [],
   "source": [
    "a, p, r = sor(1000)"
   ]
  },
  {
   "cell_type": "code",
   "execution_count": 21,
   "id": "c89ad567",
   "metadata": {},
   "outputs": [],
   "source": [
    "b1000=timeit.timeit(lambda: lastQuicksort(a, p, r), number = 1) * 1000"
   ]
  },
  {
   "cell_type": "code",
   "execution_count": 22,
   "id": "70fae725",
   "metadata": {},
   "outputs": [],
   "source": [
    "a, p, r = sor(2000)"
   ]
  },
  {
   "cell_type": "code",
   "execution_count": 23,
   "id": "1534c3da",
   "metadata": {},
   "outputs": [],
   "source": [
    "b2000=timeit.timeit(lambda: lastQuicksort(a, p, r), number = 1) * 1000"
   ]
  },
  {
   "cell_type": "code",
   "execution_count": 24,
   "id": "cc84a31e",
   "metadata": {},
   "outputs": [],
   "source": [
    "a,p,r = sor(2500)"
   ]
  },
  {
   "cell_type": "code",
   "execution_count": 25,
   "id": "be68697f",
   "metadata": {},
   "outputs": [],
   "source": [
    "b2500=timeit.timeit(lambda: lastQuicksort(a, p, r), number = 1) * 1000"
   ]
  },
  {
   "cell_type": "code",
   "execution_count": 26,
   "id": "07eb82a3",
   "metadata": {},
   "outputs": [],
   "source": [
    "#worst case\n",
    "def revsor(n):\n",
    "    arr = np.arange(1, n+1)\n",
    "    return arr, 0, n-1"
   ]
  },
  {
   "cell_type": "code",
   "execution_count": 27,
   "id": "399cdfdd",
   "metadata": {},
   "outputs": [],
   "source": [
    "a, p, r = revsor(10)"
   ]
  },
  {
   "cell_type": "code",
   "execution_count": 28,
   "id": "a2c2066c",
   "metadata": {},
   "outputs": [
    {
     "data": {
      "text/plain": [
       "array([ 1,  2,  3,  4,  5,  6,  7,  8,  9, 10])"
      ]
     },
     "execution_count": 28,
     "metadata": {},
     "output_type": "execute_result"
    }
   ],
   "source": [
    "a"
   ]
  },
  {
   "cell_type": "code",
   "execution_count": 29,
   "id": "93e2f648",
   "metadata": {},
   "outputs": [],
   "source": [
    "w10 = timeit.timeit(lambda: lastQuicksort(a, p, r), number = 1) * 1000"
   ]
  },
  {
   "cell_type": "code",
   "execution_count": 30,
   "id": "4e46b3cd",
   "metadata": {},
   "outputs": [],
   "source": [
    "a, p, r = revsor(100)"
   ]
  },
  {
   "cell_type": "code",
   "execution_count": 31,
   "id": "04fe5754",
   "metadata": {},
   "outputs": [],
   "source": [
    "w100=timeit.timeit(lambda: lastQuicksort(a, p, r), number = 1) * 1000"
   ]
  },
  {
   "cell_type": "code",
   "execution_count": 32,
   "id": "b0099ce1",
   "metadata": {},
   "outputs": [],
   "source": [
    "a, p, r = revsor(500)"
   ]
  },
  {
   "cell_type": "code",
   "execution_count": 33,
   "id": "0ec767b9",
   "metadata": {},
   "outputs": [],
   "source": [
    "w500=timeit.timeit(lambda: lastQuicksort(a, p, r), number = 1) * 1000"
   ]
  },
  {
   "cell_type": "code",
   "execution_count": 34,
   "id": "b7a430ae",
   "metadata": {},
   "outputs": [],
   "source": [
    "a, p, r = revsor(1000)"
   ]
  },
  {
   "cell_type": "code",
   "execution_count": 35,
   "id": "2abb1fe1",
   "metadata": {},
   "outputs": [],
   "source": [
    "w1000=timeit.timeit(lambda: lastQuicksort(a, p, r), number = 1) * 1000"
   ]
  },
  {
   "cell_type": "code",
   "execution_count": 36,
   "id": "02324db2",
   "metadata": {},
   "outputs": [],
   "source": [
    "a, p, r = revsor(2000)"
   ]
  },
  {
   "cell_type": "code",
   "execution_count": 37,
   "id": "63bcf0b8",
   "metadata": {},
   "outputs": [],
   "source": [
    "w2000=timeit.timeit(lambda: lastQuicksort(a, p, r), number = 1) * 1000"
   ]
  },
  {
   "cell_type": "code",
   "execution_count": 38,
   "id": "04936024",
   "metadata": {},
   "outputs": [],
   "source": [
    "a,p,r = revsor(2500)"
   ]
  },
  {
   "cell_type": "code",
   "execution_count": 39,
   "id": "065d0e0e",
   "metadata": {},
   "outputs": [],
   "source": [
    "w2500= timeit.timeit(lambda: lastQuicksort(a, p, r), number = 1) * 1000"
   ]
  },
  {
   "cell_type": "code",
   "execution_count": 40,
   "id": "efaaa97a",
   "metadata": {},
   "outputs": [],
   "source": [
    "def ransor(n): \n",
    "    arr = np.random.randint(1, n, size=(n))\n",
    "    return arr, 0, n-1"
   ]
  },
  {
   "cell_type": "code",
   "execution_count": 41,
   "id": "8ac60edf",
   "metadata": {},
   "outputs": [],
   "source": [
    "a, p, r = ransor(10)"
   ]
  },
  {
   "cell_type": "code",
   "execution_count": 42,
   "id": "b5b1a289",
   "metadata": {},
   "outputs": [
    {
     "data": {
      "text/plain": [
       "array([8, 9, 2, 8, 4, 8, 2, 4, 2, 8])"
      ]
     },
     "execution_count": 42,
     "metadata": {},
     "output_type": "execute_result"
    }
   ],
   "source": [
    "a"
   ]
  },
  {
   "cell_type": "code",
   "execution_count": 43,
   "id": "b3a4a31e",
   "metadata": {},
   "outputs": [],
   "source": [
    "a10=timeit.timeit(lambda: lastQuicksort(a, p, r), number = 1) * 1000"
   ]
  },
  {
   "cell_type": "code",
   "execution_count": 44,
   "id": "55772e76",
   "metadata": {},
   "outputs": [
    {
     "data": {
      "text/plain": [
       "0.03460003063082695"
      ]
     },
     "execution_count": 44,
     "metadata": {},
     "output_type": "execute_result"
    }
   ],
   "source": [
    "timeit.timeit(lambda: lastQuicksort(a, p, r), number = 1) * 1000"
   ]
  },
  {
   "cell_type": "code",
   "execution_count": 45,
   "id": "636801a1",
   "metadata": {},
   "outputs": [],
   "source": [
    "a, p, r = ransor(100)"
   ]
  },
  {
   "cell_type": "code",
   "execution_count": 46,
   "id": "5c6461fd",
   "metadata": {},
   "outputs": [],
   "source": [
    "a100=timeit.timeit(lambda: lastQuicksort(a, p, r), number = 1) * 1000"
   ]
  },
  {
   "cell_type": "code",
   "execution_count": 47,
   "id": "74d5a330",
   "metadata": {},
   "outputs": [],
   "source": [
    "a, p, r = ransor(500)"
   ]
  },
  {
   "cell_type": "code",
   "execution_count": 48,
   "id": "6f3eeb94",
   "metadata": {},
   "outputs": [],
   "source": [
    "a500=timeit.timeit(lambda: lastQuicksort(a, p, r), number = 1) * 1000"
   ]
  },
  {
   "cell_type": "code",
   "execution_count": 49,
   "id": "594d9b6c",
   "metadata": {},
   "outputs": [],
   "source": [
    "a, p, r = ransor(1000)"
   ]
  },
  {
   "cell_type": "code",
   "execution_count": 50,
   "id": "e67ed2c1",
   "metadata": {},
   "outputs": [],
   "source": [
    "a1000=timeit.timeit(lambda: lastQuicksort(a, p, r), number = 1) * 1000"
   ]
  },
  {
   "cell_type": "code",
   "execution_count": 51,
   "id": "cae055cf",
   "metadata": {},
   "outputs": [],
   "source": [
    "a, p, r = ransor(2000)"
   ]
  },
  {
   "cell_type": "code",
   "execution_count": 52,
   "id": "6e59036d",
   "metadata": {},
   "outputs": [],
   "source": [
    "a2000=timeit.timeit(lambda: lastQuicksort(a, p, r), number = 1) * 1000"
   ]
  },
  {
   "cell_type": "code",
   "execution_count": 53,
   "id": "fb2b9819",
   "metadata": {},
   "outputs": [],
   "source": [
    "a, p, r = ransor(2500)"
   ]
  },
  {
   "cell_type": "code",
   "execution_count": 54,
   "id": "0c74992b",
   "metadata": {},
   "outputs": [],
   "source": [
    "a2500=timeit.timeit(lambda: lastQuicksort(a, p, r), number = 1) * 1000"
   ]
  },
  {
   "cell_type": "code",
   "execution_count": 55,
   "id": "45aef62c",
   "metadata": {},
   "outputs": [
    {
     "name": "stdout",
     "output_type": "stream",
     "text": [
      "CPU times: total: 953 ms\n",
      "Wall time: 1.31 s\n"
     ]
    },
    {
     "data": {
      "text/plain": [
       "array([   1,    2,    3, ..., 2497, 2497, 2498])"
      ]
     },
     "execution_count": 55,
     "metadata": {},
     "output_type": "execute_result"
    }
   ],
   "source": [
    "time(lastQuicksort(a, p, r))"
   ]
  },
  {
   "cell_type": "code",
   "execution_count": 56,
   "id": "9556f71d",
   "metadata": {},
   "outputs": [
    {
     "data": {
      "image/png": "[encoded data removed]",
      "text/plain": [
       "<Figure size 640x480 with 1 Axes>"
      ]
     },
     "metadata": {},
     "output_type": "display_data"
    }
   ],
   "source": [
    "x = [10, 100, 500, 1000, 2000, 2500]\n",
    "best = [b10, b100, b500, b1000, b2000, b2500]\n",
    "worst = [w10, w100, w500, w1000, w2000, w2500]\n",
    "average = [a10,a100, a500, a1000,a2000, a2500]\n",
    "\n",
    "plt.plot(x, best, color='blue', label='best')\n",
    "plt.plot(x, worst, color='red', label='worst')\n",
    "plt.plot(x, average, color='green', label='average')\n",
    "\n",
    "plt.xlabel('input size')\n",
    "plt.ylabel('time')\n",
    "plt.legend()\n",
    "plt.show()"
   ]
  },
  {
   "cell_type": "markdown",
   "id": "02346004",
   "metadata": {},
   "source": [
    "For average case runtime:\n",
    "Assume average case tends toward the worst split, like a nine to one split on each iteration.\n",
    "This gives up T(n) = T(9n/10) + T(n/10) + theta(n)\n",
    "and assume T(0)=T(1)=theta(1)=1 (a constant) and guess that\n",
    "T(n) = O(nlgn)\n",
    "\n",
    "since O(log n) = O(lg n), as log x = (1/lg(10)) lg x and 1/lg(10) is a constant\n",
    "\n",
    "we will say \n",
    "T(n) <= cnlogn\n",
    "\n",
    "T(n) = T(9n/10) + T(n/10) + n <=  (9c/10)nlog(9n/10) + (c/10)log(n/10)\n",
    "T(n)=T(9n/10)+T(n/10)+n<= (c/10)(9nlogn + n(9log(n) - 9) + log(n) - 1\n",
    "\n",
    "we can drop  n(9log(n) - 9) - 1 because that will always be <= 0 (n will be positive or zero and 9log(n) - 9 will be negative.\n",
    "\n",
    "T(n)=T(9n/10)+T(n/10)+n<= (c/10)(9nlogn + log(n))\n",
    "\n",
    "and since logn <= nlogn for any n >=0\n",
    "\n",
    "T(n)= T(9n/10) + T(n/10) + n <= (c/10)(9nlogn + nlog(n))\n",
    "T(n)= T(9n/10) + T(n/10) + n <= (c/10)(10)(nlogn)\n",
    "T(n)= T(9n/10) + T(n/10) + n = cnlogn\n",
    "T(n)= T(9n/10) + T(n/10) + n = theta(nlgn)"
   ]
  },
  {
   "cell_type": "code",
   "execution_count": 57,
   "id": "9d47e896",
   "metadata": {},
   "outputs": [
    {
     "name": "stdout",
     "output_type": "stream",
     "text": [
      "a  [ 3  9  4 10  8  2  6  5  1  7]\n"
     ]
    }
   ],
   "source": [
    "#trying some alternate ways using random\n",
    "import random\n",
    "#my best alg vs random 1 to n no repeats\n",
    "def ransor(n): \n",
    "    arr = np.arange(1, n+1)\n",
    "    ran = list(arr)\n",
    "    random.shuffle(ran)\n",
    "    arr = np.array(ran)\n",
    "    return arr, 0, n-1\n",
    "\n",
    "a, p, r = ransor(10)\n",
    "\n",
    "print(\"a \", a)\n",
    "\n",
    "a10=timeit.timeit(lambda: lastQuicksort(a, p, r), number = 1) * 1000\n",
    "\n",
    "timeit.timeit(lambda: lastQuicksort(a, p, r), number = 1) * 1000\n",
    "\n",
    "a, p, r = ransor(100)\n",
    "\n",
    "a100=timeit.timeit(lambda: lastQuicksort(a, p, r), number = 1) * 1000\n",
    "\n",
    "a, p, r = ransor(500)\n",
    "\n",
    "a500=timeit.timeit(lambda: lastQuicksort(a, p, r), number = 1) * 1000\n",
    "\n",
    "a, p, r = ransor(1000)\n",
    "\n",
    "a1000=timeit.timeit(lambda: lastQuicksort(a, p, r), number = 1) * 1000\n",
    "\n",
    "a, p, r = ransor(2000)\n",
    "\n",
    "a2000=timeit.timeit(lambda: lastQuicksort(a, p, r), number = 1) * 1000\n",
    "\n",
    "a, p, r = ransor(2500)\n",
    "\n",
    "a2500=timeit.timeit(lambda: lastQuicksort(a, p, r), number = 1) * 1000"
   ]
  },
  {
   "cell_type": "code",
   "execution_count": 58,
   "id": "ec802bae",
   "metadata": {},
   "outputs": [
    {
     "data": {
      "image/png": "[encoded data removed]",
      "text/plain": [
       "<Figure size 640x480 with 1 Axes>"
      ]
     },
     "metadata": {},
     "output_type": "display_data"
    }
   ],
   "source": [
    "x = [10, 100, 500, 1000, 2000, 2500]\n",
    "best = [b10, b100, b500, b1000, b2000, b2500]\n",
    "#worst = [w10, w100, w500, w1000, w2000, w2500]\n",
    "average = [a10,a100, a500, a1000,a2000, a2500]\n",
    "\n",
    "plt.plot(x, best, color='blue', label='best')\n",
    "#plt.plot(x, worst, color='red', label='worst')\n",
    "plt.plot(x, average, color='green', label='average')\n",
    "\n",
    "plt.xlabel('input size')\n",
    "plt.ylabel('time')\n",
    "plt.legend()\n",
    "plt.show()"
   ]
  },
  {
   "cell_type": "code",
   "execution_count": 59,
   "id": "d1c71985",
   "metadata": {},
   "outputs": [],
   "source": [
    "#new best case, I use random to scramble after shifting mid to back\n",
    "def sor(n):\n",
    "    arr = np.arange(1, n+1)\n",
    "   # print(\"arr before cs\", arr)\n",
    "    arrs = chopAndScramble(arr, n)\n",
    "    return arrs, 0, n-1\n",
    "\n",
    "def chopAndScramble(arr, n):\n",
    "   # print(\"chsc n \", arr, n)\n",
    "    if (n < 4):\n",
    "        return arr\n",
    "    #h = math.floor(math.log(n,2)) \n",
    "# while h >= 0:\n",
    "    mid = math.floor(n/2) \n",
    "    midel = arr[mid]\n",
    "    #limid = math.floor(n/4)\n",
    "    #bimid = math.floor(3*n/4)\n",
    "    #arr[limid], arr[mid-1] = arr[mid-1], arr[limid]\n",
    "    #arr[bimid], arr[len(arr)-1] = arr[len(arr)-1], arr[bimid]\n",
    "    arra = list(arr[:mid])\n",
    "    arrb = list(arr[mid + 1 :])\n",
    "   # print(\"A\" , arra)\n",
    "   # print(\"B \",arrb)\n",
    "    #arrb[0], arrb[len(arrb)-1] =  arrb[len(arrb)-1], arrb[0]\n",
    "    random.shuffle(arra)    \n",
    "    random.shuffle(arrb)\n",
    "    lisa = arra + arrb\n",
    "    lisa.append(midel)\n",
    "    newArr = np.array(lisa)\n",
    "       # h = h-1\n",
    "    return newArr"
   ]
  },
  {
   "cell_type": "code",
   "execution_count": 60,
   "id": "0c2be72d",
   "metadata": {},
   "outputs": [],
   "source": [
    "a, p, r = sor(25)"
   ]
  },
  {
   "cell_type": "code",
   "execution_count": 61,
   "id": "4dbb29b0",
   "metadata": {},
   "outputs": [
    {
     "data": {
      "text/plain": [
       "array([ 2,  9,  1, 11, 12,  7,  8,  3,  6,  5,  4, 10, 18, 25, 17, 20, 24,\n",
       "       22, 16, 19, 23, 15, 14, 21, 13])"
      ]
     },
     "execution_count": 61,
     "metadata": {},
     "output_type": "execute_result"
    }
   ],
   "source": [
    "a"
   ]
  },
  {
   "cell_type": "code",
   "execution_count": 62,
   "id": "f79c5915",
   "metadata": {},
   "outputs": [],
   "source": [
    "b10=timeit.timeit(lambda: lastQuicksort(a, p, r), number = 1) * 1000\n",
    "\n",
    "a, p, r = sor(100)\n",
    "\n",
    "b100=timeit.timeit(lambda: lastQuicksort(a, p, r), number = 1) * 1000\n",
    "\n",
    "a, p, r = sor(500)\n",
    "\n",
    "b500=timeit.timeit(lambda: lastQuicksort(a, p, r), number = 1) * 1000\n",
    "\n",
    "a, p, r = sor(1000)\n",
    "\n",
    "b1000=timeit.timeit(lambda: lastQuicksort(a, p, r), number = 1) * 1000\n",
    "\n",
    "a, p, r = sor(2000)\n",
    "\n",
    "b2000=timeit.timeit(lambda: lastQuicksort(a, p, r), number = 1) * 1000\n",
    "\n",
    "a,p,r = sor(2500)\n",
    "\n",
    "b2500=timeit.timeit(lambda: lastQuicksort(a, p, r), number = 1) * 1000"
   ]
  },
  {
   "cell_type": "code",
   "execution_count": 63,
   "id": "90646661",
   "metadata": {},
   "outputs": [
    {
     "name": "stdout",
     "output_type": "stream",
     "text": [
      "a [ 7  4  9  5 10  1  3  6  2  8]\n"
     ]
    }
   ],
   "source": [
    "def ransor(n): \n",
    "    arr = np.arange(1, n+1)\n",
    "    ran = list(arr)\n",
    "    random.shuffle(ran)\n",
    "    arr = np.array(ran)\n",
    "    return arr, 0, n-1\n",
    "\n",
    "a, p, r = ransor(10)\n",
    "\n",
    "print(\"a\", a)\n",
    "\n",
    "a10=timeit.timeit(lambda: lastQuicksort(a, p, r), number = 1) * 1000\n",
    "\n",
    "timeit.timeit(lambda: lastQuicksort(a, p, r), number = 1) * 1000\n",
    "\n",
    "a, p, r = ransor(100)\n",
    "\n",
    "a100=timeit.timeit(lambda: lastQuicksort(a, p, r), number = 1) * 1000\n",
    "\n",
    "a, p, r = ransor(500)\n",
    "\n",
    "a500=timeit.timeit(lambda: lastQuicksort(a, p, r), number = 1) * 1000\n",
    "\n",
    "a, p, r = ransor(1000)\n",
    "\n",
    "a1000=timeit.timeit(lambda: lastQuicksort(a, p, r), number = 1) * 1000\n",
    "\n",
    "a, p, r = ransor(2000)\n",
    "\n",
    "a2000=timeit.timeit(lambda: lastQuicksort(a, p, r), number = 1) * 1000\n",
    "\n",
    "a, p, r = ransor(2500)\n",
    "\n",
    "a2500=timeit.timeit(lambda: lastQuicksort(a, p, r), number = 1) * 1000"
   ]
  },
  {
   "cell_type": "code",
   "execution_count": 64,
   "id": "a339eae3",
   "metadata": {},
   "outputs": [
    {
     "data": {
      "image/png": "[encoded data removed]",
      "text/plain": [
       "<Figure size 640x480 with 1 Axes>"
      ]
     },
     "metadata": {},
     "output_type": "display_data"
    }
   ],
   "source": [
    "x = [10, 100, 500, 1000, 2000, 2500]\n",
    "best = [b10, b100, b500, b1000, b2000, b2500]\n",
    "#worst = [w10, w100, w500, w1000, w2000, w2500]\n",
    "average = [a10,a100, a500, a1000,a2000, a2500]\n",
    "\n",
    "plt.plot(x, best, color='blue', label='best')\n",
    "#plt.plot(x, worst, color='red', label='worst')\n",
    "plt.plot(x, average, color='green', label='average')\n",
    "\n",
    "plt.xlabel('input size')\n",
    "plt.ylabel('time')\n",
    "plt.legend()\n",
    "plt.show()"
   ]
  }
 ],
 "metadata": {
  "kernelspec": {
   "display_name": "Python 3 (ipykernel)",
   "language": "python",
   "name": "python3"
  },
  "language_info": {
   "codemirror_mode": {
    "name": "ipython",
    "version": 3
   },
   "file_extension": ".py",
   "mimetype": "text/x-python",
   "name": "python",
   "nbconvert_exporter": "python",
   "pygments_lexer": "ipython3",
   "version": "3.11.5"
  }
 },
 "nbformat": 4,
 "nbformat_minor": 5
}

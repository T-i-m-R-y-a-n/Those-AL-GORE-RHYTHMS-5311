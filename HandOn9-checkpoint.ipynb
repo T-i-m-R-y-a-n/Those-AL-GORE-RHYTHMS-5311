{
 "cells": [
  {
   "cell_type": "markdown",
   "id": "4ebd5430",
   "metadata": {},
   "source": [
    "Tim Ryan (1000196736)\n",
    "CSE 5311\n",
    "Hash Table\n",
    "Oct. 21, 2024\n",
    "\n",
    "SPECS Microsoft Windows OS, Lenovo x64-based laptop, Processor :Intel(R) Core(TM) i5-10210U CPU @ 1.60GHz, 2112 Mhz, 4 Core(s), 8 Logical Processor(s), Installed Physical Memory (RAM) 16.0 GB, Available Virtual Memory 11.4 GB I ran a Python3 kernel on jupyter notebook on google chrome browswer."
   ]
  },
  {
   "cell_type": "code",
   "execution_count": 1,
   "id": "02e91634",
   "metadata": {},
   "outputs": [],
   "source": [
    "import numpy as np"
   ]
  },
  {
   "cell_type": "code",
   "execution_count": 2,
   "id": "374f5be0",
   "metadata": {},
   "outputs": [],
   "source": [
    "class Link():\n",
    "    def __init__(self, key, data):\n",
    "        self.next = None\n",
    "        self.previous = None\n",
    "        self.key = key\n",
    "        self.data = data\n",
    "        \n",
    "class LinkList():\n",
    "    def __init__(self):\n",
    "        self.head = None\n",
    "        self.tail = None\n",
    "        self.size = 0\n",
    "    def insertFro(self, key, data):\n",
    "        link = Link(key, data)\n",
    "        if self.head == None:\n",
    "            self.head = link\n",
    "            self.tail = link\n",
    "        else:\n",
    "            link.next = self.head\n",
    "            self.head = link\n",
    "        self.size += 1\n",
    "    def insertInd(self, key, data, ind): #ind = 0 inserts at head  ****  t  NOT USED\n",
    "        if ind == 0:\n",
    "            self.insertFro(data)\n",
    "            return\n",
    "        curr = self.head\n",
    "        link = Link(data)\n",
    "        while (ind > 1 and curr):\n",
    "            curr = curr.next\n",
    "            ind = ind - 1\n",
    "        if (ind > 2 or (not curr)):\n",
    "            raise ValueError(\"No such index\")\n",
    "            \n",
    "        if curr.next != None:\n",
    "            link.next = curr.next\n",
    "            curr.next = link\n",
    "        else:\n",
    "            link.next = None\n",
    "            curr.next = link\n",
    "        self.size+=1\n",
    "    def search(self, x):        # search for key = x, return data\n",
    "        curr = self.head\n",
    "        look = x\n",
    "        ind = 0\n",
    "        while(curr):\n",
    "            if curr.key == look:\n",
    "                return curr.data\n",
    "            if curr.next == None:\n",
    "                return -1\n",
    "            curr = curr.next\n",
    "            ind = ind + 1\n",
    "    def delist(self, x):                #           ******t look for key, delete link\n",
    "        look = x\n",
    "        if self.head.key == look:\n",
    "            self.head = self.head.next\n",
    "            self.size += -1\n",
    "            return 0\n",
    "        curr = self.head\n",
    "        while(curr):\n",
    "            prev = curr\n",
    "            curr = curr.next\n",
    "            if curr.key == look:\n",
    "                if curr.next == None:\n",
    "                    prev.next = None\n",
    "                else:\n",
    "                    prev.next = curr.next\n",
    "                self.size += -1\n",
    "                return 0\n",
    "        raise ValueError(\"item not found\")\n",
    "    def printLi(self):\n",
    "        curr = self.head\n",
    "        ind = 0\n",
    "        while(curr):\n",
    "            print(curr.key,\") \", curr.data)\n",
    "            curr = curr.next\n",
    "            ind = ind + 1\n",
    "            "
   ]
  },
  {
   "cell_type": "code",
   "execution_count": 3,
   "id": "051f5212",
   "metadata": {},
   "outputs": [],
   "source": [
    "class HashT():\n",
    "    def __init__(self, m):\n",
    "        self.size = m\n",
    "        self.hashT = np.empty(m, dtype = object)\n",
    "    def hashit(self, key):\n",
    "        return key % self.size\n",
    "    def insert(self, key, data):\n",
    "        ind = self.hashit(key)\n",
    "        spot = self.hashT[ind]\n",
    "        if spot == None:\n",
    "            self.hashT[ind] = Link(key, data)\n",
    "        else:\n",
    "            while spot.next:\n",
    "                spot = spot.next\n",
    "            spot.next = Link(key, data)\n",
    "    def find(self, key):\n",
    "        ind = self.hashit(key)\n",
    "        spot = self.hashT[ind]\n",
    "        while spot:\n",
    "            if key == spot.key:\n",
    "                return spot.data\n",
    "            spot = spot.next\n",
    "        print(\"not found\")\n",
    "        return -1919191\n",
    "    def pri(self):\n",
    "        for i in range(self.size):\n",
    "            spot = self.hashT[i]\n",
    "            while spot:\n",
    "                print(\"index : \", i,\" key: \", spot.key, \"  value : \", spot.data)\n",
    "                spot = spot.next"
   ]
  },
  {
   "cell_type": "code",
   "execution_count": 4,
   "id": "7513caba",
   "metadata": {},
   "outputs": [
    {
     "name": "stdout",
     "output_type": "stream",
     "text": [
      "5 )  11\n",
      "....\n",
      "15 )  12\n",
      "5 )  11\n",
      "....\n",
      "2 )  13\n",
      "15 )  12\n",
      "5 )  11\n",
      "....\n",
      "4 )  15\n",
      "2 )  13\n",
      "15 )  12\n",
      "5 )  11\n",
      "....\n",
      "42 )  47\n",
      "4 )  15\n",
      "2 )  13\n",
      "15 )  12\n",
      "5 )  11\n",
      "....\n",
      "12 )  5\n",
      "42 )  47\n",
      "4 )  15\n",
      "2 )  13\n",
      "15 )  12\n",
      "5 )  11\n"
     ]
    }
   ],
   "source": [
    "lili = LinkList()\n",
    "lili.insertFro(5, 11)\n",
    "lili.printLi()\n",
    "print(\"....\")\n",
    "lili.insertFro(15, 12)\n",
    "lili.printLi()\n",
    "print(\"....\")\n",
    "lili.insertFro(2, 13)\n",
    "lili.printLi()\n",
    "\n",
    "print(\"....\")\n",
    "lili.insertFro(4, 15)\n",
    "lili.printLi()\n",
    "\n",
    "print(\"....\")\n",
    "lili.insertFro(42, 47)\n",
    "lili.printLi()\n",
    "\n",
    "print(\"....\")\n",
    "lili.insertFro(12, 5)\n",
    "lili.printLi()\n"
   ]
  },
  {
   "cell_type": "code",
   "execution_count": 5,
   "id": "03530ef2",
   "metadata": {},
   "outputs": [
    {
     "data": {
      "text/plain": [
       "47"
      ]
     },
     "execution_count": 5,
     "metadata": {},
     "output_type": "execute_result"
    }
   ],
   "source": [
    "lili.search(42)"
   ]
  },
  {
   "cell_type": "code",
   "execution_count": 10,
   "id": "b97e1468",
   "metadata": {},
   "outputs": [
    {
     "name": "stdout",
     "output_type": "stream",
     "text": [
      "not found\n",
      "-1919191\n",
      "........\n",
      "index :  0  key:  15   value :  321\n",
      "index :  1  key:  1   value :  1\n",
      "index :  1  key:  11   value :  22\n",
      "index :  2  key:  62   value :  42\n",
      "index :  3  key:  123   value :  922\n",
      "index :  4  key:  69   value :  2\n"
     ]
    }
   ],
   "source": [
    "ha = HashT(5)\n",
    "ha.insert(1, 1)\n",
    "ha.insert(11, 22)\n",
    "ha.insert(69, 2)\n",
    "ha.insert(15, 321)\n",
    "ha.insert(123, 922)\n",
    "ha.insert(62, 42)\n",
    "print(ha.find(6))\n",
    "print(\"........\")\n",
    "ha.pri()"
   ]
  },
  {
   "cell_type": "code",
   "execution_count": null,
   "id": "1a72c6a7",
   "metadata": {},
   "outputs": [],
   "source": []
  }
 ],
 "metadata": {
  "kernelspec": {
   "display_name": "Python 3 (ipykernel)",
   "language": "python",
   "name": "python3"
  },
  "language_info": {
   "codemirror_mode": {
    "name": "ipython",
    "version": 3
   },
   "file_extension": ".py",
   "mimetype": "text/x-python",
   "name": "python",
   "nbconvert_exporter": "python",
   "pygments_lexer": "ipython3",
   "version": "3.11.5"
  }
 },
 "nbformat": 4,
 "nbformat_minor": 5
}

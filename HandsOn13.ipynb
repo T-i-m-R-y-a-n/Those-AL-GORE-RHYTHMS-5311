{
 "cells": [
  {
   "cell_type": "markdown",
   "id": "e71e666e",
   "metadata": {},
   "source": [
    "Tim Ryan (1000196736) CSE 5311 \n",
    "Hands on 13"
   ]
  },
  {
   "cell_type": "markdown",
   "id": "818e0e6a",
   "metadata": {},
   "source": [
    "*****************************************\n",
    "Doing depth-first first, then topological\n",
    "*****************************************"
   ]
  },
  {
   "cell_type": "code",
   "execution_count": null,
   "id": "f44324ce",
   "metadata": {},
   "outputs": [],
   "source": []
  }
 ],
 "metadata": {
  "kernelspec": {
   "display_name": "Python 3 (ipykernel)",
   "language": "python",
   "name": "python3"
  },
  "language_info": {
   "codemirror_mode": {
    "name": "ipython",
    "version": 3
   },
   "file_extension": ".py",
   "mimetype": "text/x-python",
   "name": "python",
   "nbconvert_exporter": "python",
   "pygments_lexer": "ipython3",
   "version": "3.11.5"
  }
 },
 "nbformat": 4,
 "nbformat_minor": 5
}

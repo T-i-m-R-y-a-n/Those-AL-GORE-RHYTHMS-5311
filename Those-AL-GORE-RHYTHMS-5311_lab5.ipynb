{
 "cells": [
  {
   "cell_type": "markdown",
   "id": "19f7b430",
   "metadata": {},
   "source": [
    "Tim Ryan\n",
    "1000196736\n",
    "Hands on 5 in python"
   ]
  },
  {
   "cell_type": "code",
   "execution_count": 1,
   "id": "d56bc0b7",
   "metadata": {},
   "outputs": [],
   "source": [
    "class MinHeap:\n",
    "    def __init__(self):\n",
    "        self.heap = []\n",
    "    def parent(self, ind):\n",
    "        return (ind - 1) >> 1\n",
    "    def left(self, ind):\n",
    "        return (ind << 1) + 1\n",
    "    def right(self, ind):\n",
    "        return (ind << 1) + 2\n",
    "    \n",
    "    def heapify(self, ind):\n",
    "        while (ind > 0) and (self.heap[ind] < self.heap[self.parent(ind)]):\n",
    "            self.heap[self.parent(ind)], self.heap[ind] = self.heap[ind], self.heap[self.parent(ind)]\n",
    "            ind = self.parent(ind)\n",
    "            \n",
    "    def insert(self, value):\n",
    "        self.heap.append(value)\n",
    "        ind = len(self.heap) - 1\n",
    "        self.heapify(ind)\n",
    "        \n",
    "    def popRoot(self):\n",
    "        if not self.heap:\n",
    "            return \"the heap is heapless\"\n",
    "        if len(self.heap) == 1:\n",
    "            return self.heap.pop()\n",
    "        #print(\"self heap: \", self.heap)\n",
    "        self.heap[0], self.heap[len(self.heap)-1] =  self.heap[len(self.heap)-1], self.heap[0]\n",
    "        #print(\"self heap2: \", self.heap)\n",
    "        popped = self.heap.pop()\n",
    "        #print(\"self heap3: \", self.heap)\n",
    "        self.heapDown(0)\n",
    "        \n",
    "        print(\"popped: \")\n",
    "        return popped\n",
    "    \n",
    "    def heapDown(self, ind):\n",
    "        mini = ind\n",
    "        cl = self.left(ind)\n",
    "        cr = self.right(ind)\n",
    "        #print(\"down heap: \", self.heap)\n",
    "        # print(\"ind \", ind)\n",
    "        \n",
    "        #print(\"cl \", cl)\n",
    "        \n",
    "        #print(\"cr \", cr)\n",
    "        if cl < len(self.heap):\n",
    "            if self.heap[cl] < self.heap[mini]:\n",
    "                mini = cl\n",
    "        if (cr < len(self.heap)):\n",
    "            if (self.heap[cr] < self.heap[mini]):\n",
    "                mini = cr\n",
    "        if self.heap[mini] != self.heap[ind]:\n",
    "            self.heap[mini], self.heap[ind] = self.heap[ind], self.heap[mini]\n",
    "            #print(\"down heap2: \", self.heap)\n",
    "            #print(\"mini \", mini)\n",
    "            self.heapDown(mini)"
   ]
  },
  {
   "cell_type": "code",
   "execution_count": 2,
   "id": "6c03527e",
   "metadata": {
    "scrolled": true
   },
   "outputs": [
    {
     "name": "stdout",
     "output_type": "stream",
     "text": [
      "[40]\n",
      "[5, 40]\n",
      "[5, 40, 50]\n",
      "[2, 5, 50, 40]\n"
     ]
    }
   ],
   "source": [
    "heap = MinHeap()\n",
    "heap.insert(40)\n",
    "print(heap.heap)\n",
    "heap.insert(5)\n",
    "print(heap.heap)\n",
    "heap.insert(50)\n",
    "print(heap.heap)\n",
    "heap.insert(2)\n",
    "print(heap.heap)"
   ]
  },
  {
   "cell_type": "code",
   "execution_count": 3,
   "id": "cb34e82a",
   "metadata": {},
   "outputs": [
    {
     "name": "stdout",
     "output_type": "stream",
     "text": [
      "['zebra']\n",
      "['banana', 'zebra']\n",
      "['apple', 'zebra', 'banana']\n",
      "['apple', 'pear', 'banana', 'zebra']\n"
     ]
    }
   ],
   "source": [
    "heap = MinHeap()\n",
    "heap.insert('zebra')\n",
    "print(heap.heap)\n",
    "heap.insert('banana')\n",
    "print(heap.heap)\n",
    "heap.insert('apple')\n",
    "print(heap.heap)\n",
    "heap.insert('pear')\n",
    "print(heap.heap)"
   ]
  },
  {
   "cell_type": "code",
   "execution_count": 4,
   "id": "616e818d",
   "metadata": {},
   "outputs": [
    {
     "name": "stdout",
     "output_type": "stream",
     "text": [
      "1\n",
      "the heap is heapless\n",
      "[5]\n",
      "[5, 20, 12, 50, 25, 15]\n",
      "popped: \n",
      "5\n",
      "[12, 20, 15, 50, 25]\n"
     ]
    }
   ],
   "source": [
    "heap = MinHeap()\n",
    "heap.insert(1)\n",
    "print(heap.popRoot())\n",
    "print(heap.popRoot())\n",
    "heap.insert(5)\n",
    "print(heap.heap)\n",
    "heap.insert(50)\n",
    "heap.insert(15)\n",
    "heap.insert(20)\n",
    "heap.insert(25)\n",
    "heap.insert(12)\n",
    "print(heap.heap)\n",
    "r = heap.popRoot()\n",
    "print(r)\n",
    "print(heap.heap)"
   ]
  },
  {
   "cell_type": "code",
   "execution_count": 10,
   "id": "53178357",
   "metadata": {},
   "outputs": [
    {
     "name": "stdout",
     "output_type": "stream",
     "text": [
      "WandaVision 8.8\n",
      "[Agatha 9.7 , Loki 9.8 , Andor 9.8 , Mandolorian 9.7 , Ms. Marvel 7.8 , Witcher 9.4 , SheHulk 7.8 , WandaVision 8.8 ]\n",
      "popped: \n",
      "Agatha 9.7 \n",
      "[Andor 9.8 , Loki 9.8 , SheHulk 7.8 , Mandolorian 9.7 , Ms. Marvel 7.8 , Witcher 9.4 , WandaVision 8.8 ]\n"
     ]
    }
   ],
   "source": [
    "class TVRating:\n",
    "    def __init__(self, name, rating):\n",
    "        self.name = name\n",
    "        self.rating = rating\n",
    "    def __repr__(self):\n",
    "        return \"%s %s \" % (self.name, self.rating)\n",
    "    \n",
    "    def __eq__(self, other):\n",
    "        if isinstance(other,TVRating):\n",
    "            return self.name == other.name\n",
    "\n",
    "    def __gt__(self, other):\n",
    "        if isinstance(other,TVRating):\n",
    "            return self.name > other.name\n",
    "\n",
    "    def __lt__(self, other):\n",
    "        if isinstance(other,TVRating):\n",
    "            return self.name < other.name\n",
    "        \n",
    "show1 = TVRating(\"WandaVision\", 8.8)\n",
    "show2 = TVRating(\"Loki\", 9.8)\n",
    "show3 = TVRating(\"SheHulk\", 7.8)\n",
    "show4 = TVRating(\"Ms. Marvel\", 7.8)\n",
    "show5 = TVRating(\"Agatha\", 9.7)\n",
    "show6 = TVRating(\"Witcher\", 9.4)\n",
    "show7 = TVRating(\"Andor\", 9.8)\n",
    "show8 = TVRating(\"Mandolorian\", 9.7)\n",
    "heap = MinHeap()\n",
    "print(show1.name, show1.rating)\n",
    "heap.insert(show1)\n",
    "heap.insert(show2)\n",
    "heap.insert(show3)\n",
    "heap.insert(show4)\n",
    "heap.insert(show5)\n",
    "heap.insert(show6)\n",
    "heap.insert(show7)\n",
    "heap.insert(show8)\n",
    "print(heap.heap)\n",
    "print(heap.popRoot())\n",
    "print(heap.heap)"
   ]
  },
  {
   "cell_type": "markdown",
   "id": "771ee237",
   "metadata": {},
   "source": [
    "fixed pop and special class"
   ]
  }
 ],
 "metadata": {
  "kernelspec": {
   "display_name": "Python 3 (ipykernel)",
   "language": "python",
   "name": "python3"
  },
  "language_info": {
   "codemirror_mode": {
    "name": "ipython",
    "version": 3
   },
   "file_extension": ".py",
   "mimetype": "text/x-python",
   "name": "python",
   "nbconvert_exporter": "python",
   "pygments_lexer": "ipython3",
   "version": "3.11.5"
  }
 },
 "nbformat": 4,
 "nbformat_minor": 5
}

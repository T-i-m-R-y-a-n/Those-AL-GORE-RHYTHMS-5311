{
 "cells": [
  {
   "cell_type": "markdown",
   "id": "e2931103",
   "metadata": {},
   "source": [
    "Tim Ryan (1000196736)\n",
    "CSE 5311\n",
    "Hands on 6\n",
    "Oct. 1, 2024\n",
    "\n",
    "SPECS Microsoft Windows OS, Lenovo x64-based laptop, Processor :Intel(R) Core(TM) i5-10210U CPU @ 1.60GHz, 2112 Mhz, 4 Core(s), 8 Logical Processor(s), Installed Physical Memory (RAM) 16.0 GB, Available Virtual Memory 11.4 GB I ran a Python3 kernel on jupyter notebook on google chrome browswer."
   ]
  },
  {
   "cell_type": "code",
   "execution_count": 1,
   "id": "4c75bdf4",
   "metadata": {},
   "outputs": [],
   "source": [
    "import numpy as np\n",
    "import matplotlib.pyplot as plt"
   ]
  },
  {
   "cell_type": "markdown",
   "id": "88c1ef45",
   "metadata": {},
   "source": [
    "Program for non-random (picking last element as pivot)"
   ]
  },
  {
   "cell_type": "code",
   "execution_count": 2,
   "id": "5398b547",
   "metadata": {},
   "outputs": [],
   "source": [
    "def lastPartition(arr,p,r):\n",
    "    x = arr[r]\n",
    "    i = p-1\n",
    "    for j in range(p, r):\n",
    "        if arr[j] <= x:\n",
    "            i = i+1\n",
    "            arr[i], arr[j] = arr[j], arr[i]\n",
    "    arr[i+1], arr[r] = arr[r], arr[i+1]\n",
    "    return i + 1\n"
   ]
  },
  {
   "cell_type": "code",
   "execution_count": 3,
   "id": "1615edd5",
   "metadata": {},
   "outputs": [],
   "source": [
    "def lastQuicksort(arr, p, r):\n",
    "    if p < r:\n",
    "        q = lastPartition(arr, p, r)\n",
    "        lastQuicksort(arr, p, q - 1)\n",
    "        lastQuicksort(arr, q + 1, r)\n",
    "    return arr"
   ]
  },
  {
   "cell_type": "code",
   "execution_count": 4,
   "id": "f869f903",
   "metadata": {},
   "outputs": [
    {
     "data": {
      "text/plain": [
       "[1, 2, 3, 4, 5, 5, 7, 9]"
      ]
     },
     "execution_count": 4,
     "metadata": {},
     "output_type": "execute_result"
    }
   ],
   "source": [
    "lastQuicksort([1,3,5,2,7,9,5,4],0,7)"
   ]
  },
  {
   "cell_type": "code",
   "execution_count": 5,
   "id": "752418f8",
   "metadata": {},
   "outputs": [
    {
     "data": {
      "text/plain": [
       "[-2, 0, 3, 4, 6, 7, 8, 9, 11, 55]"
      ]
     },
     "execution_count": 5,
     "metadata": {},
     "output_type": "execute_result"
    }
   ],
   "source": [
    "lastQuicksort([11,3,7,9,0,4,6,55,8,-2],0,9)"
   ]
  },
  {
   "cell_type": "markdown",
   "id": "c95b56ef",
   "metadata": {},
   "source": [
    "Program for random pivot"
   ]
  },
  {
   "cell_type": "code",
   "execution_count": 6,
   "id": "bcf1c3a5",
   "metadata": {},
   "outputs": [],
   "source": [
    "def randPartition(arr, p, r):\n",
    "    n = np.random.randint(p,r)\n",
    "    arr[n], arr[r] = arr[r],arr[n]\n",
    "    return lastPartition(arr, p, r)"
   ]
  },
  {
   "cell_type": "code",
   "execution_count": 7,
   "id": "06bf02fb",
   "metadata": {},
   "outputs": [],
   "source": [
    "def randQuicksort(arr, p, r):\n",
    "    if p < r:\n",
    "        q = randPartition(arr, p, r)\n",
    "        randQuicksort(arr, p, q - 1)\n",
    "        randQuicksort(arr, q + 1, r)\n",
    "    return arr"
   ]
  },
  {
   "cell_type": "code",
   "execution_count": 8,
   "id": "506ef311",
   "metadata": {},
   "outputs": [
    {
     "data": {
      "text/plain": [
       "[-2, 0, 3, 4, 6, 7, 8, 9, 11, 55]"
      ]
     },
     "execution_count": 8,
     "metadata": {},
     "output_type": "execute_result"
    }
   ],
   "source": [
    "randQuicksort([11,3,7,9,0,4,6,55,8,-2],0,9)"
   ]
  },
  {
   "cell_type": "code",
   "execution_count": 9,
   "id": "0ba789d9",
   "metadata": {},
   "outputs": [
    {
     "data": {
      "text/plain": [
       "[1, 2, 3, 4, 5, 5, 7, 9]"
      ]
     },
     "execution_count": 9,
     "metadata": {},
     "output_type": "execute_result"
    }
   ],
   "source": [
    "randQuicksort([1,3,5,2,7,9,5,4],0,7)"
   ]
  },
  {
   "cell_type": "code",
   "execution_count": 10,
   "id": "f70777ea",
   "metadata": {},
   "outputs": [],
   "source": [
    "#best case\n",
    "def sor(n):\n",
    "    return np.arange(1, n+1), 0, n-1"
   ]
  },
  {
   "cell_type": "code",
   "execution_count": 11,
   "id": "516aa101",
   "metadata": {},
   "outputs": [],
   "source": [
    "a, p, r = sor(10)"
   ]
  },
  {
   "cell_type": "code",
   "execution_count": 12,
   "id": "b2ff5ff7",
   "metadata": {},
   "outputs": [
    {
     "name": "stdout",
     "output_type": "stream",
     "text": [
      "25.7 µs ± 714 ns per loop (mean ± std. dev. of 7 runs, 10,000 loops each)\n"
     ]
    }
   ],
   "source": [
    "timeit(lastQuicksort(a, p, r))"
   ]
  },
  {
   "cell_type": "code",
   "execution_count": 13,
   "id": "096dbca4",
   "metadata": {},
   "outputs": [],
   "source": [
    "a, p, r = sor(100)"
   ]
  },
  {
   "cell_type": "code",
   "execution_count": 14,
   "id": "95e43b01",
   "metadata": {},
   "outputs": [
    {
     "name": "stdout",
     "output_type": "stream",
     "text": [
      "2.05 ms ± 119 µs per loop (mean ± std. dev. of 7 runs, 100 loops each)\n"
     ]
    }
   ],
   "source": [
    "timeit(lastQuicksort(a, p, r))"
   ]
  },
  {
   "cell_type": "code",
   "execution_count": 15,
   "id": "7f36a685",
   "metadata": {},
   "outputs": [],
   "source": [
    "a, p, r = sor(500)"
   ]
  },
  {
   "cell_type": "code",
   "execution_count": 16,
   "id": "66b05fbe",
   "metadata": {},
   "outputs": [
    {
     "name": "stdout",
     "output_type": "stream",
     "text": [
      "58.9 ms ± 2.84 ms per loop (mean ± std. dev. of 7 runs, 10 loops each)\n"
     ]
    }
   ],
   "source": [
    "timeit(lastQuicksort(a, p, r))"
   ]
  },
  {
   "cell_type": "code",
   "execution_count": 17,
   "id": "5fe601ba",
   "metadata": {},
   "outputs": [],
   "source": [
    "a, p, r = sor(1000)"
   ]
  },
  {
   "cell_type": "code",
   "execution_count": 18,
   "id": "a071efa7",
   "metadata": {},
   "outputs": [
    {
     "name": "stdout",
     "output_type": "stream",
     "text": [
      "258 ms ± 16.3 ms per loop (mean ± std. dev. of 7 runs, 1 loop each)\n"
     ]
    }
   ],
   "source": [
    "timeit(lastQuicksort(a, p, r))"
   ]
  },
  {
   "cell_type": "code",
   "execution_count": 19,
   "id": "db496de3",
   "metadata": {},
   "outputs": [],
   "source": [
    "a, p, r = sor(2000)"
   ]
  },
  {
   "cell_type": "code",
   "execution_count": 20,
   "id": "f70e3f3c",
   "metadata": {},
   "outputs": [
    {
     "name": "stdout",
     "output_type": "stream",
     "text": [
      "1.17 s ± 145 ms per loop (mean ± std. dev. of 7 runs, 1 loop each)\n"
     ]
    }
   ],
   "source": [
    "timeit(lastQuicksort(a, p, r))"
   ]
  },
  {
   "cell_type": "code",
   "execution_count": 21,
   "id": "a1d539de",
   "metadata": {},
   "outputs": [],
   "source": [
    "#worst case\n",
    "def revsor(n):\n",
    "    arr= np.arange(1, n+1)\n",
    "    arrr = list(reversed(arr))\n",
    "    return arrr, 0, n-1"
   ]
  },
  {
   "cell_type": "code",
   "execution_count": 22,
   "id": "d9a06f93",
   "metadata": {},
   "outputs": [
    {
     "data": {
      "text/plain": [
       "([5, 4, 3, 2, 1], 0, 4)"
      ]
     },
     "execution_count": 22,
     "metadata": {},
     "output_type": "execute_result"
    }
   ],
   "source": [
    "revsor(5)"
   ]
  },
  {
   "cell_type": "code",
   "execution_count": 23,
   "id": "e4c12bc0",
   "metadata": {},
   "outputs": [],
   "source": [
    "a, p, r = revsor(10)"
   ]
  },
  {
   "cell_type": "code",
   "execution_count": 24,
   "id": "20f0439c",
   "metadata": {},
   "outputs": [
    {
     "name": "stdout",
     "output_type": "stream",
     "text": [
      "11.2 µs ± 965 ns per loop (mean ± std. dev. of 7 runs, 100,000 loops each)\n"
     ]
    }
   ],
   "source": [
    "timeit(lastQuicksort(a, p, r))"
   ]
  },
  {
   "cell_type": "code",
   "execution_count": 25,
   "id": "f8bb032c",
   "metadata": {},
   "outputs": [],
   "source": [
    "a, p, r = revsor(100)"
   ]
  },
  {
   "cell_type": "code",
   "execution_count": 26,
   "id": "48063c63",
   "metadata": {},
   "outputs": [
    {
     "name": "stdout",
     "output_type": "stream",
     "text": [
      "658 µs ± 36.4 µs per loop (mean ± std. dev. of 7 runs, 1,000 loops each)\n"
     ]
    }
   ],
   "source": [
    "timeit(lastQuicksort(a, p, r))"
   ]
  },
  {
   "cell_type": "code",
   "execution_count": 27,
   "id": "1c36dae1",
   "metadata": {},
   "outputs": [],
   "source": [
    "a, p, r = revsor(500)"
   ]
  },
  {
   "cell_type": "code",
   "execution_count": 28,
   "id": "b1f125b1",
   "metadata": {},
   "outputs": [
    {
     "name": "stdout",
     "output_type": "stream",
     "text": [
      "15.5 ms ± 583 µs per loop (mean ± std. dev. of 7 runs, 100 loops each)\n"
     ]
    }
   ],
   "source": [
    "timeit(lastQuicksort(a, p, r))"
   ]
  },
  {
   "cell_type": "code",
   "execution_count": 29,
   "id": "309be590",
   "metadata": {},
   "outputs": [],
   "source": [
    "a, p, r = revsor(1000)"
   ]
  },
  {
   "cell_type": "code",
   "execution_count": 30,
   "id": "a6f810d0",
   "metadata": {},
   "outputs": [
    {
     "name": "stdout",
     "output_type": "stream",
     "text": [
      "71.1 ms ± 5.63 ms per loop (mean ± std. dev. of 7 runs, 10 loops each)\n"
     ]
    }
   ],
   "source": [
    "timeit(lastQuicksort(a, p, r))"
   ]
  },
  {
   "cell_type": "code",
   "execution_count": 31,
   "id": "dfe9006b",
   "metadata": {},
   "outputs": [],
   "source": [
    "a, p, r = revsor(2000)"
   ]
  },
  {
   "cell_type": "code",
   "execution_count": 32,
   "id": "c8d33177",
   "metadata": {},
   "outputs": [
    {
     "name": "stdout",
     "output_type": "stream",
     "text": [
      "274 ms ± 20.5 ms per loop (mean ± std. dev. of 7 runs, 1 loop each)\n"
     ]
    }
   ],
   "source": [
    "timeit(lastQuicksort(a, p, r))"
   ]
  },
  {
   "cell_type": "code",
   "execution_count": 36,
   "id": "25698aa8",
   "metadata": {},
   "outputs": [],
   "source": [
    "def ransor(n):\n",
    "    return np.random.randint(1, n, size=(n)), 0, n-1"
   ]
  },
  {
   "cell_type": "code",
   "execution_count": 37,
   "id": "43710975",
   "metadata": {},
   "outputs": [],
   "source": [
    "a, p, r = ransor(10)"
   ]
  },
  {
   "cell_type": "code",
   "execution_count": 38,
   "id": "0262c1ec",
   "metadata": {},
   "outputs": [
    {
     "data": {
      "text/plain": [
       "array([1, 1, 1, 3, 3, 5, 6, 6, 7, 8])"
      ]
     },
     "execution_count": 38,
     "metadata": {},
     "output_type": "execute_result"
    }
   ],
   "source": [
    "timeit(lastQuicksort(a, p, r))"
   ]
  },
  {
   "cell_type": "code",
   "execution_count": 39,
   "id": "2d29d14c",
   "metadata": {},
   "outputs": [],
   "source": [
    "a, p, r = ransor(10)"
   ]
  },
  {
   "cell_type": "code",
   "execution_count": 40,
   "id": "bb492ad9",
   "metadata": {},
   "outputs": [
    {
     "name": "stdout",
     "output_type": "stream",
     "text": [
      "32 µs ± 2.51 µs per loop (mean ± std. dev. of 7 runs, 10,000 loops each)\n"
     ]
    }
   ],
   "source": [
    "timeit(lastQuicksort(a, p, r))"
   ]
  },
  {
   "cell_type": "code",
   "execution_count": 41,
   "id": "7cb971de",
   "metadata": {},
   "outputs": [],
   "source": [
    "a, p, r = ransor(100)"
   ]
  },
  {
   "cell_type": "code",
   "execution_count": 42,
   "id": "49519336",
   "metadata": {},
   "outputs": [
    {
     "name": "stdout",
     "output_type": "stream",
     "text": [
      "2.55 ms ± 111 µs per loop (mean ± std. dev. of 7 runs, 100 loops each)\n"
     ]
    }
   ],
   "source": [
    "timeit(lastQuicksort(a, p, r))"
   ]
  },
  {
   "cell_type": "code",
   "execution_count": 43,
   "id": "4e732bb5",
   "metadata": {},
   "outputs": [
    {
     "name": "stdout",
     "output_type": "stream",
     "text": [
      "2.66 ms ± 418 µs per loop (mean ± std. dev. of 7 runs, 100 loops each)\n"
     ]
    }
   ],
   "source": [
    "timeit(lastQuicksort(a, p, r))"
   ]
  },
  {
   "cell_type": "code",
   "execution_count": 44,
   "id": "1092772c",
   "metadata": {},
   "outputs": [],
   "source": [
    "a, p, r = ransor(500)"
   ]
  },
  {
   "cell_type": "code",
   "execution_count": 45,
   "id": "796e9a92",
   "metadata": {},
   "outputs": [
    {
     "name": "stdout",
     "output_type": "stream",
     "text": [
      "65.1 ms ± 3.24 ms per loop (mean ± std. dev. of 7 runs, 10 loops each)\n"
     ]
    }
   ],
   "source": [
    "timeit(lastQuicksort(a, p, r))"
   ]
  },
  {
   "cell_type": "code",
   "execution_count": 46,
   "id": "2f3ecb6d",
   "metadata": {},
   "outputs": [],
   "source": [
    "a, p, r = ransor(1000)"
   ]
  },
  {
   "cell_type": "code",
   "execution_count": 47,
   "id": "662f2752",
   "metadata": {},
   "outputs": [
    {
     "name": "stdout",
     "output_type": "stream",
     "text": [
      "264 ms ± 10.5 ms per loop (mean ± std. dev. of 7 runs, 10 loops each)\n"
     ]
    }
   ],
   "source": [
    "timeit(lastQuicksort(a, p, r))"
   ]
  },
  {
   "cell_type": "code",
   "execution_count": 48,
   "id": "990dcabe",
   "metadata": {},
   "outputs": [],
   "source": [
    "a, p, r = ransor(2000)"
   ]
  },
  {
   "cell_type": "code",
   "execution_count": 49,
   "id": "9c865df0",
   "metadata": {},
   "outputs": [
    {
     "name": "stdout",
     "output_type": "stream",
     "text": [
      "1.04 s ± 24 ms per loop (mean ± std. dev. of 7 runs, 10 loops each)\n"
     ]
    }
   ],
   "source": [
    "timeit(lastQuicksort(a, p, r))"
   ]
  },
  {
   "cell_type": "markdown",
   "id": "ba84142e",
   "metadata": {},
   "source": [
    "For average case runtime:\n",
    "Assume average case tends toward the worst split, like a nine to one split on each iteration.\n",
    "This gives up T(n) = T(9n/10) + T(n/10) + theta(n)\n",
    "and assume T(0)=T(1)=theta(1)=1 (a constant) and guess that\n",
    "T(n) = O(nlgn)\n",
    "\n",
    "since O(log n) = O(lg n), as log x = (1/lg(10)) lg x and 1/lg(10) is a constant\n",
    "\n",
    "we will say \n",
    "T(n) <= cnlogn\n",
    "\n",
    "T(n) = T(9n/10) + T(n/10) + n <=  (9c/10)nlog(9n/10) + (c/10)log(n/10)\n",
    "T(n)=T(9n/10)+T(n/10)+n<= (c/10)(9nlogn + n(9log(n) - 9) + log(n) - 1\n",
    "\n",
    "we can drop  n(9log(n) - 9) - 1 because that will always be <= 0 (n will be positive or zero and 9log(n) - 9 will be negative.\n",
    "\n",
    "T(n)=T(9n/10)+T(n/10)+n<= (c/10)(9nlogn + log(n))\n",
    "\n",
    "and since logn <= nlogn for any n >=0\n",
    "\n",
    "T(n)= T(9n/10) + T(n/10) + n <= (c/10)(9nlogn + nlog(n))\n",
    "T(n)= T(9n/10) + T(n/10) + n <= (c/10)(10)(nlogn)\n",
    "T(n)= T(9n/10) + T(n/10) + n = cnlogn\n",
    "T(n)= T(9n/10) + T(n/10) + n = theta(nlgn)"
   ]
  }
 ],
 "metadata": {
  "kernelspec": {
   "display_name": "Python 3 (ipykernel)",
   "language": "python",
   "name": "python3"
  },
  "language_info": {
   "codemirror_mode": {
    "name": "ipython",
    "version": 3
   },
   "file_extension": ".py",
   "mimetype": "text/x-python",
   "name": "python",
   "nbconvert_exporter": "python",
   "pygments_lexer": "ipython3",
   "version": "3.11.5"
  }
 },
 "nbformat": 4,
 "nbformat_minor": 5
}

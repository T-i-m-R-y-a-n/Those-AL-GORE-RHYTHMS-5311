{
 "cells": [
  {
   "cell_type": "markdown",
   "id": "50d1044b",
   "metadata": {},
   "source": [
    "Tim Ryan (1000196736) CSE 5311 \n",
    "Hands on 11 \n",
    "\n",
    "SPECS Microsoft Windows OS, Lenovo x64-based laptop, Processor :Intel(R) Core(TM) i5-10210U CPU @ 1.60GHz, 2112 Mhz, 4 Core(s), 8 Logical Processor(s), Installed Physical Memory (RAM) 16.0 GB, Available Virtual Memory 11.4 GB I ran a Python3 kernel on jupyter notebook on google chrome browswer."
   ]
  },
  {
   "cell_type": "code",
   "execution_count": 1,
   "id": "043a1f33",
   "metadata": {},
   "outputs": [],
   "source": [
    "import numpy as np\n"
   ]
  },
  {
   "cell_type": "code",
   "execution_count": 2,
   "id": "00ad43cb",
   "metadata": {},
   "outputs": [],
   "source": [
    "class Arr:\n",
    "    def __init__(self, n):\n",
    "        self.arr = np.zeros(n)\n",
    "        self.cap = len(self.arr)\n",
    "        self.size = 0\n",
    "    def __str__(self):\n",
    "        return str(self.arr)\n",
    "    def ins(self, value):\n",
    "        if(self.size < self.cap):\n",
    "            self.arr[self.size] = value\n",
    "            self.size += 1\n",
    "        else:\n",
    "            a2 = np.zeros(self.cap)\n",
    "            self.arr = np.append(self.arr, a2)\n",
    "            self.cap = self.cap*2\n",
    "            print(self.arr)\n",
    "            self.ins(value)"
   ]
  },
  {
   "cell_type": "code",
   "execution_count": 3,
   "id": "49a741d9",
   "metadata": {},
   "outputs": [
    {
     "name": "stdout",
     "output_type": "stream",
     "text": [
      "[0. 0. 0. 0.]\n",
      "[1. 2. 3. 4.]\n",
      "[1. 2. 3. 4. 0. 0. 0. 0.]\n",
      "[1. 2. 3. 4. 5. 0. 0. 0.]\n"
     ]
    }
   ],
   "source": [
    "a = Arr(4)\n",
    "print(a)\n",
    "a.ins(1)\n",
    "a.ins(2)\n",
    "a.ins(3)\n",
    "a.ins(4)\n",
    "print(a)\n",
    "a.ins(5)\n",
    "print(a)"
   ]
  },
  {
   "cell_type": "code",
   "execution_count": null,
   "id": "2bb046a4",
   "metadata": {},
   "outputs": [],
   "source": []
  }
 ],
 "metadata": {
  "kernelspec": {
   "display_name": "Python 3 (ipykernel)",
   "language": "python",
   "name": "python3"
  },
  "language_info": {
   "codemirror_mode": {
    "name": "ipython",
    "version": 3
   },
   "file_extension": ".py",
   "mimetype": "text/x-python",
   "name": "python",
   "nbconvert_exporter": "python",
   "pygments_lexer": "ipython3",
   "version": "3.11.5"
  }
 },
 "nbformat": 4,
 "nbformat_minor": 5
}

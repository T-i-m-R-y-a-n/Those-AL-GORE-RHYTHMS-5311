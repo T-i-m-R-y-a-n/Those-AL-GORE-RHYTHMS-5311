{
 "cells": [
  {
   "cell_type": "markdown",
   "id": "1a3e231b",
   "metadata": {},
   "source": [
    "Tim Ryan (1000196736)\n",
    "CSE 5311\n",
    "Hash Table\n",
    "Oct. 21, 2024\n",
    "\n",
    "SPECS Microsoft Windows OS, Lenovo x64-based laptop, Processor :Intel(R) Core(TM) i5-10210U CPU @ 1.60GHz, 2112 Mhz, 4 Core(s), 8 Logical Processor(s), Installed Physical Memory (RAM) 16.0 GB, Available Virtual Memory 11.4 GB I ran a Python3 kernel on jupyter notebook on google chrome browswer."
   ]
  },
  {
   "cell_type": "code",
   "execution_count": 1,
   "id": "91dbb23f",
   "metadata": {},
   "outputs": [],
   "source": [
    "import numpy as np"
   ]
  },
  {
   "cell_type": "code",
   "execution_count": 2,
   "id": "f8d33156",
   "metadata": {},
   "outputs": [],
   "source": [
    "class Link():\n",
    "    def __init__(self, key, data):\n",
    "        self.next = None\n",
    "        self.previous = None\n",
    "        self.key = key\n",
    "        self.data = data\n",
    "    def __str__(self):\n",
    "        return f'{self.key, self.value}'\n",
    "        \n",
    "class LinkList():\n",
    "    def __init__(self):\n",
    "        self.head = None\n",
    "        self.tail = None\n",
    "        self.size = 0\n",
    "    def insertFro(self, key, data):\n",
    "        link = Link(key, data)\n",
    "        if self.head == None:\n",
    "            self.head = link\n",
    "            self.tail = link\n",
    "        else:\n",
    "            link.next = self.head\n",
    "            self.head.previous = link\n",
    "            self.head = link\n",
    "        self.size += 1\n",
    "    def insertInd(self, key, data, ind): #ind = 0 inserts at head  ****  t  NOT USED\n",
    "        if ind == 0:\n",
    "            self.insertFro(data)\n",
    "            return\n",
    "        curr = self.head\n",
    "        link = Link(data)\n",
    "        while (ind > 1 and curr):\n",
    "            curr = curr.next\n",
    "            ind = ind - 1\n",
    "        if (ind > 2 or (not curr)):\n",
    "            raise ValueError(\"No such index\")\n",
    "            \n",
    "        if curr.next != None:\n",
    "            link.next = curr.next\n",
    "            curr.next = link\n",
    "        else:\n",
    "            link.next = None\n",
    "            curr.next = link\n",
    "        self.size+=1\n",
    "    def search(self, x):        # search for key = x, return data\n",
    "        curr = self.head\n",
    "        look = x\n",
    "        while(curr):\n",
    "            if curr.key == look:\n",
    "                return curr.data\n",
    "            if curr.next == None:\n",
    "                return -1\n",
    "            curr = curr.next\n",
    "    def delist(self, x):                #           ******t look for key, delete link\n",
    "        look = x\n",
    "        if self.head.key == look:\n",
    "            self.head = self.head.next\n",
    "            self.head.previous = None\n",
    "            self.size += -1\n",
    "            return 0\n",
    "        curr = self.head\n",
    "        while(curr):\n",
    "            prev = curr\n",
    "            curr = curr.next\n",
    "            if curr.key == look:\n",
    "                if curr.next == None:\n",
    "                    prev.next = None\n",
    "                else:\n",
    "                    prev.next = curr.next\n",
    "                    \n",
    "                self.size += -1\n",
    "                return 0\n",
    "        raise ValueError(\"item not found\")\n",
    "    def printLi(self):\n",
    "        curr = self.head\n",
    "        while(curr):\n",
    "            print(curr.key,\") \", curr.data)\n",
    "            curr = curr.next\n",
    "            "
   ]
  },
  {
   "cell_type": "code",
   "execution_count": 3,
   "id": "3882c932",
   "metadata": {},
   "outputs": [],
   "source": [
    "class HashT():\n",
    "    def __init__(self, m):\n",
    "        self.capacity = m\n",
    "        self.size = 0\n",
    "        self.hashT = np.empty(m, dtype = object)\n",
    "        #self.hashT = [LinkList() for _ in range(self.size)]\n",
    "    def hashit(self, key):\n",
    "        return key % self.size\n",
    "    def insert(self, key, data):\n",
    "        ind = self.hashit(key)\n",
    "        spot = self.hashT[ind]\n",
    "        link = Link(key, data)\n",
    "        if spot == None:\n",
    "            self.hashT[ind] = link\n",
    "        else:\n",
    "            self.hashT[ind].next = link\n",
    "            link.previous = self.hashT[ind]\n",
    "        self.size += 1\n",
    "    def find(self, key):\n",
    "        ind = self.hashit(key)\n",
    "        look = key\n",
    "        curr = self.hashT[ind]\n",
    "        while curr:\n",
    "            if curr.key == look:\n",
    "                return curr.data\n",
    "            curr = curr.next\n",
    "        return -1\n",
    "    def del:(self, key):\n",
    "        ind = self.hashit(key)\n",
    "        look = key\n",
    "        curr = self.hashT[ind]\n",
    "        if curr.key == look:\n",
    "            curr.\n",
    "        while curr:\n",
    "            prev = curr\n",
    "            if curr.key == look:\n",
    "                if curr\n",
    "            curr = curr.next\n",
    "    def pri(self):\n",
    "        for i in range(self.size):\n",
    "            print(self.hashT[i].printLi()"
   ]
  },
  {
   "cell_type": "code",
   "execution_count": null,
   "id": "d006b89a",
   "metadata": {},
   "outputs": [],
   "source": []
  },
  {
   "cell_type": "code",
   "execution_count": 4,
   "id": "2caed59f",
   "metadata": {},
   "outputs": [
    {
     "name": "stdout",
     "output_type": "stream",
     "text": [
      "5 )  11\n",
      "....\n",
      "15 )  12\n",
      "5 )  11\n",
      "....\n",
      "2 )  13\n",
      "15 )  12\n",
      "5 )  11\n",
      "....\n",
      "4 )  15\n",
      "2 )  13\n",
      "15 )  12\n",
      "5 )  11\n",
      "....\n",
      "42 )  47\n",
      "4 )  15\n",
      "2 )  13\n",
      "15 )  12\n",
      "5 )  11\n",
      "....\n",
      "12 )  5\n",
      "42 )  47\n",
      "4 )  15\n",
      "2 )  13\n",
      "15 )  12\n",
      "5 )  11\n"
     ]
    }
   ],
   "source": [
    "lili = LinkList()\n",
    "lili.insertFro(5, 11)\n",
    "lili.printLi()\n",
    "print(\"....\")\n",
    "lili.insertFro(15, 12)\n",
    "lili.printLi()\n",
    "print(\"....\")\n",
    "lili.insertFro(2, 13)\n",
    "lili.printLi()\n",
    "\n",
    "print(\"....\")\n",
    "lili.insertFro(4, 15)\n",
    "lili.printLi()\n",
    "\n",
    "print(\"....\")\n",
    "lili.insertFro(42, 47)\n",
    "lili.printLi()\n",
    "\n",
    "print(\"....\")\n",
    "lili.insertFro(12, 5)\n",
    "lili.printLi()\n"
   ]
  },
  {
   "cell_type": "code",
   "execution_count": 5,
   "id": "75ed021e",
   "metadata": {},
   "outputs": [
    {
     "data": {
      "text/plain": [
       "47"
      ]
     },
     "execution_count": 5,
     "metadata": {},
     "output_type": "execute_result"
    }
   ],
   "source": [
    "lili.search(42)"
   ]
  },
  {
   "cell_type": "code",
   "execution_count": 6,
   "id": "3f8951f8",
   "metadata": {},
   "outputs": [
    {
     "name": "stdout",
     "output_type": "stream",
     "text": [
      "None\n",
      "None\n",
      "........\n"
     ]
    }
   ],
   "source": [
    "ha = HashT(5)\n",
    "ha.insert(1, 1)\n",
    "ha.insert(11, 22)\n",
    "ha.insert(69, 2)\n",
    "ha.insert(15, 321)\n",
    "ha.insert(123, 922)\n",
    "ha.insert(62, 42)\n",
    "print(ha.find(6))\n",
    "\n",
    "print(ha.find(1))\n",
    "print(\"........\")"
   ]
  },
  {
   "cell_type": "code",
   "execution_count": null,
   "id": "a2f2018a",
   "metadata": {},
   "outputs": [],
   "source": []
  },
  {
   "cell_type": "code",
   "execution_count": null,
   "id": "113d9e05",
   "metadata": {},
   "outputs": [],
   "source": []
  }
 ],
 "metadata": {
  "kernelspec": {
   "display_name": "Python 3 (ipykernel)",
   "language": "python",
   "name": "python3"
  },
  "language_info": {
   "codemirror_mode": {
    "name": "ipython",
    "version": 3
   },
   "file_extension": ".py",
   "mimetype": "text/x-python",
   "name": "python",
   "nbconvert_exporter": "python",
   "pygments_lexer": "ipython3",
   "version": "3.11.5"
  }
 },
 "nbformat": 4,
 "nbformat_minor": 5
}

{
 "cells": [
  {
   "cell_type": "markdown",
   "id": "8b8bf363",
   "metadata": {},
   "source": [
    "Tim Ryan (1000196736)\n",
    "CSE 5311\n",
    "Homework 3\n",
    "Sept. 10, 2024\n",
    "\n",
    "SPECS Microsoft Windows OS, Lenovo x64-based laptop, Processor :Intel(R) Core(TM) i5-10210U CPU @ 1.60GHz, 2112 Mhz, 4 Core(s), 8 Logical Processor(s), Installed Physical Memory (RAM) 16.0 GB, Available Virtual Memory 11.4 GB I ran a Python3 kernel on jupyter notebook on google chrome browswer."
   ]
  },
  {
   "cell_type": "code",
   "execution_count": 17,
   "id": "ef542295",
   "metadata": {},
   "outputs": [],
   "source": [
    "import numpy as np\n",
    "import matplotlib.pyplot as plt\n",
    "from scipy.optimize import curve_fit"
   ]
  },
  {
   "cell_type": "code",
   "execution_count": 13,
   "id": "9a665b81",
   "metadata": {},
   "outputs": [],
   "source": [
    "def functi(n):\n",
    "    x=1\n",
    "    for i in range(1, n):\n",
    "        for j in range(1, n):\n",
    "            x = x+1\n",
    "    return x"
   ]
  },
  {
   "cell_type": "markdown",
   "id": "3767aba6",
   "metadata": {},
   "source": [
    "Runtime:\n",
    "T(n) = Sigma(i=1 to n)Sigma(i=1 to n) => Sigma(i=1 to n) of n => n^2"
   ]
  },
  {
   "cell_type": "code",
   "execution_count": 15,
   "id": "48acc093",
   "metadata": {},
   "outputs": [
    {
     "name": "stdout",
     "output_type": "stream",
     "text": [
      "159 ns ± 0.174 ns per loop (mean ± std. dev. of 7 runs, 10,000,000 loops each)\n"
     ]
    }
   ],
   "source": [
    "timeit(functi(1))"
   ]
  },
  {
   "cell_type": "code",
   "execution_count": 16,
   "id": "4a6f9e67",
   "metadata": {},
   "outputs": [
    {
     "name": "stdout",
     "output_type": "stream",
     "text": [
      "1\n"
     ]
    }
   ],
   "source": [
    "print(functi(1))"
   ]
  },
  {
   "cell_type": "code",
   "execution_count": 18,
   "id": "b58231da",
   "metadata": {},
   "outputs": [
    {
     "name": "stdout",
     "output_type": "stream",
     "text": [
      "407 ns ± 9.77 ns per loop (mean ± std. dev. of 7 runs, 1,000,000 loops each)\n"
     ]
    }
   ],
   "source": [
    "timeit(functi(2))"
   ]
  },
  {
   "cell_type": "code",
   "execution_count": 19,
   "id": "0d9a9118",
   "metadata": {},
   "outputs": [
    {
     "name": "stdout",
     "output_type": "stream",
     "text": [
      "2\n"
     ]
    }
   ],
   "source": [
    "print(functi(2))"
   ]
  },
  {
   "cell_type": "code",
   "execution_count": 20,
   "id": "befed1dc",
   "metadata": {},
   "outputs": [
    {
     "name": "stdout",
     "output_type": "stream",
     "text": [
      "610 ns ± 8.68 ns per loop (mean ± std. dev. of 7 runs, 1,000,000 loops each)\n"
     ]
    }
   ],
   "source": [
    "timeit(functi(3))"
   ]
  },
  {
   "cell_type": "code",
   "execution_count": 21,
   "id": "51a941cd",
   "metadata": {},
   "outputs": [
    {
     "name": "stdout",
     "output_type": "stream",
     "text": [
      "5\n"
     ]
    }
   ],
   "source": [
    "print(functi(3))"
   ]
  },
  {
   "cell_type": "code",
   "execution_count": 22,
   "id": "2dcd1ba3",
   "metadata": {},
   "outputs": [
    {
     "name": "stdout",
     "output_type": "stream",
     "text": [
      "1.22 µs ± 4.02 ns per loop (mean ± std. dev. of 7 runs, 1,000,000 loops each)\n"
     ]
    }
   ],
   "source": [
    "timeit(functi(5))"
   ]
  },
  {
   "cell_type": "code",
   "execution_count": 23,
   "id": "8c5c412d",
   "metadata": {},
   "outputs": [
    {
     "name": "stdout",
     "output_type": "stream",
     "text": [
      "17\n"
     ]
    }
   ],
   "source": [
    "print(functi(5))"
   ]
  },
  {
   "cell_type": "code",
   "execution_count": 24,
   "id": "b79ceb2f",
   "metadata": {},
   "outputs": [
    {
     "name": "stdout",
     "output_type": "stream",
     "text": [
      "3.52 µs ± 120 ns per loop (mean ± std. dev. of 7 runs, 100,000 loops each)\n"
     ]
    }
   ],
   "source": [
    "timeit(functi(10))"
   ]
  },
  {
   "cell_type": "code",
   "execution_count": 25,
   "id": "cef13d41",
   "metadata": {},
   "outputs": [
    {
     "name": "stdout",
     "output_type": "stream",
     "text": [
      "82\n"
     ]
    }
   ],
   "source": [
    "print(functi(10))"
   ]
  },
  {
   "cell_type": "code",
   "execution_count": 26,
   "id": "28ce3088",
   "metadata": {},
   "outputs": [
    {
     "name": "stdout",
     "output_type": "stream",
     "text": [
      "20.3 µs ± 601 ns per loop (mean ± std. dev. of 7 runs, 10,000 loops each)\n"
     ]
    }
   ],
   "source": [
    "timeit(functi(25))"
   ]
  },
  {
   "cell_type": "code",
   "execution_count": 27,
   "id": "35993fd9",
   "metadata": {},
   "outputs": [
    {
     "name": "stdout",
     "output_type": "stream",
     "text": [
      "577\n"
     ]
    }
   ],
   "source": [
    "print(functi(25))"
   ]
  },
  {
   "cell_type": "code",
   "execution_count": 28,
   "id": "22d7a939",
   "metadata": {},
   "outputs": [
    {
     "name": "stdout",
     "output_type": "stream",
     "text": [
      "330 µs ± 9.57 µs per loop (mean ± std. dev. of 7 runs, 1,000 loops each)\n"
     ]
    }
   ],
   "source": [
    "timeit(functi(100))"
   ]
  },
  {
   "cell_type": "code",
   "execution_count": 29,
   "id": "f79c53e6",
   "metadata": {},
   "outputs": [
    {
     "name": "stdout",
     "output_type": "stream",
     "text": [
      "9802\n"
     ]
    }
   ],
   "source": [
    "print(functi(100))"
   ]
  },
  {
   "cell_type": "code",
   "execution_count": 30,
   "id": "d625bbd5",
   "metadata": {},
   "outputs": [
    {
     "name": "stdout",
     "output_type": "stream",
     "text": [
      "9.2 ms ± 185 µs per loop (mean ± std. dev. of 7 runs, 100 loops each)\n"
     ]
    }
   ],
   "source": [
    "timeit(functi(500))"
   ]
  },
  {
   "cell_type": "code",
   "execution_count": 31,
   "id": "0650a1df",
   "metadata": {},
   "outputs": [
    {
     "name": "stdout",
     "output_type": "stream",
     "text": [
      "249002\n"
     ]
    }
   ],
   "source": [
    "print(functi(500))"
   ]
  },
  {
   "cell_type": "code",
   "execution_count": 32,
   "id": "359977bb",
   "metadata": {},
   "outputs": [
    {
     "name": "stdout",
     "output_type": "stream",
     "text": [
      "40.9 ms ± 1.63 ms per loop (mean ± std. dev. of 7 runs, 10 loops each)\n"
     ]
    }
   ],
   "source": [
    "timeit(functi(1000))"
   ]
  },
  {
   "cell_type": "code",
   "execution_count": 33,
   "id": "c3f3b035",
   "metadata": {},
   "outputs": [
    {
     "name": "stdout",
     "output_type": "stream",
     "text": [
      "998002\n"
     ]
    }
   ],
   "source": [
    "print(functi(1000))"
   ]
  },
  {
   "cell_type": "code",
   "execution_count": 34,
   "id": "e83fe66e",
   "metadata": {},
   "outputs": [
    {
     "name": "stdout",
     "output_type": "stream",
     "text": [
      "1.02 s ± 3.67 ms per loop (mean ± std. dev. of 7 runs, 1 loop each)\n"
     ]
    }
   ],
   "source": [
    "timeit(functi(5000))"
   ]
  },
  {
   "cell_type": "code",
   "execution_count": 35,
   "id": "d271fba5",
   "metadata": {},
   "outputs": [
    {
     "name": "stdout",
     "output_type": "stream",
     "text": [
      "24990002\n"
     ]
    }
   ],
   "source": [
    "print(functi(5000))"
   ]
  },
  {
   "cell_type": "code",
   "execution_count": null,
   "id": "5ac7d09b",
   "metadata": {},
   "outputs": [],
   "source": [
    "Bounds:\n",
    "    big O = O(n^3)\n",
    "    big Omega = Omega(n)\n",
    "    big Theta = Theta(n^2)"
   ]
  },
  {
   "cell_type": "code",
   "execution_count": 46,
   "id": "74cf8cf4",
   "metadata": {},
   "outputs": [
    {
     "data": {
      "image/png": "[encoded data removed]",
      "text/plain": [
       "<Figure size 640x480 with 1 Axes>"
      ]
     },
     "metadata": {},
     "output_type": "display_data"
    }
   ],
   "source": [
    "points = np.array([(1, .000000159), (2, .000000407), (3, .000000610), (5, .000001),(10, .000002),(25,.00002), (100,.000333),(1000,.04),(5000,1)]) \n",
    "x = points[:,0]\n",
    "y = points[:,1]\n",
    "\n",
    "a, b, c = np.polyfit(x,y,2)\n",
    "\n",
    "def fit(x):\n",
    "    return a * x**2 + b * x + c\n",
    "\n",
    "x_fit = np.linspace(min(x), max(x), 100)\n",
    "y_fit = fit(x_fit)\n",
    "\n",
    "plt.scatter(x, y, label=\"points\")\n",
    "plt.plot(x_fit, y_fit, label=\"Fit\")\n",
    "plt.legend()\n",
    "plt.show()"
   ]
  },
  {
   "cell_type": "markdown",
   "id": "150813bc",
   "metadata": {},
   "source": [
    "Zoomed in with n_o in green"
   ]
  },
  {
   "cell_type": "code",
   "execution_count": 58,
   "id": "9a3c404e",
   "metadata": {},
   "outputs": [
    {
     "data": {
      "image/png": "[encoded data removed]",
      "text/plain": [
       "<Figure size 640x480 with 1 Axes>"
      ]
     },
     "metadata": {},
     "output_type": "display_data"
    }
   ],
   "source": [
    "points2 = np.array([(1, .000000159), (2, .000000407), (3, .000000610), (5, .000001),(25,.00002)]) \n",
    "x2 = points2[:,0]\n",
    "y2 = points2[:,1]\n",
    "\n",
    "\n",
    "plt.scatter(x2, y2, label=\"points\")\n",
    "plt.scatter(x2, y2, label=\"points\")\n",
    "plt.scatter(10, .000002,c='green')\n",
    "plt.show()"
   ]
  },
  {
   "cell_type": "markdown",
   "id": "986b5da0",
   "metadata": {},
   "source": [
    "4) It will, but only marginally, especially as n gets much bigger."
   ]
  },
  {
   "cell_type": "markdown",
   "id": "86170d71",
   "metadata": {},
   "source": [
    "5) I ignored the constants, so no."
   ]
  },
  {
   "cell_type": "code",
   "execution_count": 84,
   "id": "387faa9c",
   "metadata": {},
   "outputs": [
    {
     "ename": "IndexError",
     "evalue": "list assignment index out of range",
     "output_type": "error",
     "traceback": [
      "\u001b[1;31m---------------------------------------------------------------------------\u001b[0m",
      "\u001b[1;31mIndexError\u001b[0m                                Traceback (most recent call last)",
      "Cell \u001b[1;32mIn[84], line 34\u001b[0m\n\u001b[0;32m     31\u001b[0m         mergeSort(arr, q\u001b[38;5;241m+\u001b[39m\u001b[38;5;241m1\u001b[39m, r)\n\u001b[0;32m     32\u001b[0m         merge(arr, p, q, r)\n\u001b[1;32m---> 34\u001b[0m mergeSort([\u001b[38;5;241m5\u001b[39m,\u001b[38;5;241m2\u001b[39m,\u001b[38;5;241m4\u001b[39m,\u001b[38;5;241m7\u001b[39m,\u001b[38;5;241m1\u001b[39m,\u001b[38;5;241m3\u001b[39m,\u001b[38;5;241m2\u001b[39m,\u001b[38;5;241m6\u001b[39m], \u001b[38;5;241m0\u001b[39m, \u001b[38;5;241m8\u001b[39m)\n",
      "Cell \u001b[1;32mIn[84], line 30\u001b[0m, in \u001b[0;36mmergeSort\u001b[1;34m(arr, p, r)\u001b[0m\n\u001b[0;32m     28\u001b[0m \u001b[38;5;28;01mif\u001b[39;00m (p \u001b[38;5;241m<\u001b[39m r):\n\u001b[0;32m     29\u001b[0m     q \u001b[38;5;241m=\u001b[39m math\u001b[38;5;241m.\u001b[39mfloor((p\u001b[38;5;241m+\u001b[39mr\u001b[38;5;241m-\u001b[39m\u001b[38;5;241m1\u001b[39m)\u001b[38;5;241m/\u001b[39m\u001b[38;5;241m/\u001b[39m\u001b[38;5;241m2\u001b[39m)\n\u001b[1;32m---> 30\u001b[0m     mergeSort(arr, p, q)\n\u001b[0;32m     31\u001b[0m     mergeSort(arr, q\u001b[38;5;241m+\u001b[39m\u001b[38;5;241m1\u001b[39m, r)\n\u001b[0;32m     32\u001b[0m     merge(arr, p, q, r)\n",
      "Cell \u001b[1;32mIn[84], line 30\u001b[0m, in \u001b[0;36mmergeSort\u001b[1;34m(arr, p, r)\u001b[0m\n\u001b[0;32m     28\u001b[0m \u001b[38;5;28;01mif\u001b[39;00m (p \u001b[38;5;241m<\u001b[39m r):\n\u001b[0;32m     29\u001b[0m     q \u001b[38;5;241m=\u001b[39m math\u001b[38;5;241m.\u001b[39mfloor((p\u001b[38;5;241m+\u001b[39mr\u001b[38;5;241m-\u001b[39m\u001b[38;5;241m1\u001b[39m)\u001b[38;5;241m/\u001b[39m\u001b[38;5;241m/\u001b[39m\u001b[38;5;241m2\u001b[39m)\n\u001b[1;32m---> 30\u001b[0m     mergeSort(arr, p, q)\n\u001b[0;32m     31\u001b[0m     mergeSort(arr, q\u001b[38;5;241m+\u001b[39m\u001b[38;5;241m1\u001b[39m, r)\n\u001b[0;32m     32\u001b[0m     merge(arr, p, q, r)\n",
      "Cell \u001b[1;32mIn[84], line 32\u001b[0m, in \u001b[0;36mmergeSort\u001b[1;34m(arr, p, r)\u001b[0m\n\u001b[0;32m     30\u001b[0m mergeSort(arr, p, q)\n\u001b[0;32m     31\u001b[0m mergeSort(arr, q\u001b[38;5;241m+\u001b[39m\u001b[38;5;241m1\u001b[39m, r)\n\u001b[1;32m---> 32\u001b[0m merge(arr, p, q, r)\n",
      "Cell \u001b[1;32mIn[84], line 9\u001b[0m, in \u001b[0;36mmerge\u001b[1;34m(arr, p, q, r)\u001b[0m\n\u001b[0;32m      7\u001b[0m R \u001b[38;5;241m=\u001b[39m [] \u001b[38;5;241m*\u001b[39m n2\n\u001b[0;32m      8\u001b[0m \u001b[38;5;28;01mfor\u001b[39;00m i \u001b[38;5;129;01min\u001b[39;00m \u001b[38;5;28mrange\u001b[39m(\u001b[38;5;241m0\u001b[39m, n1):\n\u001b[1;32m----> 9\u001b[0m     L[i] \u001b[38;5;241m=\u001b[39m arr[p\u001b[38;5;241m+\u001b[39mi]\n\u001b[0;32m     10\u001b[0m \u001b[38;5;28;01mfor\u001b[39;00m j \u001b[38;5;129;01min\u001b[39;00m \u001b[38;5;28mrange\u001b[39m(\u001b[38;5;241m0\u001b[39m, n2):\n\u001b[0;32m     11\u001b[0m     R[j]\u001b[38;5;241m=\u001b[39m arr(q\u001b[38;5;241m+\u001b[39mj\u001b[38;5;241m+\u001b[39m\u001b[38;5;241m1\u001b[39m)\n",
      "\u001b[1;31mIndexError\u001b[0m: list assignment index out of range"
     ]
    }
   ],
   "source": [
    "import math\n",
    "\n",
    "def merge(arr, p, q, r):\n",
    "    n1=q-p+1\n",
    "    n2=r-q\n",
    "    L = [] * n1\n",
    "    R = [] * n2\n",
    "    for i in range(0, n1):\n",
    "        L[i] = arr[p+i]\n",
    "    for j in range(0, n2):\n",
    "        R[j]= arr(q+j+1)\n",
    "    \n",
    "    L[n1+1]= float('inf')\n",
    "    R[n1+1]= float('inf')    \n",
    "        \n",
    "    i=0\n",
    "    j=0\n",
    "    \n",
    "    for k in range(p,r):\n",
    "        if L[i] <= R[j]:\n",
    "            arr[k] = L[i]\n",
    "            i = i+1\n",
    "        else:\n",
    "            arr[k]=arr[j]\n",
    "            j=j+1\n",
    "\n",
    "def mergeSort(arr, p, r):\n",
    "    if (p < r):\n",
    "        q = math.floor((p+r-1)//2)\n",
    "        mergeSort(arr, p, q)\n",
    "        mergeSort(arr, q+1, r)\n",
    "        merge(arr, p, q, r)\n",
    "        \n",
    "mergeSort([5,2,4,7,1,3,2,6], 0, 8)\n",
    "\n"
   ]
  },
  {
   "cell_type": "markdown",
   "id": "8b7b4a19",
   "metadata": {},
   "source": [
    "I'm having trouble with index out of range. Will have to figure it out later."
   ]
  }
 ],
 "metadata": {
  "kernelspec": {
   "display_name": "Python 3 (ipykernel)",
   "language": "python",
   "name": "python3"
  },
  "language_info": {
   "codemirror_mode": {
    "name": "ipython",
    "version": 3
   },
   "file_extension": ".py",
   "mimetype": "text/x-python",
   "name": "python",
   "nbconvert_exporter": "python",
   "pygments_lexer": "ipython3",
   "version": "3.11.5"
  }
 },
 "nbformat": 4,
 "nbformat_minor": 5
}

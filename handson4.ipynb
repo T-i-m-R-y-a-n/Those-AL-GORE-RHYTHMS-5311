{
 "cells": [
  {
   "cell_type": "markdown",
   "id": "8a60369e",
   "metadata": {},
   "source": [
    "Tim Ryan\n",
    "1000196736\n",
    "hands on 4\n",
    "\n",
    "SPECS Microsoft Windows OS, Lenovo x64-based laptop, Processor :Intel(R) Core(TM) i5-10210U CPU @ 1.60GHz, 2112 Mhz, 4 Core(s), 8 Logical Processor(s), Installed Physical Memory (RAM) 16.0 GB, Available Virtual Memory 11.4 GB I ran a Python3 kernel on jupyter notebook on google chrome browswer"
   ]
  },
  {
   "cell_type": "code",
   "execution_count": 2,
   "id": "71106821",
   "metadata": {},
   "outputs": [],
   "source": [
    "def fib(n):\n",
    "    if (n == 0):\n",
    "        \n",
    "        return 0\n",
    "    if (n == 1):\n",
    "        return 1\n",
    "    return fib(n-1) + fib(n-2)"
   ]
  },
  {
   "cell_type": "markdown",
   "id": "7aafebed",
   "metadata": {},
   "source": [
    "fib(0) = 0\n",
    "fib(1) = 1\n",
    "\n",
    "fib(5) needs to call fib(4) and fib(3) and then return their sum. The calling will traverse down the left [fib(n-1)] branch until it reaches fib(2) calling fib(1) and fib(0), at which point it will start returning values for the previous left-hand side of the level. The calls will then traverse down the right-hand side [fib(n-2)] in a similar manner, going down its leftmost branches and then returning when it reaches the bottom. Those right-hand values are then paired with their corresponding level's left-hand values and returned.\n",
    "\n",
    "first, fib(5) is called. It calls fib(4) and fib(3) {Level 0}\n",
    "\n",
    "fib(4) calls fib(3) and fib(2) {Level 1}\n",
    "\n",
    "fib(3) calls fib(2) and fib(1)  {Level 2}\n",
    "\n",
    "fib(2) calls fib(1) and fib(0). Their values of 1 and 0 are added and returned (1).  {Level 3}\n",
    "\n",
    "Back on level 2, fib(3) has 1 for fib(2)'s value, it then pairs this with fib(1), gets 1, and returns the sum (2).\n",
    "\n",
    "Back on level 1, fib(3) has returned 2, so now it fib(2) is called. It calls fib(1) and fib(0) and gets 1.\n",
    "Level one now has values for fib(3) and fib(2), so it adds them and returns 3 back to level 0.\n",
    "\n",
    "Back on level 0, fib(5) has received fib(4)'s value of 3. It now calls fib(3). \n",
    "\n",
    "fib(3) calls fib(2) and fib(1)  {back down a level}\n",
    "\n",
    "fib(2) calls fib(1) and fib(0). Their values of 0 and 1 are added and returned (1).\n",
    "\n",
    "Back up on the previous level, fib(3) has 1 for fib(2)'s value, it then pairs this with fib(1), gets 1, and returns the sum (2).\n",
    "\n",
    "Finally back up to level 0, fib(5) has received returned values for fib(4) and fib(3). They are summed, and then 5 is returned."
   ]
  },
  {
   "cell_type": "code",
   "execution_count": 6,
   "id": "0666bfaf",
   "metadata": {},
   "outputs": [
    {
     "data": {
      "text/plain": [
       "5"
      ]
     },
     "execution_count": 6,
     "metadata": {},
     "output_type": "execute_result"
    }
   ],
   "source": [
    "fib(5)"
   ]
  },
  {
   "cell_type": "code",
   "execution_count": 85,
   "id": "a82465e5",
   "metadata": {},
   "outputs": [
    {
     "name": "stdout",
     "output_type": "stream",
     "text": [
      "on level fib n =  5\n",
      "returning fib(s)\n",
      "on level fib n =  4\n",
      "returning fib(s)\n",
      "on level fib n =  3\n",
      "returning fib(s)\n",
      "on level fib n =  2\n",
      "returning fib(s)\n",
      "on level fib n =  1\n",
      "returning 1\n",
      "on level fib n =  0\n",
      "returning 0\n",
      "on level fib n =  1\n",
      "returning 1\n",
      "on level fib n =  2\n",
      "returning fib(s)\n",
      "on level fib n =  1\n",
      "returning 1\n",
      "on level fib n =  0\n",
      "returning 0\n",
      "on level fib n =  3\n",
      "returning fib(s)\n",
      "on level fib n =  2\n",
      "returning fib(s)\n",
      "on level fib n =  1\n",
      "returning 1\n",
      "on level fib n =  0\n",
      "returning 0\n",
      "on level fib n =  1\n",
      "returning 1\n",
      "5\n"
     ]
    }
   ],
   "source": [
    "def fibTime(n): \n",
    "    print(\"on level fib n = \", n)\n",
    "    if (n == 0):\n",
    "        print(\"returning 0\")\n",
    "        return 0\n",
    "    if (n == 1):          \n",
    "        print(\"returning 1\")\n",
    "        return 1\n",
    "    \n",
    "    print(\"returning fib(s)\")\n",
    "    return fibTime(n-1) + fibTime(n-2)    # c3 ( for any of the returns ) + c4*2 for calls to fib\n",
    "\n",
    "print(fibTime(5))"
   ]
  },
  {
   "cell_type": "markdown",
   "id": "75462532",
   "metadata": {},
   "source": [
    "Showing runtime and improvements to fib (for fun)"
   ]
  },
  {
   "cell_type": "code",
   "execution_count": 79,
   "id": "3eb29466",
   "metadata": {},
   "outputs": [
    {
     "name": "stdout",
     "output_type": "stream",
     "text": [
      "8\n",
      "25\n"
     ]
    }
   ],
   "source": [
    "counter = 0\n",
    "def fibTime(n): \n",
    "    global counter       \n",
    "    counter += 1\n",
    "    if (n == 0)            # c1\n",
    "       # print(\"at 0      count is \", count, \" n is: \", n)   \n",
    "        return 0\n",
    "    if (n == 1):          #  c2\n",
    "       # print(\"at 1      count is \", count, \" n is: \", n)\n",
    "        return 1\n",
    "   # print(\"still going count: \", count, \" n is: \", n)\n",
    "    return fibTime(n-1) + fibTime(n-2)    # c3 ( for any of the returns ) + c4*2 for calls to fib\n",
    "\n",
    "print(fibTime(6))\n",
    "print(counter)"
   ]
  },
  {
   "cell_type": "code",
   "execution_count": 80,
   "id": "ca8be319",
   "metadata": {},
   "outputs": [
    {
     "name": "stdout",
     "output_type": "stream",
     "text": [
      "55\n",
      "177\n"
     ]
    }
   ],
   "source": [
    "counter = 0\n",
    "print(fibTime(10))\n",
    "print(counter)"
   ]
  },
  {
   "cell_type": "code",
   "execution_count": 81,
   "id": "1993f797",
   "metadata": {},
   "outputs": [
    {
     "name": "stdout",
     "output_type": "stream",
     "text": [
      "75025\n",
      "242785\n"
     ]
    }
   ],
   "source": [
    "counter = 0\n",
    "print(fibTime(25))\n",
    "print(counter)"
   ]
  },
  {
   "cell_type": "markdown",
   "id": "03468554",
   "metadata": {},
   "source": [
    "As is shown above, the two if statements and the two fib recursive calls will happen whenever fib(0) and fib(1) are not returning. Fib(6) fib(10), and fib (25) have recursive counters of 2^4.5, 2^7.5, and 2^18, which are not far off from 2^n, which are in between the theta and omega cases of 2^n and 2^(n/2) which were proved in the hw."
   ]
  },
  {
   "cell_type": "markdown",
   "id": "15a6bddf",
   "metadata": {},
   "source": [
    "To improve efficiency, I would have the previously called values of fib(x) stored in a lookup table of key-value pairs. This would save lots of calls to fib() that have previously been made and calculated."
   ]
  },
  {
   "cell_type": "code",
   "execution_count": 21,
   "id": "1e756ead",
   "metadata": {},
   "outputs": [
    {
     "ename": "ValueError",
     "evalue": "cannot delete array elements",
     "output_type": "error",
     "traceback": [
      "\u001b[1;31m---------------------------------------------------------------------------\u001b[0m",
      "\u001b[1;31mValueError\u001b[0m                                Traceback (most recent call last)",
      "Cell \u001b[1;32mIn[21], line 19\u001b[0m\n\u001b[0;32m     14\u001b[0m         \u001b[38;5;28;01mdel\u001b[39;00m(p[i][j])\n\u001b[0;32m     17\u001b[0m     \u001b[38;5;28;01mreturn\u001b[39;00m final\n\u001b[1;32m---> 19\u001b[0m sortie(p, \u001b[38;5;241m4\u001b[39m, \u001b[38;5;241m3\u001b[39m)\n",
      "Cell \u001b[1;32mIn[21], line 14\u001b[0m, in \u001b[0;36msortie\u001b[1;34m(arr, k, n)\u001b[0m\n\u001b[0;32m     11\u001b[0m            mini \u001b[38;5;241m=\u001b[39m p[i][j]\n\u001b[0;32m     13\u001b[0m     final\u001b[38;5;241m.\u001b[39mappend(mini)\n\u001b[1;32m---> 14\u001b[0m     \u001b[38;5;28;01mdel\u001b[39;00m(p[i][j])\n\u001b[0;32m     17\u001b[0m \u001b[38;5;28;01mreturn\u001b[39;00m final\n",
      "\u001b[1;31mValueError\u001b[0m: cannot delete array elements"
     ]
    }
   ],
   "source": [
    "import numpy as np\n",
    "\n",
    "p = np.array([[1,3,5,7],[2,4,6,8],[0,9,10,11]])\n",
    "\n",
    "def sortie(arr, k, n):\n",
    "    final = []\n",
    "    mini = float('inf')\n",
    "    for i in range(0, k-1):\n",
    "        for j in range(0, n-1):\n",
    "            if(p[i][j] < mini):\n",
    "               mini = p[i][j]\n",
    "\n",
    "        final.append(mini)\n",
    "        del(p[i][j])\n",
    "                \n",
    "                \n",
    "    return final\n",
    "            \n",
    "sortie(p, 4, 3)"
   ]
  },
  {
   "cell_type": "markdown",
   "id": "156331ea",
   "metadata": {},
   "source": [
    "I got stuck here for a while, because I couldn't figure out how to delete elements from my array of arrays. the runtime should be (more or less) K * N."
   ]
  },
  {
   "cell_type": "code",
   "execution_count": 30,
   "id": "1b5a0960",
   "metadata": {},
   "outputs": [
    {
     "name": "stdout",
     "output_type": "stream",
     "text": [
      "[1, 2, 3, 4, 5]\n"
     ]
    }
   ],
   "source": [
    "def removeDups(arr):\n",
    "    seen = []\n",
    "    for element in arr:\n",
    "        if(arr[element] not in seen ):\n",
    "            seen.append(arr[element])\n",
    "    return seen\n",
    "print (removeDups([1,1,2,2,3,4,5,5,6]))"
   ]
  },
  {
   "cell_type": "markdown",
   "id": "e4741223",
   "metadata": {},
   "source": [
    "This is linear runtime. it just goes down the line and adds to the seen array if it's a new element. No real great way to improve much on this one that i can think of."
   ]
  }
 ],
 "metadata": {
  "kernelspec": {
   "display_name": "Python 3 (ipykernel)",
   "language": "python",
   "name": "python3"
  },
  "language_info": {
   "codemirror_mode": {
    "name": "ipython",
    "version": 3
   },
   "file_extension": ".py",
   "mimetype": "text/x-python",
   "name": "python",
   "nbconvert_exporter": "python",
   "pygments_lexer": "ipython3",
   "version": "3.11.5"
  }
 },
 "nbformat": 4,
 "nbformat_minor": 5
}
